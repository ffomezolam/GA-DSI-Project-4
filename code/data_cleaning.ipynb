{
 "cells": [
  {
   "cell_type": "code",
   "execution_count": 1,
   "id": "567bf8c4",
   "metadata": {},
   "outputs": [],
   "source": [
    "import pandas as pd\n",
    "import matplotlib.pyplot as plt"
   ]
  },
  {
   "cell_type": "code",
   "execution_count": 2,
   "id": "1e457922",
   "metadata": {},
   "outputs": [],
   "source": [
    "df = pd.read_csv('../data/US_Accidents_Dec21_updated.csv')"
   ]
  },
  {
   "cell_type": "markdown",
   "id": "30914b09",
   "metadata": {},
   "source": [
    "# Data Cleaning"
   ]
  },
  {
   "cell_type": "markdown",
   "id": "9fe8248c",
   "metadata": {},
   "source": [
    "## Addressing Missing Values and Dropping Irrelevant Columns"
   ]
  },
  {
   "cell_type": "code",
   "execution_count": 3,
   "id": "7a0daa42",
   "metadata": {},
   "outputs": [],
   "source": [
    "df.drop(['Number', 'Zipcode', 'Wind_Chill(F)', 'Airport_Code', 'Nautical_Twilight', 'Astronomical_Twilight',\n",
    "        'Weather_Timestamp'], axis = 1, inplace = True)"
   ]
  },
  {
   "cell_type": "code",
   "execution_count": 4,
   "id": "8dd79ae8",
   "metadata": {},
   "outputs": [
    {
     "data": {
      "text/html": [
       "<div>\n",
       "<style scoped>\n",
       "    .dataframe tbody tr th:only-of-type {\n",
       "        vertical-align: middle;\n",
       "    }\n",
       "\n",
       "    .dataframe tbody tr th {\n",
       "        vertical-align: top;\n",
       "    }\n",
       "\n",
       "    .dataframe thead th {\n",
       "        text-align: right;\n",
       "    }\n",
       "</style>\n",
       "<table border=\"1\" class=\"dataframe\">\n",
       "  <thead>\n",
       "    <tr style=\"text-align: right;\">\n",
       "      <th></th>\n",
       "      <th>Precipitation(in)</th>\n",
       "    </tr>\n",
       "    <tr>\n",
       "      <th>Weather_Condition</th>\n",
       "      <th></th>\n",
       "    </tr>\n",
       "  </thead>\n",
       "  <tbody>\n",
       "    <tr>\n",
       "      <th>Clear</th>\n",
       "      <td>172786</td>\n",
       "    </tr>\n",
       "    <tr>\n",
       "      <th>Overcast</th>\n",
       "      <td>72357</td>\n",
       "    </tr>\n",
       "    <tr>\n",
       "      <th>Mostly Cloudy</th>\n",
       "      <td>72029</td>\n",
       "    </tr>\n",
       "    <tr>\n",
       "      <th>Partly Cloudy</th>\n",
       "      <td>51271</td>\n",
       "    </tr>\n",
       "    <tr>\n",
       "      <th>Fair</th>\n",
       "      <td>45103</td>\n",
       "    </tr>\n",
       "    <tr>\n",
       "      <th>Scattered Clouds</th>\n",
       "      <td>44052</td>\n",
       "    </tr>\n",
       "    <tr>\n",
       "      <th>Cloudy</th>\n",
       "      <td>8959</td>\n",
       "    </tr>\n",
       "    <tr>\n",
       "      <th>Haze</th>\n",
       "      <td>6675</td>\n",
       "    </tr>\n",
       "    <tr>\n",
       "      <th>Light Rain</th>\n",
       "      <td>3908</td>\n",
       "    </tr>\n",
       "    <tr>\n",
       "      <th>Fog</th>\n",
       "      <td>3230</td>\n",
       "    </tr>\n",
       "    <tr>\n",
       "      <th>Rain</th>\n",
       "      <td>2159</td>\n",
       "    </tr>\n",
       "    <tr>\n",
       "      <th>Light Snow</th>\n",
       "      <td>2115</td>\n",
       "    </tr>\n",
       "    <tr>\n",
       "      <th>Smoke</th>\n",
       "      <td>1170</td>\n",
       "    </tr>\n",
       "    <tr>\n",
       "      <th>Thunderstorm</th>\n",
       "      <td>727</td>\n",
       "    </tr>\n",
       "    <tr>\n",
       "      <th>Light Drizzle</th>\n",
       "      <td>609</td>\n",
       "    </tr>\n",
       "    <tr>\n",
       "      <th>Fair / Windy</th>\n",
       "      <td>474</td>\n",
       "    </tr>\n",
       "    <tr>\n",
       "      <th>Mist</th>\n",
       "      <td>454</td>\n",
       "    </tr>\n",
       "    <tr>\n",
       "      <th>Light Freezing Fog</th>\n",
       "      <td>350</td>\n",
       "    </tr>\n",
       "    <tr>\n",
       "      <th>Snow</th>\n",
       "      <td>341</td>\n",
       "    </tr>\n",
       "    <tr>\n",
       "      <th>Patches of Fog</th>\n",
       "      <td>292</td>\n",
       "    </tr>\n",
       "    <tr>\n",
       "      <th>Drizzle</th>\n",
       "      <td>281</td>\n",
       "    </tr>\n",
       "    <tr>\n",
       "      <th>Heavy Rain</th>\n",
       "      <td>243</td>\n",
       "    </tr>\n",
       "    <tr>\n",
       "      <th>Cloudy / Windy</th>\n",
       "      <td>177</td>\n",
       "    </tr>\n",
       "    <tr>\n",
       "      <th>Showers in the Vicinity</th>\n",
       "      <td>156</td>\n",
       "    </tr>\n",
       "    <tr>\n",
       "      <th>Light Thunderstorms and Rain</th>\n",
       "      <td>149</td>\n",
       "    </tr>\n",
       "    <tr>\n",
       "      <th>Shallow Fog</th>\n",
       "      <td>147</td>\n",
       "    </tr>\n",
       "    <tr>\n",
       "      <th>Thunderstorms and Rain</th>\n",
       "      <td>100</td>\n",
       "    </tr>\n",
       "    <tr>\n",
       "      <th>Heavy Snow</th>\n",
       "      <td>83</td>\n",
       "    </tr>\n",
       "    <tr>\n",
       "      <th>Mostly Cloudy / Windy</th>\n",
       "      <td>83</td>\n",
       "    </tr>\n",
       "    <tr>\n",
       "      <th>Light Freezing Rain</th>\n",
       "      <td>76</td>\n",
       "    </tr>\n",
       "    <tr>\n",
       "      <th>T-Storm</th>\n",
       "      <td>73</td>\n",
       "    </tr>\n",
       "    <tr>\n",
       "      <th>Partly Cloudy / Windy</th>\n",
       "      <td>70</td>\n",
       "    </tr>\n",
       "    <tr>\n",
       "      <th>Light Rain / Windy</th>\n",
       "      <td>63</td>\n",
       "    </tr>\n",
       "    <tr>\n",
       "      <th>Thunder in the Vicinity</th>\n",
       "      <td>54</td>\n",
       "    </tr>\n",
       "    <tr>\n",
       "      <th>Blowing Snow</th>\n",
       "      <td>51</td>\n",
       "    </tr>\n",
       "    <tr>\n",
       "      <th>Heavy Thunderstorms and Rain</th>\n",
       "      <td>48</td>\n",
       "    </tr>\n",
       "    <tr>\n",
       "      <th>Light Rain Shower</th>\n",
       "      <td>45</td>\n",
       "    </tr>\n",
       "    <tr>\n",
       "      <th>Rain / Windy</th>\n",
       "      <td>33</td>\n",
       "    </tr>\n",
       "    <tr>\n",
       "      <th>Widespread Dust</th>\n",
       "      <td>31</td>\n",
       "    </tr>\n",
       "    <tr>\n",
       "      <th>Rain Showers</th>\n",
       "      <td>28</td>\n",
       "    </tr>\n",
       "    <tr>\n",
       "      <th>Light Rain Showers</th>\n",
       "      <td>28</td>\n",
       "    </tr>\n",
       "    <tr>\n",
       "      <th>Partial Fog</th>\n",
       "      <td>23</td>\n",
       "    </tr>\n",
       "    <tr>\n",
       "      <th>N/A Precipitation</th>\n",
       "      <td>22</td>\n",
       "    </tr>\n",
       "    <tr>\n",
       "      <th>Thunder</th>\n",
       "      <td>20</td>\n",
       "    </tr>\n",
       "    <tr>\n",
       "      <th>Light Rain with Thunder</th>\n",
       "      <td>19</td>\n",
       "    </tr>\n",
       "    <tr>\n",
       "      <th>Rain Shower</th>\n",
       "      <td>18</td>\n",
       "    </tr>\n",
       "    <tr>\n",
       "      <th>Light Freezing Drizzle</th>\n",
       "      <td>18</td>\n",
       "    </tr>\n",
       "    <tr>\n",
       "      <th>Heavy Drizzle</th>\n",
       "      <td>14</td>\n",
       "    </tr>\n",
       "    <tr>\n",
       "      <th>Heavy Snow / Windy</th>\n",
       "      <td>12</td>\n",
       "    </tr>\n",
       "    <tr>\n",
       "      <th>Heavy T-Storm</th>\n",
       "      <td>9</td>\n",
       "    </tr>\n",
       "  </tbody>\n",
       "</table>\n",
       "</div>"
      ],
      "text/plain": [
       "                              Precipitation(in)\n",
       "Weather_Condition                              \n",
       "Clear                                    172786\n",
       "Overcast                                  72357\n",
       "Mostly Cloudy                             72029\n",
       "Partly Cloudy                             51271\n",
       "Fair                                      45103\n",
       "Scattered Clouds                          44052\n",
       "Cloudy                                     8959\n",
       "Haze                                       6675\n",
       "Light Rain                                 3908\n",
       "Fog                                        3230\n",
       "Rain                                       2159\n",
       "Light Snow                                 2115\n",
       "Smoke                                      1170\n",
       "Thunderstorm                                727\n",
       "Light Drizzle                               609\n",
       "Fair / Windy                                474\n",
       "Mist                                        454\n",
       "Light Freezing Fog                          350\n",
       "Snow                                        341\n",
       "Patches of Fog                              292\n",
       "Drizzle                                     281\n",
       "Heavy Rain                                  243\n",
       "Cloudy / Windy                              177\n",
       "Showers in the Vicinity                     156\n",
       "Light Thunderstorms and Rain                149\n",
       "Shallow Fog                                 147\n",
       "Thunderstorms and Rain                      100\n",
       "Heavy Snow                                   83\n",
       "Mostly Cloudy / Windy                        83\n",
       "Light Freezing Rain                          76\n",
       "T-Storm                                      73\n",
       "Partly Cloudy / Windy                        70\n",
       "Light Rain / Windy                           63\n",
       "Thunder in the Vicinity                      54\n",
       "Blowing Snow                                 51\n",
       "Heavy Thunderstorms and Rain                 48\n",
       "Light Rain Shower                            45\n",
       "Rain / Windy                                 33\n",
       "Widespread Dust                              31\n",
       "Rain Showers                                 28\n",
       "Light Rain Showers                           28\n",
       "Partial Fog                                  23\n",
       "N/A Precipitation                            22\n",
       "Thunder                                      20\n",
       "Light Rain with Thunder                      19\n",
       "Rain Shower                                  18\n",
       "Light Freezing Drizzle                       18\n",
       "Heavy Drizzle                                14\n",
       "Heavy Snow / Windy                           12\n",
       "Heavy T-Storm                                 9"
      ]
     },
     "execution_count": 4,
     "metadata": {},
     "output_type": "execute_result"
    }
   ],
   "source": [
    "# Checking nulls per weather category\n",
    "pd.DataFrame(df['Precipitation(in)'].isnull().groupby(by=df['Weather_Condition']).sum().sort_values(ascending=False)).head(50)"
   ]
  },
  {
   "cell_type": "markdown",
   "id": "730b576f",
   "metadata": {},
   "source": [
    "### Filling weather condition categories with many nulls that should have no precipitation with 0"
   ]
  },
  {
   "cell_type": "code",
   "execution_count": 5,
   "id": "39f821b1",
   "metadata": {},
   "outputs": [],
   "source": [
    "df.loc[(df['Precipitation(in)'].isna()) & (df['Weather_Condition'].str.contains('Clear|Overcast|Mostly Cloudy|Partly Cloudy|Fair|Scattered Clouds', regex=True)), ['Precipitation(in)']] = 0"
   ]
  },
  {
   "cell_type": "markdown",
   "id": "7bdd5dd3",
   "metadata": {},
   "source": [
    "### Filling other weather condition categories with median"
   ]
  },
  {
   "cell_type": "code",
   "execution_count": 6,
   "id": "46fa483a",
   "metadata": {},
   "outputs": [],
   "source": [
    "df['Precipitation(in)'].fillna(df.groupby('Weather_Condition')['Precipitation(in)'].transform('median'), inplace=True)"
   ]
  },
  {
   "cell_type": "markdown",
   "id": "31293755",
   "metadata": {},
   "source": [
    "### Dropping all other nulls as they only have nulls per category"
   ]
  },
  {
   "cell_type": "code",
   "execution_count": 7,
   "id": "23cb08aa",
   "metadata": {},
   "outputs": [],
   "source": [
    "df.dropna(subset = 'Precipitation(in)', inplace = True)"
   ]
  },
  {
   "cell_type": "code",
   "execution_count": 8,
   "id": "6a7b7bed",
   "metadata": {},
   "outputs": [
    {
     "data": {
      "text/plain": [
       "Wind_Direction\n",
       "Calm        76022\n",
       "North        2907\n",
       "CALM            0\n",
       "SE              0\n",
       "WSW             0\n",
       "WNW             0\n",
       "W               0\n",
       "Variable        0\n",
       "VAR             0\n",
       "South           0\n",
       "SW              0\n",
       "SSW             0\n",
       "SSE             0\n",
       "S               0\n",
       "NW              0\n",
       "NNW             0\n",
       "NNE             0\n",
       "NE              0\n",
       "N               0\n",
       "East            0\n",
       "ESE             0\n",
       "ENE             0\n",
       "E               0\n",
       "West            0\n",
       "Name: Wind_Speed(mph), dtype: int64"
      ]
     },
     "execution_count": 8,
     "metadata": {},
     "output_type": "execute_result"
    }
   ],
   "source": [
    "df['Wind_Speed(mph)'].isnull().groupby(by=df['Wind_Direction']).sum().sort_values(ascending=False)"
   ]
  },
  {
   "cell_type": "markdown",
   "id": "ca900f9b",
   "metadata": {},
   "source": [
    "### Filling Wind_Speed nulls with category Wind_Direction: Calm with 0 and category Wind_Direction: North with 0"
   ]
  },
  {
   "cell_type": "code",
   "execution_count": 9,
   "id": "59edd553",
   "metadata": {},
   "outputs": [],
   "source": [
    "df.loc[(df['Wind_Speed(mph)'].isna()) & (df['Wind_Direction'].str.contains('Calm', regex=True)), ['Wind_Speed(mph)']] = 0"
   ]
  },
  {
   "cell_type": "code",
   "execution_count": 10,
   "id": "3369cd85",
   "metadata": {},
   "outputs": [],
   "source": [
    "df.dropna(subset = 'Wind_Speed(mph)', inplace = True)"
   ]
  },
  {
   "cell_type": "code",
   "execution_count": 11,
   "id": "71f84bd5",
   "metadata": {
    "scrolled": true
   },
   "outputs": [
    {
     "data": {
      "text/html": [
       "<div>\n",
       "<style scoped>\n",
       "    .dataframe tbody tr th:only-of-type {\n",
       "        vertical-align: middle;\n",
       "    }\n",
       "\n",
       "    .dataframe tbody tr th {\n",
       "        vertical-align: top;\n",
       "    }\n",
       "\n",
       "    .dataframe thead th {\n",
       "        text-align: right;\n",
       "    }\n",
       "</style>\n",
       "<table border=\"1\" class=\"dataframe\">\n",
       "  <thead>\n",
       "    <tr style=\"text-align: right;\">\n",
       "      <th></th>\n",
       "      <th>Temperature(F)</th>\n",
       "      <th>Humidity(%)</th>\n",
       "      <th>Pressure(in)</th>\n",
       "      <th>Visibility(mi)</th>\n",
       "      <th>Wind_Speed(mph)</th>\n",
       "      <th>Precipitation(in)</th>\n",
       "    </tr>\n",
       "  </thead>\n",
       "  <tbody>\n",
       "    <tr>\n",
       "      <th>Temperature(F)</th>\n",
       "      <td>1.000000</td>\n",
       "      <td>-0.366206</td>\n",
       "      <td>0.137220</td>\n",
       "      <td>0.210497</td>\n",
       "      <td>0.086516</td>\n",
       "      <td>-0.004348</td>\n",
       "    </tr>\n",
       "    <tr>\n",
       "      <th>Humidity(%)</th>\n",
       "      <td>-0.366206</td>\n",
       "      <td>1.000000</td>\n",
       "      <td>0.139746</td>\n",
       "      <td>-0.363129</td>\n",
       "      <td>-0.181569</td>\n",
       "      <td>0.074751</td>\n",
       "    </tr>\n",
       "    <tr>\n",
       "      <th>Pressure(in)</th>\n",
       "      <td>0.137220</td>\n",
       "      <td>0.139746</td>\n",
       "      <td>1.000000</td>\n",
       "      <td>0.035240</td>\n",
       "      <td>-0.054383</td>\n",
       "      <td>0.006759</td>\n",
       "    </tr>\n",
       "    <tr>\n",
       "      <th>Visibility(mi)</th>\n",
       "      <td>0.210497</td>\n",
       "      <td>-0.363129</td>\n",
       "      <td>0.035240</td>\n",
       "      <td>1.000000</td>\n",
       "      <td>0.037998</td>\n",
       "      <td>-0.114270</td>\n",
       "    </tr>\n",
       "    <tr>\n",
       "      <th>Wind_Speed(mph)</th>\n",
       "      <td>0.086516</td>\n",
       "      <td>-0.181569</td>\n",
       "      <td>-0.054383</td>\n",
       "      <td>0.037998</td>\n",
       "      <td>1.000000</td>\n",
       "      <td>0.022316</td>\n",
       "    </tr>\n",
       "    <tr>\n",
       "      <th>Precipitation(in)</th>\n",
       "      <td>-0.004348</td>\n",
       "      <td>0.074751</td>\n",
       "      <td>0.006759</td>\n",
       "      <td>-0.114270</td>\n",
       "      <td>0.022316</td>\n",
       "      <td>1.000000</td>\n",
       "    </tr>\n",
       "  </tbody>\n",
       "</table>\n",
       "</div>"
      ],
      "text/plain": [
       "                   Temperature(F)  Humidity(%)  Pressure(in)  Visibility(mi)  \\\n",
       "Temperature(F)           1.000000    -0.366206      0.137220        0.210497   \n",
       "Humidity(%)             -0.366206     1.000000      0.139746       -0.363129   \n",
       "Pressure(in)             0.137220     0.139746      1.000000        0.035240   \n",
       "Visibility(mi)           0.210497    -0.363129      0.035240        1.000000   \n",
       "Wind_Speed(mph)          0.086516    -0.181569     -0.054383        0.037998   \n",
       "Precipitation(in)       -0.004348     0.074751      0.006759       -0.114270   \n",
       "\n",
       "                   Wind_Speed(mph)  Precipitation(in)  \n",
       "Temperature(F)            0.086516          -0.004348  \n",
       "Humidity(%)              -0.181569           0.074751  \n",
       "Pressure(in)             -0.054383           0.006759  \n",
       "Visibility(mi)            0.037998          -0.114270  \n",
       "Wind_Speed(mph)           1.000000           0.022316  \n",
       "Precipitation(in)         0.022316           1.000000  "
      ]
     },
     "execution_count": 11,
     "metadata": {},
     "output_type": "execute_result"
    }
   ],
   "source": [
    "# Exploring what columns might be correlated to Humidity to support imputation process\n",
    "df[['Temperature(F)', 'Humidity(%)', 'Pressure(in)', 'Visibility(mi)', 'Wind_Speed(mph)', 'Precipitation(in)']].corr()"
   ]
  },
  {
   "cell_type": "code",
   "execution_count": 12,
   "id": "f5e30f92",
   "metadata": {},
   "outputs": [
    {
     "data": {
      "text/plain": [
       "0.004762606638967183"
      ]
     },
     "execution_count": 12,
     "metadata": {},
     "output_type": "execute_result"
    }
   ],
   "source": [
    "# Number of rows with null humidity compared to entire df\n",
    "13151 / df.shape[0]"
   ]
  },
  {
   "cell_type": "markdown",
   "id": "86d1dc95",
   "metadata": {},
   "source": [
    "### Dropping null humidities as they constitute a very small proportion of data and lack of domain knowledge\n"
   ]
  },
  {
   "cell_type": "code",
   "execution_count": 13,
   "id": "fd8eb447",
   "metadata": {},
   "outputs": [],
   "source": [
    "df.dropna(subset = 'Humidity(%)', inplace = True)"
   ]
  },
  {
   "cell_type": "code",
   "execution_count": 14,
   "id": "0b9875ac",
   "metadata": {},
   "outputs": [
    {
     "data": {
      "text/plain": [
       "Visibility(mi)       7949\n",
       "Weather_Condition    6600\n",
       "Sunrise_Sunset       2256\n",
       "Civil_Twilight       2256\n",
       "Pressure(in)         2001\n",
       "City                  132\n",
       "Wind_Direction         30\n",
       "Street                  1\n",
       "dtype: int64"
      ]
     },
     "execution_count": 14,
     "metadata": {},
     "output_type": "execute_result"
    }
   ],
   "source": [
    "temp = df.isna().sum().sort_values(ascending=False)\n",
    "temp = temp[temp.values > 0]\n",
    "temp"
   ]
  },
  {
   "cell_type": "code",
   "execution_count": 15,
   "id": "cfb86b47",
   "metadata": {},
   "outputs": [
    {
     "data": {
      "text/plain": [
       "Index(['Visibility(mi)', 'Weather_Condition', 'Sunrise_Sunset',\n",
       "       'Civil_Twilight', 'Pressure(in)', 'City', 'Wind_Direction', 'Street'],\n",
       "      dtype='object')"
      ]
     },
     "execution_count": 15,
     "metadata": {},
     "output_type": "execute_result"
    }
   ],
   "source": [
    "temp.index"
   ]
  },
  {
   "cell_type": "markdown",
   "id": "ee9f303d",
   "metadata": {},
   "source": [
    "### Dropping null humidities as they constitute a very small proportion of data and lack of domain knowledge"
   ]
  },
  {
   "cell_type": "code",
   "execution_count": 16,
   "id": "6117fd65",
   "metadata": {},
   "outputs": [],
   "source": [
    "df.dropna(subset = ['Visibility(mi)', 'Weather_Condition', 'Sunrise_Sunset',\n",
    "       'Civil_Twilight', 'Pressure(in)', 'City', 'Wind_Direction', 'Street'], inplace = True)"
   ]
  },
  {
   "cell_type": "markdown",
   "id": "43224dae",
   "metadata": {},
   "source": [
    "### Dropping remaining irrelevant columns"
   ]
  },
  {
   "cell_type": "code",
   "execution_count": 17,
   "id": "a5e63cb0",
   "metadata": {},
   "outputs": [],
   "source": [
    "df.drop(['ID', 'End_Time'], axis = 1, inplace = True)"
   ]
  },
  {
   "cell_type": "code",
   "execution_count": 18,
   "id": "3b2f8e44",
   "metadata": {},
   "outputs": [
    {
     "data": {
      "text/html": [
       "<div>\n",
       "<style scoped>\n",
       "    .dataframe tbody tr th:only-of-type {\n",
       "        vertical-align: middle;\n",
       "    }\n",
       "\n",
       "    .dataframe tbody tr th {\n",
       "        vertical-align: top;\n",
       "    }\n",
       "\n",
       "    .dataframe thead th {\n",
       "        text-align: right;\n",
       "    }\n",
       "</style>\n",
       "<table border=\"1\" class=\"dataframe\">\n",
       "  <thead>\n",
       "    <tr style=\"text-align: right;\">\n",
       "      <th></th>\n",
       "      <th>Severity</th>\n",
       "      <th>Start_Time</th>\n",
       "      <th>Start_Lat</th>\n",
       "      <th>Start_Lng</th>\n",
       "      <th>End_Lat</th>\n",
       "      <th>End_Lng</th>\n",
       "      <th>Distance(mi)</th>\n",
       "      <th>Description</th>\n",
       "      <th>Street</th>\n",
       "      <th>Side</th>\n",
       "      <th>...</th>\n",
       "      <th>No_Exit</th>\n",
       "      <th>Railway</th>\n",
       "      <th>Roundabout</th>\n",
       "      <th>Station</th>\n",
       "      <th>Stop</th>\n",
       "      <th>Traffic_Calming</th>\n",
       "      <th>Traffic_Signal</th>\n",
       "      <th>Turning_Loop</th>\n",
       "      <th>Sunrise_Sunset</th>\n",
       "      <th>Civil_Twilight</th>\n",
       "    </tr>\n",
       "  </thead>\n",
       "  <tbody>\n",
       "    <tr>\n",
       "      <th>0</th>\n",
       "      <td>3</td>\n",
       "      <td>2016-02-08 00:37:08</td>\n",
       "      <td>40.108910</td>\n",
       "      <td>-83.092860</td>\n",
       "      <td>40.112060</td>\n",
       "      <td>-83.031870</td>\n",
       "      <td>3.230</td>\n",
       "      <td>Between Sawmill Rd/Exit 20 and OH-315/Olentang...</td>\n",
       "      <td>Outerbelt E</td>\n",
       "      <td>R</td>\n",
       "      <td>...</td>\n",
       "      <td>False</td>\n",
       "      <td>False</td>\n",
       "      <td>False</td>\n",
       "      <td>False</td>\n",
       "      <td>False</td>\n",
       "      <td>False</td>\n",
       "      <td>False</td>\n",
       "      <td>False</td>\n",
       "      <td>Night</td>\n",
       "      <td>Night</td>\n",
       "    </tr>\n",
       "    <tr>\n",
       "      <th>1</th>\n",
       "      <td>2</td>\n",
       "      <td>2016-02-08 05:56:20</td>\n",
       "      <td>39.865420</td>\n",
       "      <td>-84.062800</td>\n",
       "      <td>39.865010</td>\n",
       "      <td>-84.048730</td>\n",
       "      <td>0.747</td>\n",
       "      <td>At OH-4/OH-235/Exit 41 - Accident.</td>\n",
       "      <td>I-70 E</td>\n",
       "      <td>R</td>\n",
       "      <td>...</td>\n",
       "      <td>False</td>\n",
       "      <td>False</td>\n",
       "      <td>False</td>\n",
       "      <td>False</td>\n",
       "      <td>False</td>\n",
       "      <td>False</td>\n",
       "      <td>False</td>\n",
       "      <td>False</td>\n",
       "      <td>Night</td>\n",
       "      <td>Night</td>\n",
       "    </tr>\n",
       "    <tr>\n",
       "      <th>2</th>\n",
       "      <td>2</td>\n",
       "      <td>2016-02-08 06:15:39</td>\n",
       "      <td>39.102660</td>\n",
       "      <td>-84.524680</td>\n",
       "      <td>39.102090</td>\n",
       "      <td>-84.523960</td>\n",
       "      <td>0.055</td>\n",
       "      <td>At I-71/US-50/Exit 1 - Accident.</td>\n",
       "      <td>I-75 S</td>\n",
       "      <td>R</td>\n",
       "      <td>...</td>\n",
       "      <td>False</td>\n",
       "      <td>False</td>\n",
       "      <td>False</td>\n",
       "      <td>False</td>\n",
       "      <td>False</td>\n",
       "      <td>False</td>\n",
       "      <td>False</td>\n",
       "      <td>False</td>\n",
       "      <td>Night</td>\n",
       "      <td>Night</td>\n",
       "    </tr>\n",
       "    <tr>\n",
       "      <th>3</th>\n",
       "      <td>2</td>\n",
       "      <td>2016-02-08 06:51:45</td>\n",
       "      <td>41.062130</td>\n",
       "      <td>-81.537840</td>\n",
       "      <td>41.062170</td>\n",
       "      <td>-81.535470</td>\n",
       "      <td>0.123</td>\n",
       "      <td>At Dart Ave/Exit 21 - Accident.</td>\n",
       "      <td>I-77 N</td>\n",
       "      <td>R</td>\n",
       "      <td>...</td>\n",
       "      <td>False</td>\n",
       "      <td>False</td>\n",
       "      <td>False</td>\n",
       "      <td>False</td>\n",
       "      <td>False</td>\n",
       "      <td>False</td>\n",
       "      <td>False</td>\n",
       "      <td>False</td>\n",
       "      <td>Night</td>\n",
       "      <td>Night</td>\n",
       "    </tr>\n",
       "    <tr>\n",
       "      <th>4</th>\n",
       "      <td>3</td>\n",
       "      <td>2016-02-08 07:53:43</td>\n",
       "      <td>39.172393</td>\n",
       "      <td>-84.492792</td>\n",
       "      <td>39.170476</td>\n",
       "      <td>-84.501798</td>\n",
       "      <td>0.500</td>\n",
       "      <td>At Mitchell Ave/Exit 6 - Accident.</td>\n",
       "      <td>I-75 S</td>\n",
       "      <td>R</td>\n",
       "      <td>...</td>\n",
       "      <td>False</td>\n",
       "      <td>False</td>\n",
       "      <td>False</td>\n",
       "      <td>False</td>\n",
       "      <td>False</td>\n",
       "      <td>False</td>\n",
       "      <td>False</td>\n",
       "      <td>False</td>\n",
       "      <td>Day</td>\n",
       "      <td>Day</td>\n",
       "    </tr>\n",
       "  </tbody>\n",
       "</table>\n",
       "<p>5 rows × 38 columns</p>\n",
       "</div>"
      ],
      "text/plain": [
       "   Severity           Start_Time  Start_Lat  Start_Lng    End_Lat    End_Lng  \\\n",
       "0         3  2016-02-08 00:37:08  40.108910 -83.092860  40.112060 -83.031870   \n",
       "1         2  2016-02-08 05:56:20  39.865420 -84.062800  39.865010 -84.048730   \n",
       "2         2  2016-02-08 06:15:39  39.102660 -84.524680  39.102090 -84.523960   \n",
       "3         2  2016-02-08 06:51:45  41.062130 -81.537840  41.062170 -81.535470   \n",
       "4         3  2016-02-08 07:53:43  39.172393 -84.492792  39.170476 -84.501798   \n",
       "\n",
       "   Distance(mi)                                        Description  \\\n",
       "0         3.230  Between Sawmill Rd/Exit 20 and OH-315/Olentang...   \n",
       "1         0.747                 At OH-4/OH-235/Exit 41 - Accident.   \n",
       "2         0.055                   At I-71/US-50/Exit 1 - Accident.   \n",
       "3         0.123                    At Dart Ave/Exit 21 - Accident.   \n",
       "4         0.500                 At Mitchell Ave/Exit 6 - Accident.   \n",
       "\n",
       "        Street Side  ... No_Exit Railway Roundabout Station   Stop  \\\n",
       "0  Outerbelt E    R  ...   False   False      False   False  False   \n",
       "1       I-70 E    R  ...   False   False      False   False  False   \n",
       "2       I-75 S    R  ...   False   False      False   False  False   \n",
       "3       I-77 N    R  ...   False   False      False   False  False   \n",
       "4       I-75 S    R  ...   False   False      False   False  False   \n",
       "\n",
       "   Traffic_Calming  Traffic_Signal  Turning_Loop  Sunrise_Sunset  \\\n",
       "0            False           False         False           Night   \n",
       "1            False           False         False           Night   \n",
       "2            False           False         False           Night   \n",
       "3            False           False         False           Night   \n",
       "4            False           False         False             Day   \n",
       "\n",
       "  Civil_Twilight  \n",
       "0          Night  \n",
       "1          Night  \n",
       "2          Night  \n",
       "3          Night  \n",
       "4            Day  \n",
       "\n",
       "[5 rows x 38 columns]"
      ]
     },
     "execution_count": 18,
     "metadata": {},
     "output_type": "execute_result"
    }
   ],
   "source": [
    "df.head()"
   ]
  },
  {
   "cell_type": "code",
   "execution_count": 19,
   "id": "e1d33cce",
   "metadata": {},
   "outputs": [],
   "source": [
    "df.drop(['End_Lat', 'End_Lng', 'Description', 'Wind_Direction', 'Country', 'Civil_Twilight'], axis = 1, inplace = True)"
   ]
  },
  {
   "cell_type": "code",
   "execution_count": 20,
   "id": "14927eb6",
   "metadata": {},
   "outputs": [],
   "source": [
    "df.drop(['Distance(mi)'], axis = 1, inplace = True)"
   ]
  },
  {
   "cell_type": "code",
   "execution_count": 21,
   "id": "4e3956ca",
   "metadata": {},
   "outputs": [
    {
     "data": {
      "text/plain": [
       "Index(['Severity', 'Start_Time', 'Start_Lat', 'Start_Lng', 'Street', 'Side',\n",
       "       'City', 'County', 'State', 'Timezone', 'Temperature(F)', 'Humidity(%)',\n",
       "       'Pressure(in)', 'Visibility(mi)', 'Wind_Speed(mph)',\n",
       "       'Precipitation(in)', 'Weather_Condition', 'Amenity', 'Bump', 'Crossing',\n",
       "       'Give_Way', 'Junction', 'No_Exit', 'Railway', 'Roundabout', 'Station',\n",
       "       'Stop', 'Traffic_Calming', 'Traffic_Signal', 'Turning_Loop',\n",
       "       'Sunrise_Sunset'],\n",
       "      dtype='object')"
      ]
     },
     "execution_count": 21,
     "metadata": {},
     "output_type": "execute_result"
    }
   ],
   "source": [
    "df.columns"
   ]
  },
  {
   "cell_type": "code",
   "execution_count": 24,
   "id": "7931d412",
   "metadata": {},
   "outputs": [],
   "source": [
    "# Exporting cleaned df to csv\n",
    "df.to_csv('../data/cleaned_df.csv')"
   ]
  },
  {
   "cell_type": "code",
   "execution_count": null,
   "id": "7957142b",
   "metadata": {},
   "outputs": [],
   "source": []
  }
 ],
 "metadata": {
  "kernelspec": {
   "display_name": "Python 3 (ipykernel)",
   "language": "python",
   "name": "python3"
  },
  "language_info": {
   "codemirror_mode": {
    "name": "ipython",
    "version": 3
   },
   "file_extension": ".py",
   "mimetype": "text/x-python",
   "name": "python",
   "nbconvert_exporter": "python",
   "pygments_lexer": "ipython3",
   "version": "3.9.12"
  }
 },
 "nbformat": 4,
 "nbformat_minor": 5
}
