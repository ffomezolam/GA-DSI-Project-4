{
 "cells": [
  {
   "cell_type": "code",
   "execution_count": 1,
   "id": "b0e8d646-a669-41b1-bb34-7e07604eafd8",
   "metadata": {},
   "outputs": [],
   "source": [
    "import pandas as pd\n",
    "import numpy as np\n",
    "import matplotlib.pyplot as plt\n",
    "\n",
    "from sklearn.cluster import KMeans\n",
    "from sklearn.metrics import silhouette_score\n",
    "from sklearn.preprocessing import StandardScaler"
   ]
  },
  {
   "cell_type": "code",
   "execution_count": 2,
   "id": "9d53d2f8-9d74-4934-b17d-7d76642c3a78",
   "metadata": {},
   "outputs": [
    {
     "data": {
      "text/plain": [
       "dtype('int64')"
      ]
     },
     "execution_count": 2,
     "metadata": {},
     "output_type": "execute_result"
    }
   ],
   "source": [
    "df = pd.read_csv('../data/ohe_data.csv')\n",
    "\n",
    "df.drop(columns='Unnamed: 0', inplace=True)\n",
    "\n",
    "df['Sunrise_Sunset'] = [0 if c == 'Night' else 1 for c in df['Sunrise_Sunset']]\n",
    "df['Sunrise_Sunset'].dtypes"
   ]
  },
  {
   "cell_type": "code",
   "execution_count": 3,
   "id": "346ac1fa-11c7-41cf-a97b-578542546693",
   "metadata": {},
   "outputs": [
    {
     "data": {
      "text/plain": [
       "0    0.900065\n",
       "1    0.099935\n",
       "Name: Severity, dtype: float64"
      ]
     },
     "execution_count": 3,
     "metadata": {},
     "output_type": "execute_result"
    }
   ],
   "source": [
    "df['Severity'].value_counts(normalize=True)"
   ]
  },
  {
   "cell_type": "code",
   "execution_count": 11,
   "id": "fbf75240-97bd-4523-8af0-ec30ed07d569",
   "metadata": {},
   "outputs": [],
   "source": [
    "fdf = df.drop(columns=['Start_Time', 'Start_Lat', 'Start_Lng'])"
   ]
  },
  {
   "cell_type": "code",
   "execution_count": 15,
   "id": "c095d521-56d8-4567-afa4-8bf6c790a0ad",
   "metadata": {},
   "outputs": [
    {
     "data": {
      "text/plain": [
       "0    0.90404\n",
       "1    0.09596\n",
       "Name: Severity, dtype: float64"
      ]
     },
     "execution_count": 15,
     "metadata": {},
     "output_type": "execute_result"
    }
   ],
   "source": [
    "# create small test dataframe\n",
    "small_df = fdf.sample(25_000)\n",
    "small_df['Severity'].value_counts(normalize=True)"
   ]
  },
  {
   "cell_type": "code",
   "execution_count": 16,
   "id": "6ffbb6fd-d8d1-4213-bfc4-fd5b0638607c",
   "metadata": {},
   "outputs": [],
   "source": [
    "# scale for clustering analysis\n",
    "ss = StandardScaler()\n",
    "sdf_ss = ss.fit_transform(small_df.drop(columns=['Severity']))"
   ]
  },
  {
   "cell_type": "code",
   "execution_count": null,
   "id": "3ef2aa41-6bef-4b77-970b-51fd5307c8fd",
   "metadata": {},
   "outputs": [
    {
     "name": "stdout",
     "output_type": "stream",
     "text": [
      "10: inertia - 2845250.264014109; sil. sc. - 0.015575619885546664\n",
      "20: inertia - 2600334.8365504583; sil. sc. - 0.043197530600394475\n",
      "30: inertia - 2365807.316805193; sil. sc. - 0.07803691779383151\n",
      "40: inertia - 2166041.797590909; sil. sc. - 0.08038494198931735\n",
      "50: inertia - 1962323.5786319734; sil. sc. - 0.09989947326087897\n",
      "60: inertia - 1755965.0012384648; sil. sc. - 0.1031354403782469\n",
      "70: inertia - 1543151.460735703; sil. sc. - 0.11599750584838851\n",
      "80: inertia - 1467746.8952168296; sil. sc. - 0.10823791994527497\n",
      "90: inertia - 1348343.5438660788; sil. sc. - 0.12277504698206704\n",
      "100: inertia - 1317826.321274452; sil. sc. - 0.11289717990964365\n",
      "110: inertia - 1298872.5701850743; sil. sc. - 0.10879657771247253\n",
      "120: inertia - 1281000.8120257142; sil. sc. - 0.09786263419106474\n",
      "130: inertia - 1264799.2160791862; sil. sc. - 0.10050261087251522\n",
      "140: inertia - 1253165.7958225398; sil. sc. - 0.10170607422190682\n"
     ]
    }
   ],
   "source": [
    "scores = []\n",
    "for k in range(10,141,10):\n",
    "    km = KMeans(n_clusters=k)\n",
    "    km.fit(sdf_ss)\n",
    "    scores.append([k, km.inertia_])\n",
    "    print(f'{k}: inertia - {km.inertia_}; sil. sc. - {silhouette_score(sdf_ss, km.labels_)}')"
   ]
  },
  {
   "cell_type": "code",
   "execution_count": 21,
   "id": "f83dbb7f-ba15-4ece-84e5-3be38dae0a12",
   "metadata": {},
   "outputs": [
    {
     "name": "stdout",
     "output_type": "stream",
     "text": [
      "80: inertia - 1437910.240260226; sil. sc. - 0.11337199638791788\n",
      "81: inertia - 1452392.6371697467; sil. sc. - 0.11086693010843897\n",
      "82: inertia - 1420067.4461575227; sil. sc. - 0.11046301389839593\n",
      "83: inertia - 1395015.8814785776; sil. sc. - 0.11394509153060792\n",
      "84: inertia - 1421993.938659459; sil. sc. - 0.11244288743161747\n",
      "85: inertia - 1414517.8985592406; sil. sc. - 0.1249890563467794\n",
      "86: inertia - 1383796.8738670428; sil. sc. - 0.1199640043983344\n",
      "87: inertia - 1397253.3520210965; sil. sc. - 0.1279625185506179\n",
      "88: inertia - 1377666.370910612; sil. sc. - 0.1127558807711444\n",
      "89: inertia - 1366679.7128369096; sil. sc. - 0.11809501202173227\n",
      "90: inertia - 1388863.1306831255; sil. sc. - 0.12367602905385691\n",
      "91: inertia - 1352903.2554381732; sil. sc. - 0.11752308828981675\n",
      "92: inertia - 1375060.5760331657; sil. sc. - 0.11163683829040193\n",
      "93: inertia - 1345034.5409877796; sil. sc. - 0.11667627355606257\n",
      "94: inertia - 1350604.0578207793; sil. sc. - 0.11238444350993591\n",
      "95: inertia - 1341267.6384041577; sil. sc. - 0.12160770256226872\n",
      "96: inertia - 1363971.3133997815; sil. sc. - 0.1101054425149909\n",
      "97: inertia - 1317585.954911927; sil. sc. - 0.11099746158449889\n",
      "98: inertia - 1336426.1494197869; sil. sc. - 0.11842827025482716\n",
      "99: inertia - 1327900.2078578486; sil. sc. - 0.11568228411339958\n"
     ]
    }
   ],
   "source": [
    "# around 90 seems most optimal\n",
    "for k in range(80,100,1):\n",
    "    km = KMeans(n_clusters=k)\n",
    "    km.fit(sdf_ss)\n",
    "    scores.append([k, km.inertia_])\n",
    "    print(f'{k}: inertia - {km.inertia_}; sil. sc. - {silhouette_score(sdf_ss, km.labels_)}')"
   ]
  },
  {
   "cell_type": "markdown",
   "id": "54c3d6d7-556d-46e8-b54e-77c6099d657c",
   "metadata": {},
   "source": [
    "This is not giving good scores. Abandon."
   ]
  },
  {
   "cell_type": "markdown",
   "id": "e8567a70-8678-49a0-b195-584b9ada3c04",
   "metadata": {},
   "source": [
    "## Try with fewer features"
   ]
  },
  {
   "cell_type": "code",
   "execution_count": 31,
   "id": "1bee504e-00d6-4e51-8ecc-eb7fddb66caa",
   "metadata": {},
   "outputs": [
    {
     "data": {
      "text/plain": [
       "(Index(['Temperature(F)', 'Humidity(%)', 'Pressure(in)', 'Visibility(mi)',\n",
       "        'Wind_Speed(mph)', 'Precipitation(in)'],\n",
       "       dtype='object'),\n",
       " Index(['wc_clouds', 'wc_dust', 'wc_fair', 'wc_fog', 'wc_ice', 'wc_rain',\n",
       "        'wc_snow', 'wc_thunder', 'wc_wind'],\n",
       "       dtype='object'))"
      ]
     },
     "execution_count": 31,
     "metadata": {},
     "output_type": "execute_result"
    }
   ],
   "source": [
    "# Weather features only\n",
    "small_df.columns[1:7], small_df.columns[20:29]"
   ]
  },
  {
   "cell_type": "code",
   "execution_count": 34,
   "id": "e43e3a88-f9ec-4e0c-b426-eb7882f60787",
   "metadata": {},
   "outputs": [],
   "source": [
    "# weather columns\n",
    "weather_cols = list(small_df.columns[1:7]) + list(small_df.columns[20:29])\n",
    "weather_df = small_df[weather_cols]"
   ]
  },
  {
   "cell_type": "code",
   "execution_count": 35,
   "id": "46fec8b5-36cf-4fae-bd29-968156602ec9",
   "metadata": {},
   "outputs": [],
   "source": [
    "ss = StandardScaler()\n",
    "wdf_ss = ss.fit_transform(weather_df)"
   ]
  },
  {
   "cell_type": "code",
   "execution_count": 39,
   "id": "d5d9892a-d433-43df-8c86-d3dd0760a586",
   "metadata": {},
   "outputs": [
    {
     "name": "stdout",
     "output_type": "stream",
     "text": [
      "4: inertia - 259596.3285492221; sil. sc. - 0.32271414099809087\n",
      "5: inertia - 231177.90796105185; sil. sc. - 0.3495565651456479\n",
      "6: inertia - 205549.11936193297; sil. sc. - 0.36466307820014093\n",
      "7: inertia - 180446.0054250816; sil. sc. - 0.3732268730738112\n",
      "8: inertia - 156976.41191856883; sil. sc. - 0.37930459127580257\n",
      "9: inertia - 131931.91529602534; sil. sc. - 0.3981221474312042\n",
      "10: inertia - 112896.47024829878; sil. sc. - 0.398658343828902\n",
      "11: inertia - 100097.55302819115; sil. sc. - 0.4113648830729991\n",
      "12: inertia - 89298.26045695662; sil. sc. - 0.3462787270142472\n",
      "13: inertia - 81640.85265798401; sil. sc. - 0.3030284984324199\n",
      "14: inertia - 76270.9000165284; sil. sc. - 0.3054638726259491\n",
      "15: inertia - 73580.92327160662; sil. sc. - 0.2611952223503386\n"
     ]
    }
   ],
   "source": [
    "scores = []\n",
    "for k in range(4,16,1):\n",
    "    km = KMeans(n_clusters=k)\n",
    "    km.fit(wdf_ss)\n",
    "    scores.append([k, km.inertia_])\n",
    "    print(f'{k}: inertia - {km.inertia_}; sil. sc. - {silhouette_score(wdf_ss, km.labels_)}')"
   ]
  },
  {
   "cell_type": "code",
   "execution_count": 44,
   "id": "bd89cacf-1105-48d2-a6ed-b7438d3b62c1",
   "metadata": {},
   "outputs": [
    {
     "name": "stdout",
     "output_type": "stream",
     "text": [
      "inertia: 431198.00098080083; sil. sc.: 0.35085061790367233\n"
     ]
    }
   ],
   "source": [
    "# 11 looks optimal on 25k points, not bad sil. score. Try on bigger set\n",
    "fwdf = fdf.sample(100_000)\n",
    "fwdf_ss = ss.fit_transform(fwdf[weather_cols])\n",
    "km = KMeans(n_clusters = 11)\n",
    "km.fit(fwdf_ss)\n",
    "print(f'inertia: {km.inertia_}; sil. sc.: {silhouette_score(fwdf_ss, km.labels_)}')"
   ]
  },
  {
   "cell_type": "markdown",
   "id": "dc5f80d4-b352-44fc-8c74-74c8efb3a950",
   "metadata": {},
   "source": [
    "The above took quite a bit of time, and is still only a small subsection of the data. As can be seen, 0.35 silhouette score is a bit lower than the 0.41 for 25,000 data points. The time and resource costs of running a KMeans Clustering on the full dataset is prohibitive. Abandon."
   ]
  }
 ],
 "metadata": {
  "kernelspec": {
   "display_name": "Python 3 (ipykernel)",
   "language": "python",
   "name": "python3"
  },
  "language_info": {
   "codemirror_mode": {
    "name": "ipython",
    "version": 3
   },
   "file_extension": ".py",
   "mimetype": "text/x-python",
   "name": "python",
   "nbconvert_exporter": "python",
   "pygments_lexer": "ipython3",
   "version": "3.10.4"
  }
 },
 "nbformat": 4,
 "nbformat_minor": 5
}
