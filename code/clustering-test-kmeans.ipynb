{
 "cells": [
  {
   "cell_type": "code",
   "execution_count": 1,
   "id": "b0e8d646-a669-41b1-bb34-7e07604eafd8",
   "metadata": {},
   "outputs": [],
   "source": [
    "import pandas as pd\n",
    "import numpy as np\n",
    "import matplotlib.pyplot as plt\n",
    "\n",
    "from sklearn.cluster import KMeans\n",
    "from sklearn.metrics import silhouette_score\n",
    "from sklearn.preprocessing import StandardScaler"
   ]
  },
  {
   "cell_type": "code",
   "execution_count": 2,
   "id": "9d53d2f8-9d74-4934-b17d-7d76642c3a78",
   "metadata": {},
   "outputs": [
    {
     "data": {
      "text/plain": [
       "dtype('int64')"
      ]
     },
     "execution_count": 2,
     "metadata": {},
     "output_type": "execute_result"
    }
   ],
   "source": [
    "df = pd.read_csv('../data/ohe_data.csv')\n",
    "\n",
    "df.drop(columns='Unnamed: 0', inplace=True)\n",
    "\n",
    "df['Sunrise_Sunset'] = [0 if c == 'Night' else 1 for c in df['Sunrise_Sunset']]\n",
    "df['Sunrise_Sunset'].dtypes"
   ]
  },
  {
   "cell_type": "code",
   "execution_count": 3,
   "id": "346ac1fa-11c7-41cf-a97b-578542546693",
   "metadata": {},
   "outputs": [
    {
     "data": {
      "text/plain": [
       "0    0.900065\n",
       "1    0.099935\n",
       "Name: Severity, dtype: float64"
      ]
     },
     "execution_count": 3,
     "metadata": {},
     "output_type": "execute_result"
    }
   ],
   "source": [
    "df['Severity'].value_counts(normalize=True)"
   ]
  },
  {
   "cell_type": "code",
   "execution_count": 4,
   "id": "f85dc81d-67ef-43b8-9c2f-24dc54e23777",

   "metadata": {},
   "outputs": [
    {
     "data": {
      "text/plain": [
       "0    0.90404\n",
       "1    0.09596\n",
       "Name: Severity, dtype: float64"
      ]
     },
     "execution_count": 4,
     "metadata": {},
     "output_type": "execute_result"
    }
   ],
   "source": [
    "# create small test dataframe\n",
    "small_df = fdf.sample(25_000)\n",
    "small_df['Severity'].value_counts(normalize=True)"
   ]
  },
  {
   "cell_type": "code",
   "execution_count": 5,
   "id": "031054b1-f2e4-4e06-b1c5-bfeb4e08b50c",

   "metadata": {},
   "outputs": [],
   "source": [
    "# scale for clustering analysis\n",
    "ss = StandardScaler()\n",
    "sdf_ss = ss.fit_transform(small_df.drop(columns=['Severity']))"
   ]
  },
  {
   "cell_type": "code",
   "execution_count": 6,
   "id": "3ef2aa41-6bef-4b77-970b-51fd5307c8fd",
   "metadata": {},
   "outputs": [
    {
     "name": "stdout",
     "output_type": "stream",
     "text": [
      "50: inertia - 3313565.4725475227; sil. sc. - 0.12187353829774644\n",
      "60: inertia - 2822306.054124759; sil. sc. - 0.1505045744513503\n",
      "70: inertia - 2553737.0919758705; sil. sc. - 0.16056819273985284\n",
      "80: inertia - 2347451.8677110146; sil. sc. - 0.15686078627119016\n",
      "90: inertia - 2218720.9812716935; sil. sc. - 0.14847466114847252\n",
      "100: inertia - 2136514.582605255; sil. sc. - 0.1432005112356197\n",
      "110: inertia - 2082134.4059141988; sil. sc. - 0.13926533774490157\n",
      "120: inertia - 2021257.4915352573; sil. sc. - 0.14491145257370014\n",
      "130: inertia - 1969407.6656587443; sil. sc. - 0.14625027788689948\n",
      "140: inertia - 1941038.43836347; sil. sc. - 0.14369975588249892\n"
     ]
    }
   ],
   "source": [
    "scores = []\n",
    "for k in range(10,141,10):\n",
    "    km = KMeans(n_clusters=k)\n",
    "    km.fit(sdf_ss)\n",
    "    scores.append([k, km.inertia_])\n",
    "    print(f'{k}: inertia - {km.inertia_}; sil. sc. - {silhouette_score(sdf_ss, km.labels_)}')"
   ]
  },
  {
   "cell_type": "code",
   "execution_count": 7,
   "id": "f83dbb7f-ba15-4ece-84e5-3be38dae0a12",
   "metadata": {},
   "outputs": [
    {
     "name": "stdout",
     "output_type": "stream",
     "text": [
      "60: inertia - 2836741.9398328224; sil. sc. - 0.16359112301804743\n",
      "61: inertia - 2846061.4950390155; sil. sc. - 0.13674738874175973\n",
      "62: inertia - 2837181.5864065653; sil. sc. - 0.15659902592540886\n",
      "63: inertia - 2822829.0809917683; sil. sc. - 0.14122536569252692\n",
      "64: inertia - 2734469.469527257; sil. sc. - 0.14848090649044662\n",
      "65: inertia - 2733802.601371605; sil. sc. - 0.15779192847709697\n",
      "66: inertia - 2698561.99453916; sil. sc. - 0.14621833837877457\n",
      "67: inertia - 2635548.7531827064; sil. sc. - 0.14758102242966611\n",
      "68: inertia - 2593762.6941094017; sil. sc. - 0.15798177517964965\n",
      "69: inertia - 2616385.9888505824; sil. sc. - 0.14708664294381368\n",
      "70: inertia - 2569636.579710776; sil. sc. - 0.12788002355258066\n",
      "71: inertia - 2531651.519083031; sil. sc. - 0.16199632654497761\n",
      "72: inertia - 2507076.1540872105; sil. sc. - 0.15324175305288557\n",
      "73: inertia - 2502311.5736236777; sil. sc. - 0.1491149139030701\n",
      "74: inertia - 2472112.075041918; sil. sc. - 0.1540437463168656\n",
      "75: inertia - 2456603.4140201663; sil. sc. - 0.1543697216994947\n",
      "76: inertia - 2437994.543867453; sil. sc. - 0.15106893143061267\n",
      "77: inertia - 2400161.6027537407; sil. sc. - 0.15786512461487634\n",
      "78: inertia - 2390174.244791641; sil. sc. - 0.1604652531626045\n",
      "79: inertia - 2397169.1725763576; sil. sc. - 0.15396301732386183\n"
     ]
    }
   ],
   "source": [
    "# around 90 seems most optimal\n",
    "for k in range(80,100,1):\n",
    "    km = KMeans(n_clusters=k)\n",
    "    km.fit(sdf_ss)\n",
    "    scores.append([k, km.inertia_])\n",
    "    print(f'{k}: inertia - {km.inertia_}; sil. sc. - {silhouette_score(sdf_ss, km.labels_)}')"
   ]
  },
  {
   "cell_type": "markdown",
   "id": "54c3d6d7-556d-46e8-b54e-77c6099d657c",
   "metadata": {},
   "source": [
    "This is not giving good scores. Abandon."
   ]
  },
  {
   "cell_type": "markdown",
   "id": "e8567a70-8678-49a0-b195-584b9ada3c04",
   "metadata": {},
   "source": [
    "## Try with fewer features"
   ]
  },
  {
   "cell_type": "code",
   "execution_count": 8,
   "id": "d897dc8b-f4aa-4c06-befd-d9d73e15c2b7",
   "metadata": {},
   "outputs": [
    {
     "data": {
      "text/plain": [
       "(Index(['Temperature(F)', 'Humidity(%)', 'Pressure(in)', 'Visibility(mi)',\n",
       "        'Wind_Speed(mph)', 'Precipitation(in)'],\n",
       "       dtype='object'),\n",
       " Index(['wc_clouds', 'wc_dust', 'wc_fair', 'wc_fog', 'wc_ice', 'wc_rain',\n",
       "        'wc_snow', 'wc_thunder', 'wc_wind'],\n",
       "       dtype='object'))"
      ]
     },
     "execution_count": 8,
     "metadata": {},
     "output_type": "execute_result"
    }
   ],
   "source": [
    "# Weather features only\n",
    "small_df.columns[1:7], small_df.columns[20:29]"
   ]
  },
  {
   "cell_type": "code",
   "execution_count": 9,
   "id": "12835f4a-bc78-45f4-9f4f-1842051768db",
   "metadata": {},
   "outputs": [],
   "source": [
    "ss = StandardScaler()\n",
    "wdf_ss = ss.fit_transform(weather_df)"
   ]
  },
  {
   "cell_type": "code",
   "execution_count": 10,
   "id": "cec2e79b-b0b4-485e-beac-12b2f4f8e9d7",
   "metadata": {},
   "outputs": [
    {
     "name": "stdout",
     "output_type": "stream",
     "text": [
      "70: inertia - 15102963.923698124; sil. sc. - 0.12153038322906985\n",
      "71: inertia - 14881413.903198672; sil. sc. - 0.12815005126500925\n",
      "72: inertia - 14819377.30846994; sil. sc. - 0.13382105740883685\n",
      "73: inertia - 14856922.529910833; sil. sc. - 0.11568998946338367\n",
      "74: inertia - 14295920.398657776; sil. sc. - 0.12659499749994202\n"
     ]
    }
   ],
   "source": [
    "scores = []\n",
    "for k in range(4,16,1):\n",
    "    km = KMeans(n_clusters=k)\n",
    "    km.fit(wdf_ss)\n",
    "    scores.append([k, km.inertia_])\n",
    "    print(f'{k}: inertia - {km.inertia_}; sil. sc. - {silhouette_score(wdf_ss, km.labels_)}')"
   ]
  },
  {
   "cell_type": "code",
   "execution_count": 44,
   "id": "bd89cacf-1105-48d2-a6ed-b7438d3b62c1",
   "metadata": {},
   "outputs": [
    {
     "name": "stdout",
     "output_type": "stream",
     "text": [
      "inertia: 431198.00098080083; sil. sc.: 0.35085061790367233\n"
     ]
    }
   ],
   "source": [
    "# 11 looks optimal on 25k points, not bad sil. score. Try on bigger set\n",
    "fwdf = fdf.sample(100_000)\n",
    "fwdf_ss = ss.fit_transform(fwdf[weather_cols])\n",
    "km = KMeans(n_clusters = 11)\n",
    "km.fit(fwdf_ss)\n",
    "print(f'inertia: {km.inertia_}; sil. sc.: {silhouette_score(fwdf_ss, km.labels_)}')"
   ]
  },
  {
   "cell_type": "markdown",
   "id": "dc5f80d4-b352-44fc-8c74-74c8efb3a950",
   "metadata": {},
   "source": [
    "The above took quite a bit of time, and is still only a small subsection of the data. As can be seen, 0.35 silhouette score is a bit lower than the 0.41 for 25,000 data points. The time and resource costs of running a KMeans Clustering on the full dataset is prohibitive. Abandon."
   ]
  }
 ],
 "metadata": {
  "kernelspec": {
   "display_name": "Python 3 (ipykernel)",
   "language": "python",
   "name": "python3"
  },
  "language_info": {
   "codemirror_mode": {
    "name": "ipython",
    "version": 3
   },
   "file_extension": ".py",
   "mimetype": "text/x-python",
   "name": "python",
   "nbconvert_exporter": "python",
   "pygments_lexer": "ipython3",
   "version": "3.9.12"
  }
 },
 "nbformat": 4,
 "nbformat_minor": 5
}
