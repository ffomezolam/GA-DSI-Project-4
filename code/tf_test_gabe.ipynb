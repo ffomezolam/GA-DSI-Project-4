{
 "cells": [
  {
   "cell_type": "code",
   "execution_count": 1,
   "id": "eebd7690-e97a-47b4-aaa6-857cab5c23a5",
   "metadata": {},
   "outputs": [],
   "source": [
    "import pandas as pd\n",
    "import numpy as np\n",
    "import matplotlib.pyplot as plt\n",
    "from sklearn.model_selection import train_test_split\n",
    "from sklearn.preprocessing import StandardScaler\n",
    "from tensorflow.keras.models import Sequential\n",
    "from tensorflow.keras.layers import Dense\n",
    "from tensorflow.keras.layers import Dropout\n",
    "from tensorflow import keras\n",
    "import seaborn as sns\n",
    "from sklearn.metrics import confusion_matrix\n",
    "from imblearn.over_sampling import RandomOverSampler"
   ]
  },
  {
   "cell_type": "code",
   "execution_count": 2,
   "id": "89c50c7f-7f8f-4430-95b6-cac24aab68e0",
   "metadata": {},
   "outputs": [],
   "source": [
    "def change_bool(df):\n",
    "    df = df.replace({False: 0, True: 1})\n",
    "    return df"
   ]
  },
  {
   "cell_type": "code",
   "execution_count": 3,
   "id": "0d3e0adf-8596-4b7a-a41d-efbea9ec5b12",
   "metadata": {},
   "outputs": [],
   "source": [
    "def change_dn(df):\n",
    "    df = df.replace({'Day': 0, 'Night': 1})\n",
    "    return df"
   ]
  },
  {
   "cell_type": "code",
   "execution_count": 4,
   "id": "2d9b1b80-145a-4326-8cdb-5681507f8bd9",
   "metadata": {},
   "outputs": [],
   "source": [
    "df = pd.read_csv('ohe_data.csv')"
   ]
  },
  {
   "cell_type": "code",
   "execution_count": 5,
   "id": "6fc9403d-dd9d-4b90-a348-5917f01644cb",
   "metadata": {},
   "outputs": [],
   "source": [
    "df.set_index('Unnamed: 0',inplace=True)"
   ]
  },
  {
   "cell_type": "code",
   "execution_count": 6,
   "id": "59d54c50-7b0c-4b8c-a759-a058405f7ad1",
   "metadata": {},
   "outputs": [],
   "source": [
    "X = df[['Temperature(F)','Humidity(%)','Pressure(in)','Visibility(mi)','Wind_Speed(mph)','Precipitation(in)','Amenity','Bump','Crossing','Give_Way','Junction','No_Exit','Railway','Roundabout','Station','Stop','Traffic_Calming','Traffic_Signal','Sunrise_Sunset','wc_clouds','wc_dust','wc_fair','wc_fog','wc_ice','wc_rain','wc_snow','wc_thunder','wc_wind','st_interstate','st_highway','st_other','State_AL','State_AR','State_AZ','State_CA','State_CO','State_CT','State_DC','State_DE','State_FL','State_GA','State_IA','State_ID','State_IL','State_IN','State_KS','State_KY','State_LA','State_MA','State_MD','State_ME','State_MI','State_MN','State_MO','State_MS','State_MT','State_NC','State_ND','State_NE','State_NH','State_NJ','State_NM','State_NV','State_NY','State_OH','State_OK','State_OR','State_PA','State_RI','State_SC','State_SD','State_TN','State_TX','State_UT','State_VA','State_VT','State_WA','State_WI','State_WV','State_WY','Side_L','Side_R','Timezone_US/Central','Timezone_US/Eastern','Timezone_US/Mountain','Timezone_US/Pacific','year_2016','year_2017','year_2018','year_2019','year_2020','year_2021','month_1','month_2','month_3','month_4','month_5','month_6','month_7','month_8','month_9','month_10','month_11','month_12','hour_0','hour_1','hour_2','hour_3','hour_4','hour_5','hour_6','hour_7','hour_8','hour_9','hour_10','hour_11','hour_12','hour_13','hour_14','hour_15','hour_16','hour_17','hour_18','hour_19','hour_20','hour_21','hour_22','hour_23']]"
   ]
  },
  {
   "cell_type": "code",
   "execution_count": 7,
   "id": "64f5aecf-3db9-4e34-9d01-59f8eb916f6b",
   "metadata": {},
   "outputs": [],
   "source": [
    "X = change_dn(change_bool(X))"
   ]
  },
  {
   "cell_type": "code",
   "execution_count": 8,
   "id": "6796dd58-94e4-40a7-8135-0d5962b98a95",
   "metadata": {},
   "outputs": [],
   "source": [
    "y = df['Severity']"
   ]
  },
  {
   "cell_type": "code",
   "execution_count": 9,
   "id": "7c81242e-1062-4a7d-94a3-7b000f622fde",
   "metadata": {},
   "outputs": [],
   "source": [
    "oversample = RandomOverSampler(sampling_strategy=0.5, random_state=42)\n",
    "X_over, y_over = oversample.fit_resample(X, y)"
   ]
  },
  {
   "cell_type": "code",
   "execution_count": 10,
   "id": "9627b968-e6c7-4206-975d-a92cd91ffd24",
   "metadata": {},
   "outputs": [
    {
     "data": {
      "text/plain": [
       "0    0.666667\n",
       "1    0.333333\n",
       "Name: Severity, dtype: float64"
      ]
     },
     "execution_count": 10,
     "metadata": {},
     "output_type": "execute_result"
    }
   ],
   "source": [
    "y_over.value_counts(normalize=True)"
   ]
  },
  {
   "cell_type": "code",
   "execution_count": 11,
   "id": "6365c930-b453-46d0-8a9c-1b697b342e79",
   "metadata": {},
   "outputs": [],
   "source": [
    "X_train, X_test, y_train, y_test = train_test_split(X_over, y_over, random_state=42, stratify=y_over)"
   ]
  },
  {
   "cell_type": "code",
   "execution_count": 12,
   "id": "f7370d52-1e70-4fd1-992a-c0675c5d84db",
   "metadata": {},
   "outputs": [],
   "source": [
    "# Scale data\n",
    "sc = StandardScaler()\n",
    "X_train = sc.fit_transform(X_train)\n",
    "X_test = sc.transform(X_test)"
   ]
  },
  {
   "cell_type": "code",
   "execution_count": null,
   "id": "064f318d-1cfd-45b8-aaa2-6ba59fa80f46",
   "metadata": {},
   "outputs": [],
   "source": [
    "# Insert model here...\n",
    "# can we optimize anything here\n",
    "from tensorflow.keras import Input\n",
    "\n",
    "model = Sequential()\n",
    "\n",
    "# input layer w/128 nodes\n",
    "model.add(Input(shape=X.shape[1]))\n",
    "\n",
    "# hidden w/ 100 nodes\n",
    "model.add(Dense(100, activation='relu'))\n",
    "\n",
    "# hidden w/ 50 nodes\n",
    "model.add(Dense(50, activation='relu'))\n",
    "\n",
    "# hidden w/ 10 nodes\n",
    "model.add(Dense(10, activation='relu'))\n",
    "# output\n",
    "model.add(Dense(1, activation='sigmoid'))\n",
    "\n",
    "\n",
    "# Compile it\n",
    "model.compile(optimizer='adam',\n",
    "              loss='binary_crossentropy',\n",
    "              metrics=['acc'], )\n",
    "\n",
    "#Fit it\n",
    "history = model.fit(\n",
    "        X_train,\n",
    "        y_train,\n",
    "        validation_data=(X_test, y_test),\n",
    "        verbose=1, \n",
    "        epochs=10\n",
    ")"
   ]
  },
  {
   "cell_type": "code",
   "execution_count": null,
   "id": "d489cec0-ee52-4874-bb9f-1fa5d77cbe7e",
   "metadata": {},
   "outputs": [],
   "source": [
    "model.save('model1')"
   ]
  },
  {
   "cell_type": "code",
   "execution_count": 11,
   "id": "760d3d42-3b62-4cda-9172-9793c4072641",
   "metadata": {},
   "outputs": [],
   "source": [
    "model1 = keras.models.load_model('model1')"
   ]
  },
  {
   "cell_type": "code",
   "execution_count": null,
   "id": "ebe444b0-5850-4d1a-b949-56f0b474b7ce",
   "metadata": {},
   "outputs": [],
   "source": [
    "ss= StandardScaler()\n",
    "X = ss.fit_transform(X)"
   ]
  },
  {
   "cell_type": "code",
   "execution_count": null,
   "id": "f2785b3d-d9b7-45c6-8a48-8e95a5915d62",
   "metadata": {},
   "outputs": [],
   "source": [
    "y_pred = model1.predict(X)"
   ]
  },
  {
   "cell_type": "code",
   "execution_count": null,
   "id": "a3699145-c8a4-4177-b650-596386270b19",
   "metadata": {},
   "outputs": [],
   "source": [
    "y_pred = np.argmax(y_pred, axis=1)"
   ]
  },
  {
   "cell_type": "code",
   "execution_count": null,
   "id": "c851e5ab-53da-42b7-aa85-a8415f0d21a9",
   "metadata": {},
   "outputs": [],
   "source": [
    "np.mean(y_pred)"
   ]
  },
  {
   "cell_type": "code",
   "execution_count": null,
   "id": "ae3f1935-1837-4ee8-b789-2dd5e0b03962",
   "metadata": {},
   "outputs": [],
   "source": [
    "y.value_counts()"
   ]
  },
  {
   "cell_type": "code",
   "execution_count": null,
   "id": "a4e329db-670f-4836-b364-4c0d686fe410",
   "metadata": {},
   "outputs": [],
   "source": [
    "sns.heatmap(confusion_matrix(y, y_pred,normalize='true'), annot=True)"
   ]
  },
  {
   "cell_type": "code",
   "execution_count": null,
   "id": "062a7113-2641-4bb2-a555-068e29d8a0f6",
   "metadata": {},
   "outputs": [],
   "source": [
    "\n",
    "# Visualize the loss\n",
    "train_loss = history.history['loss']\n",
    "test_loss = history.history['val_loss']\n",
    "\n",
    "plt.figure(figsize=(12, 8))\n",
    "plt.plot(train_loss, label='Training loss', color='navy')\n",
    "plt.plot(test_loss, label='Testing loss', color='skyblue')\n",
    "plt.legend();"
   ]
  },
  {
   "cell_type": "code",
   "execution_count": 14,
   "id": "5855cda7-efe0-49d8-bb25-fb859bd5f373",
   "metadata": {},
   "outputs": [
    {
     "name": "stdout",
     "output_type": "stream",
     "text": [
      "Epoch 1/5\n",
      "86419/86419 [==============================] - 312s 4ms/step - loss: 0.3472 - acc: 0.8500 - val_loss: 0.3326 - val_acc: 0.8560\n",
      "Epoch 2/5\n",
      "86419/86419 [==============================] - 348s 4ms/step - loss: 0.3364 - acc: 0.8547 - val_loss: 0.3317 - val_acc: 0.8570\n",
      "Epoch 3/5\n",
      "86419/86419 [==============================] - 384s 4ms/step - loss: 0.3343 - acc: 0.8557 - val_loss: 0.3322 - val_acc: 0.8579\n",
      "Epoch 4/5\n",
      "86419/86419 [==============================] - 396s 5ms/step - loss: 0.3329 - acc: 0.8563 - val_loss: 0.3293 - val_acc: 0.8585\n",
      "Epoch 5/5\n",
      "86419/86419 [==============================] - 399s 5ms/step - loss: 0.3323 - acc: 0.8568 - val_loss: 0.3301 - val_acc: 0.8586\n"
     ]
    }
   ],
   "source": [
    "# Insert model here...\n",
    "# can we optimize anything here\n",
    "from tensorflow.keras import Input\n",
    "\n",
    "model2 = Sequential()\n",
    "\n",
    "# input layer w/128 nodes\n",
    "model2.add(Input(shape=X.shape[1]))\n",
    "\n",
    "# hidden w/ 100 nodes\n",
    "model2.add(Dense(100, activation='relu'))\n",
    "model2.add(Dropout(0.3))\n",
    "# hidden w/ 50 nodes\n",
    "model2.add(Dense(50, activation='relu'))\n",
    "model2.add(Dropout(0.3))\n",
    "# hidden w/ 10 nodes\n",
    "model2.add(Dense(10, activation='relu'))\n",
    "# output\n",
    "model2.add(Dense(1, activation='sigmoid'))\n",
    "\n",
    "\n",
    "# Compile it\n",
    "model2.compile(optimizer='adam',\n",
    "              loss='binary_crossentropy',\n",
    "              metrics=['acc'], )\n",
    "\n",
    "#Fit it\n",
    "history2 = model2.fit(\n",
    "        X_train,\n",
    "        y_train,\n",
    "        validation_data=(X_test, y_test),\n",
    "        verbose=1, \n",
    "        epochs=5\n",
    ")"
   ]
  },
  {
   "cell_type": "code",
   "execution_count": null,
   "id": "6da64860-e05b-4744-8dde-82a51f9efdba",
   "metadata": {},
   "outputs": [],
   "source": [
    "# Visualize the loss\n",
    "train_loss = history2.history['loss']\n",
    "test_loss = history2.history['val_loss']\n",
    "\n",
    "plt.figure(figsize=(12, 8))\n",
    "plt.plot(train_loss, label='Training loss', color='navy')\n",
    "plt.plot(test_loss, label='Testing loss', color='skyblue')\n",
    "plt.legend();"
   ]
  },
  {
   "cell_type": "code",
   "execution_count": 15,
   "id": "d0c894d0-25b4-4478-8336-3afd01254788",
   "metadata": {},
   "outputs": [
    {
     "name": "stdout",
     "output_type": "stream",
     "text": [
      "85346/85346 [==============================] - 94s 1ms/step\n"
     ]
    }
   ],
   "source": [
    "y_pred = model2.predict(X)"
   ]
  },
  {
   "cell_type": "code",
   "execution_count": 17,
   "id": "12f8af9d-835f-4cb0-9533-048d41a71d96",
   "metadata": {},
   "outputs": [
    {
     "data": {
      "text/plain": [
       "array([[0.44037452],\n",
       "       [0.9336162 ],\n",
       "       [0.9284226 ],\n",
       "       ...,\n",
       "       [0.15525164],\n",
       "       [0.21645571],\n",
       "       [0.12551174]], dtype=float32)"
      ]
     },
     "execution_count": 17,
     "metadata": {},
     "output_type": "execute_result"
    }
   ],
   "source": [
    "y_pred"
   ]
  },
  {
   "cell_type": "code",
   "execution_count": 26,
   "id": "72876d0d-a039-485b-bbae-8b9ead1e53aa",
   "metadata": {},
   "outputs": [
    {
     "data": {
      "text/plain": [
       "2731050"
      ]
     },
     "execution_count": 26,
     "metadata": {},
     "output_type": "execute_result"
    }
   ],
   "source": [
    "len(y)"
   ]
  },
  {
   "cell_type": "code",
   "execution_count": 27,
   "id": "a15010f4-98b0-428d-9fb4-5a826b8a2d82",
   "metadata": {},
   "outputs": [
    {
     "data": {
      "text/plain": [
       "2731050"
      ]
     },
     "execution_count": 27,
     "metadata": {},
     "output_type": "execute_result"
    }
   ],
   "source": [
    "len(y_pred)"
   ]
  },
  {
   "cell_type": "code",
   "execution_count": 57,
   "id": "90405b98-bf8e-44bf-8776-4a966be532ea",
   "metadata": {},
   "outputs": [],
   "source": [
    "y_test = [0 if val <.1 else 1 for val in y_pred ] "
   ]
  },
  {
   "cell_type": "code",
   "execution_count": 58,
   "id": "410d6739-aa9a-4ac1-9a8c-7da91ad620b9",
   "metadata": {},
   "outputs": [
    {
     "data": {
      "text/plain": [
       "<AxesSubplot:>"
      ]
     },
     "execution_count": 58,
     "metadata": {},
     "output_type": "execute_result"
    },
    {
     "data": {
      "image/png": "[encoded data removed]",
      "text/plain": [
       "<Figure size 432x288 with 2 Axes>"
      ]
     },
     "metadata": {
      "needs_background": "light"
     },
     "output_type": "display_data"
    }
   ],
   "source": [
    "sns.heatmap(confusion_matrix(y, y_test,normalize='true'), annot=True)"
   ]
  },
  {
   "cell_type": "code",
   "execution_count": null,
   "id": "9d85dd3f-7cc6-49c8-9597-d9eeeccc96e0",
   "metadata": {},
   "outputs": [],
   "source": []
  }
 ],
 "metadata": {
  "kernelspec": {
   "display_name": "Python 3 (ipykernel)",
   "language": "python",
   "name": "python3"
  },
  "language_info": {
   "codemirror_mode": {
    "name": "ipython",
    "version": 3
   },
   "file_extension": ".py",
   "mimetype": "text/x-python",
   "name": "python",
   "nbconvert_exporter": "python",
   "pygments_lexer": "ipython3",
   "version": "3.9.12"
  }
 },
 "nbformat": 4,
 "nbformat_minor": 5
}
