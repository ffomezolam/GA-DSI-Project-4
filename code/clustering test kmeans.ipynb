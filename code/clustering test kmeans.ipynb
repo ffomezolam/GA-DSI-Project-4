{
 "cells": [
  {
   "cell_type": "code",
   "execution_count": 1,
   "id": "b0e8d646-a669-41b1-bb34-7e07604eafd8",
   "metadata": {},
   "outputs": [],
   "source": [
    "import pandas as pd\n",
    "import numpy as np\n",
    "import matplotlib.pyplot as plt\n",
    "\n",
    "from sklearn.cluster import KMeans\n",
    "from sklearn.metrics import silhouette_score\n",
    "from sklearn.preprocessing import StandardScaler"
   ]
  },
  {
   "cell_type": "code",
   "execution_count": 14,
   "id": "9d53d2f8-9d74-4934-b17d-7d76642c3a78",
   "metadata": {},
   "outputs": [],
   "source": [
    "df = pd.read_csv('../data/ohe_data.csv', nrows=50_000)\n",
    "\n",
    "df.drop(columns='Unnamed: 0', inplace=True)\n",
    "\n",
    "df['Sunrise_Sunset'] = [0 if c == 'Night' else 1 for c in df['Sunrise_Sunset']]\n",
    "df['Sunrise_Sunset'].dtypes"
   ]
  },
  {
   "cell_type": "code",
   "execution_count": 12,
   "id": "346ac1fa-11c7-41cf-a97b-578542546693",
   "metadata": {},
   "outputs": [
    {
     "data": {
      "text/plain": [
       "0    0.69126\n",
       "1    0.30874\n",
       "Name: Severity, dtype: float64"
      ]
     },
     "execution_count": 12,
     "metadata": {},
     "output_type": "execute_result"
    }
   ],
   "source": [
    "df['Severity'].value_counts(normalize=True)"
   ]
  },
  {
   "cell_type": "code",
   "execution_count": 15,
   "id": "f85dc81d-67ef-43b8-9c2f-24dc54e23777",
   "metadata": {},
   "outputs": [
    {
     "data": {
      "text/plain": [
       "Severity               int64\n",
       "Start_Time            object\n",
       "Start_Lat            float64\n",
       "Start_Lng            float64\n",
       "Temperature(F)       float64\n",
       "Humidity(%)          float64\n",
       "Pressure(in)         float64\n",
       "Visibility(mi)       float64\n",
       "Wind_Speed(mph)      float64\n",
       "Precipitation(in)    float64\n",
       "Amenity                 bool\n",
       "Bump                    bool\n",
       "Crossing                bool\n",
       "Give_Way                bool\n",
       "Junction                bool\n",
       "No_Exit                 bool\n",
       "Railway                 bool\n",
       "Roundabout              bool\n",
       "Station                 bool\n",
       "Stop                    bool\n",
       "Traffic_Calming         bool\n",
       "Traffic_Signal          bool\n",
       "Sunrise_Sunset         int64\n",
       "wc_clouds              int64\n",
       "wc_dust                int64\n",
       "wc_fair                int64\n",
       "wc_fog                 int64\n",
       "wc_ice                 int64\n",
       "wc_rain                int64\n",
       "wc_snow                int64\n",
       "dtype: object"
      ]
     },
     "execution_count": 15,
     "metadata": {},
     "output_type": "execute_result"
    }
   ],
   "source": [
    "df.dtypes.head(30)"
   ]
  },
  {
   "cell_type": "code",
   "execution_count": 16,
   "id": "031054b1-f2e4-4e06-b1c5-bfeb4e08b50c",
   "metadata": {},
   "outputs": [],
   "source": [
    "X = df.drop(columns=['Severity', 'Start_Time'])\n",
    "ss = StandardScaler()\n",
    "X_ss = ss.fit_transform(X)"
   ]
  },
  {
   "cell_type": "code",
   "execution_count": 22,
   "id": "3ef2aa41-6bef-4b77-970b-51fd5307c8fd",
   "metadata": {},
   "outputs": [
    {
     "name": "stdout",
     "output_type": "stream",
     "text": [
      "50: inertia - 3286114.530213488; sil. sc. - 0.14852520090768492\n",
      "60: inertia - 2926211.6795525188; sil. sc. - 0.1496719233181056\n",
      "70: inertia - 2540817.4972780403; sil. sc. - 0.15960933911055072\n",
      "80: inertia - 2360970.127593463; sil. sc. - 0.1472462276388036\n",
      "90: inertia - 2240704.3142350954; sil. sc. - 0.1468450018882237\n",
      "100: inertia - 2110514.6319977692; sil. sc. - 0.14717548158054075\n",
      "110: inertia - 2061222.6593761188; sil. sc. - 0.13889207549872026\n",
      "120: inertia - 2018106.2303980337; sil. sc. - 0.14175058377657493\n",
      "130: inertia - 1978624.2506793847; sil. sc. - 0.14678548685540482\n",
      "140: inertia - 1932608.9321873796; sil. sc. - 0.1373631591264277\n"
     ]
    }
   ],
   "source": [
    "scores = []\n",
    "for k in range(50,141,10):\n",
    "    km = KMeans(n_clusters=k)\n",
    "    km.fit(X_ss)\n",
    "    scores.append([k, km.inertia_])\n",
    "    print(f'{k}: inertia - {km.inertia_}; sil. sc. - {silhouette_score(X_ss, km.labels_)}')"
   ]
  },
  {
   "cell_type": "code",
   "execution_count": 23,
   "id": "f83dbb7f-ba15-4ece-84e5-3be38dae0a12",
   "metadata": {},
   "outputs": [
    {
     "name": "stdout",
     "output_type": "stream",
     "text": [
      "60: inertia - 2848039.919012704; sil. sc. - 0.15799948456315327\n",
      "61: inertia - 2803681.647139657; sil. sc. - 0.16560839871571706\n",
      "62: inertia - 2797584.609546416; sil. sc. - 0.1678242362314089\n",
      "63: inertia - 2763416.0796622685; sil. sc. - 0.15257213673263748\n",
      "64: inertia - 2737411.198233245; sil. sc. - 0.14540049385387654\n",
      "65: inertia - 2731026.373549943; sil. sc. - 0.16176855251302782\n",
      "66: inertia - 2643020.759121263; sil. sc. - 0.16543955676407607\n",
      "67: inertia - 2700089.95563216; sil. sc. - 0.1472614284654666\n",
      "68: inertia - 2626815.0126450663; sil. sc. - 0.1402486006031571\n",
      "69: inertia - 2571192.809010043; sil. sc. - 0.15551366237385858\n",
      "70: inertia - 2508792.645792486; sil. sc. - 0.13645217095725243\n",
      "71: inertia - 2555734.510117646; sil. sc. - 0.155379809863537\n",
      "72: inertia - 2464683.699807533; sil. sc. - 0.17064024884182483\n",
      "73: inertia - 2529467.384625546; sil. sc. - 0.14670412799038396\n",
      "74: inertia - 2457870.0304189627; sil. sc. - 0.14755379373411034\n",
      "75: inertia - 2425283.543161718; sil. sc. - 0.1628436023048422\n",
      "76: inertia - 2467673.701916199; sil. sc. - 0.14863623623818426\n",
      "77: inertia - 2376975.445562077; sil. sc. - 0.14960022356202515\n",
      "78: inertia - 2388685.7405210654; sil. sc. - 0.15067591508991743\n",
      "79: inertia - 2430650.2439844683; sil. sc. - 0.14476454759404983\n"
     ]
    }
   ],
   "source": [
    "# around 70 seems most optimal\n",
    "for k in range(60,80,1):\n",
    "    km = KMeans(n_clusters=k)\n",
    "    km.fit(X_ss)\n",
    "    scores.append([k, km.inertia_])\n",
    "    print(f'{k}: inertia - {km.inertia_}; sil. sc. - {silhouette_score(X_ss, km.labels_)}')"
   ]
  },
  {
   "cell_type": "markdown",
   "id": "894f551e-6dd9-4d26-bb7a-a30e307b0d74",
   "metadata": {},
   "source": [
    "### Bigger Data\n",
    "\n",
    "Do this all on a bigger data set, focused on around 72 clusters"
   ]
  },
  {
   "cell_type": "code",
   "execution_count": 24,
   "id": "d897dc8b-f4aa-4c06-befd-d9d73e15c2b7",
   "metadata": {},
   "outputs": [
    {
     "data": {
      "text/plain": [
       "dtype('int64')"
      ]
     },
     "execution_count": 24,
     "metadata": {},
     "output_type": "execute_result"
    }
   ],
   "source": [
    "df = pd.read_csv('../data/ohe_data.csv', nrows=250_000)\n",
    "\n",
    "df.drop(columns='Unnamed: 0', inplace=True)\n",
    "\n",
    "df['Sunrise_Sunset'] = [0 if c == 'Night' else 1 for c in df['Sunrise_Sunset']]\n",
    "df['Sunrise_Sunset'].dtypes"
   ]
  },
  {
   "cell_type": "code",
   "execution_count": 25,
   "id": "12835f4a-bc78-45f4-9f4f-1842051768db",
   "metadata": {},
   "outputs": [],
   "source": [
    "X = df.drop(columns=['Severity', 'Start_Time'])\n",
    "ss = StandardScaler()\n",
    "X_ss = ss.fit_transform(X)"
   ]
  },
  {
   "cell_type": "code",
   "execution_count": 26,
   "id": "cec2e79b-b0b4-485e-beac-12b2f4f8e9d7",
   "metadata": {},
   "outputs": [
    {
     "name": "stdout",
     "output_type": "stream",
     "text": [
      "70: inertia - 15163136.085931206; sil. sc. - 0.12609130854465286\n",
      "71: inertia - 15058712.70890541; sil. sc. - 0.12686663633837392\n",
      "72: inertia - 14654394.857499084; sil. sc. - 0.1368473556030636\n",
      "73: inertia - 14762153.168655181; sil. sc. - 0.1326741866239145\n",
      "74: inertia - 14574868.15045363; sil. sc. - 0.13051806244168793\n"
     ]
    }
   ],
   "source": [
    "for k in range(70,75,1):\n",
    "    km = KMeans(n_clusters=k)\n",
    "    km.fit(X_ss)\n",
    "    scores.append([k, km.inertia_])\n",
    "    print(f'{k}: inertia - {km.inertia_}; sil. sc. - {silhouette_score(X_ss, km.labels_)}')"
   ]
  },
  {
   "cell_type": "code",
   "execution_count": null,
   "id": "c4fc3c65-3cd4-44b0-9a59-0504ede8338f",
   "metadata": {},
   "outputs": [],
   "source": []
  }
 ],
 "metadata": {
  "kernelspec": {
   "display_name": "Python 3 (ipykernel)",
   "language": "python",
   "name": "python3"
  },
  "language_info": {
   "codemirror_mode": {
    "name": "ipython",
    "version": 3
   },
   "file_extension": ".py",
   "mimetype": "text/x-python",
   "name": "python",
   "nbconvert_exporter": "python",
   "pygments_lexer": "ipython3",
   "version": "3.10.5"
  }
 },
 "nbformat": 4,
 "nbformat_minor": 5
}
