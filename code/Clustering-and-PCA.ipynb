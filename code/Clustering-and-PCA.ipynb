{
 "cells": [
  {
   "cell_type": "markdown",
   "id": "de654fe0-47b9-4e61-aadf-86857f78e7b2",
   "metadata": {},
   "source": [
    "# Project 4\n",
    "\n",
    "## Clustering Analysis and PCA\n",
    "\n",
    "To see if any additional insight can be garnered into this data, we performed a Clustering Analysis using KMeans and KPrototype clustering algorithms. We also performed a Primary Component Analysis to see if any feature combinations were more strongly representative in the dataset.\n",
    "\n",
    "As will be demonstrated, none of these reviews gave any significant insight into the data.\n",
    "\n",
    "---"
   ]
  },
  {
   "cell_type": "markdown",
   "id": "3b6b0a9c-ab42-492a-ba35-c60808c63542",
   "metadata": {},
   "source": [
    "## 0. Imports and Preliminaries\n",
    "\n",
    "**NOTE** Third-party library `kmodes` is required for KPrototype Clustering"
   ]
  },
  {
   "cell_type": "code",
   "execution_count": 1,
   "id": "f1867ad0-a5bf-4cb8-8400-9052adad576c",
   "metadata": {},
   "outputs": [],
   "source": [
    "import numpy as np\n",
    "import pandas as pd\n",
    "\n",
    "# plotting\n",
    "import matplotlib.pyplot as plt\n",
    "\n",
    "# preprocessing\n",
    "from sklearn.preprocessing import StandardScaler, MinMaxScaler\n",
    "\n",
    "# PCA\n",
    "from sklearn.decomposition import PCA\n",
    "\n",
    "# algorithms\n",
    "from sklearn.cluster import KMeans\n",
    "from kmodes.kprototypes import KPrototypes\n",
    "\n",
    "# metrics\n",
    "from sklearn.metrics import silhouette_score\n",
    "\n",
    "# other\n",
    "import time\n",
    "import json"
   ]
  },
  {
   "cell_type": "code",
   "execution_count": 2,
   "id": "635935bf-2e1f-41c3-b884-4bfccc65638c",
   "metadata": {},
   "outputs": [],
   "source": [
    "# set random seed in case forgot to do a random state further down\n",
    "np.random.seed(42)"
   ]
  },
  {
   "cell_type": "code",
   "execution_count": 3,
   "id": "b0b98524-98ae-4f05-9374-b72bb28c6355",
   "metadata": {},
   "outputs": [],
   "source": [
    "# For plot images\n",
    "IMGDIR = '../images/'\n",
    "with open('styles.json', 'r') as f:\n",
    "    PLOT_STYLES = json.loads(f.read())"
   ]
  },
  {
   "cell_type": "code",
   "execution_count": 4,
   "id": "1ced9ce3-0197-43ec-9d5d-7fd474b5cda0",
   "metadata": {},
   "outputs": [],
   "source": [
    "# Import cleaned data\n",
    "full_df = pd.read_csv('../data/ohe_data.csv')\n",
    "\n",
    "# drop \"Unnamed: 0\" column if exists\n",
    "if \"Unnamed: 0\" in full_df.columns: full_df.drop(columns=['Unnamed: 0'], inplace=True)\n",
    "\n",
    "# correct sunrise/sunset column to be numerical if not, 0=Day, 1=Night\n",
    "full_df = full_df.replace({'Day': 0, 'Night': 1})\n",
    "\n",
    "# make any true/false values into 1/0\n",
    "full_df = full_df.replace({True: 1, False: 0})"
   ]
  },
  {
   "cell_type": "code",
   "execution_count": 5,
   "id": "d18c139e-53de-41f3-a6ed-ef4291abda3a",
   "metadata": {},
   "outputs": [],
   "source": [
    "# make a dataframe with just the relevant columns\n",
    "# we will not be using the full date column nor the latitude/longitude columns\n",
    "full_df = full_df.drop(columns=['Start_Time', 'Start_Lat', 'Start_Lng', 'day'])"
   ]
  },
  {
   "cell_type": "markdown",
   "id": "94ba7611-f491-4772-b977-50df6043313f",
   "metadata": {},
   "source": [
    "---\n",
    "\n",
    "## 1. KMeans Clustering\n",
    "\n",
    "1. Perform KMeans Clustering on one-hot-encoded data set. Evaluate clustering performance via silhouette score, and review over various number of clusters to see if an optimal cluster count can be found.\n",
    "\n",
    "2. Try it with a subset of features.\n",
    "\n",
    "As will be shown, the resource and time costs of this are prohibitive to performing on the full data set, and scores do not justify that attempt."
   ]
  },
  {
   "cell_type": "markdown",
   "id": "1a493135-7749-401c-8744-643aa6ef584b",
   "metadata": {},
   "source": [
    "### 1a. KMeans With All Features\n",
    "\n",
    "Performed on small subset of full dataset."
   ]
  },
  {
   "cell_type": "code",
   "execution_count": 6,
   "id": "d3ae2bce-9b3b-4d3d-964c-12b0b7cbc735",
   "metadata": {},
   "outputs": [
    {
     "data": {
      "text/plain": [
       "0    0.89684\n",
       "1    0.10316\n",
       "Name: Severity, dtype: float64"
      ]
     },
     "execution_count": 6,
     "metadata": {},
     "output_type": "execute_result"
    }
   ],
   "source": [
    "# create a smaller dataframe to test on\n",
    "small_df = full_df.sample(25_000)\n",
    "\n",
    "# check to make sure we still have the same proportion (90% 0) of target categories\n",
    "small_df['Severity'].value_counts(normalize=True)"
   ]
  },
  {
   "cell_type": "code",
   "execution_count": 7,
   "id": "7cf64b2e-4c65-4184-ba26-d23c245888ee",
   "metadata": {},
   "outputs": [],
   "source": [
    "# scale values\n",
    "ss = StandardScaler()\n",
    "small_df_ss = ss.fit_transform(small_df.drop(columns=['Severity']))"
   ]
  },
  {
   "cell_type": "code",
   "execution_count": 8,
   "id": "7c653edc-edb3-4a06-93ca-54adc0515559",
   "metadata": {
    "tags": []
   },
   "outputs": [
    {
     "name": "stdout",
     "output_type": "stream",
     "text": [
      "CPU times: user 178 µs, sys: 22 µs, total: 200 µs\n",
      "Wall time: 292 µs\n"
     ]
    },
    {
     "data": {
      "text/plain": [
       "\"\\nscores = [] # save scores for later\\nfor k in range(10,141,10):\\n    km = KMeans(n_clusters=k, random_state=1)\\n    km.fit(small_df_ss)\\n    sil_score = silhouette_score(small_df_ss, km.labels_)\\n    scores.append((k, km.inertia_, sil_score))\\n    print(f'{k}: inertia - {km.inertia_}; sil. sc. - {sil_score}')\\n\\nscores\\n\""
      ]
     },
     "execution_count": 8,
     "metadata": {},
     "output_type": "execute_result"
    }
   ],
   "source": [
    "%%time\n",
    "\n",
    "# model on various number of clusters to find optimal number\n",
    "# NOTE the below code can take a while to run. Uncomment to run or see below for previous results.\n",
    "\n",
    "# these scores are from a previous run\n",
    "scores = [(10, 2819738.976076258, 0.01279616813408531),\n",
    " (20, 2583574.665011947, 0.03309245090651906),\n",
    " (30, 2354826.938014061, 0.056840661690341576),\n",
    " (40, 2116807.635388683, 0.07435303852848524),\n",
    " (50, 1930646.4776734991, 0.08642226501879748),\n",
    " (60, 1713480.8122619523, 0.1071977676128963),\n",
    " (70, 1522790.5571559658, 0.1237176053339064),\n",
    " (80, 1413122.0903399272, 0.11767131273534691),\n",
    " (90, 1353026.3758239313, 0.12356600089191037),\n",
    " (100, 1303865.4422159325, 0.10695240840172184),\n",
    " (110, 1288132.845995484, 0.11081811855640537),\n",
    " (120, 1265757.9410842708, 0.11444470214983894),\n",
    " (130, 1250671.36279192, 0.10324117518969907),\n",
    " (140, 1238357.6804947506, 0.09898821649536141)]\n",
    "\n",
    "'''\n",
    "scores = [] # save scores for later\n",
    "for k in range(10,141,10):\n",
    "    km = KMeans(n_clusters=k, random_state=1)\n",
    "    km.fit(small_df_ss)\n",
    "    sil_score = silhouette_score(small_df_ss, km.labels_)\n",
    "    scores.append((k, km.inertia_, sil_score))\n",
    "    print(f'{k}: inertia - {km.inertia_}; sil. sc. - {sil_score}')\n",
    "\n",
    "scores\n",
    "'''"
   ]
  },
  {
   "cell_type": "markdown",
   "id": "291b3861-8722-4bff-9815-c0e2b3d4a6fc",
   "metadata": {},
   "source": [
    "For demonstration, the above code is copied here:\n",
    "```python\n",
    "scores = [] # save scores for later\n",
    "for k in range(10,141,10):\n",
    "    km = KMeans(n_clusters=k, random_state=1)\n",
    "    km.fit(small_df_ss)\n",
    "    sil_score = silhouette_score(small_df_ss, km.labels_)\n",
    "    scores.append(sil_score)\n",
    "    print(f'{k}: inertia - {km.inertia_}; sil. sc. - {sil_score}')\n",
    "```\n",
    "Below are the results on one run of the above code\n",
    "```\n",
    "10: inertia - 2819738.976076258; sil. sc. - 0.01279616813408531\n",
    "20: inertia - 2583574.665011947; sil. sc. - 0.03309245090651906\n",
    "30: inertia - 2354826.938014061; sil. sc. - 0.056840661690341576\n",
    "40: inertia - 2116807.635388683; sil. sc. - 0.07435303852848524\n",
    "50: inertia - 1930646.4776734991; sil. sc. - 0.08642226501879748\n",
    "60: inertia - 1713480.8122619523; sil. sc. - 0.1071977676128963\n",
    "70: inertia - 1522790.5571559658; sil. sc. - 0.1237176053339064\n",
    "80: inertia - 1413122.0903399272; sil. sc. - 0.11767131273534691\n",
    "90: inertia - 1353026.3758239313; sil. sc. - 0.12356600089191037\n",
    "100: inertia - 1303865.4422159325; sil. sc. - 0.10695240840172184\n",
    "110: inertia - 1288132.845995484; sil. sc. - 0.11081811855640537\n",
    "120: inertia - 1265757.9410842708; sil. sc. - 0.11444470214983894\n",
    "130: inertia - 1250671.36279192; sil. sc. - 0.10324117518969907\n",
    "140: inertia - 1238357.6804947506; sil. sc. - 0.09898821649536141\n",
    "CPU times: user 11min 52s, sys: 4min 35s, total: 16min 27s\n",
    "Wall time: 2min 43s\n",
    "[(10, 2819738.976076258, 0.01279616813408531),\n",
    " (20, 2583574.665011947, 0.03309245090651906),\n",
    " (30, 2354826.938014061, 0.056840661690341576),\n",
    " (40, 2116807.635388683, 0.07435303852848524),\n",
    " (50, 1930646.4776734991, 0.08642226501879748),\n",
    " (60, 1713480.8122619523, 0.1071977676128963),\n",
    " (70, 1522790.5571559658, 0.1237176053339064),\n",
    " (80, 1413122.0903399272, 0.11767131273534691),\n",
    " (90, 1353026.3758239313, 0.12356600089191037),\n",
    " (100, 1303865.4422159325, 0.10695240840172184),\n",
    " (110, 1288132.845995484, 0.11081811855640537),\n",
    " (120, 1265757.9410842708, 0.11444470214983894),\n",
    " (130, 1250671.36279192, 0.10324117518969907),\n",
    " (140, 1238357.6804947506, 0.09898821649536141)]\n",
    "```\n",
    "The results show the inertia and silhouette scores for various number of clusters. The idea was to hone in on an approximate cluster count and then narrow down with more fine-grained review."
   ]
  },
  {
   "cell_type": "code",
   "execution_count": 9,
   "id": "5b9f1a2a-b23f-4d7f-a975-43bf31dda0e7",
   "metadata": {},
   "outputs": [
    {
     "data": {
      "text/plain": [
       "(6, 0.1237176053339064, 70)"
      ]
     },
     "execution_count": 9,
     "metadata": {},
     "output_type": "execute_result"
    }
   ],
   "source": [
    "# tests start at 10, so (index + 1) * 10 is number of clusters with high score\n",
    "sil_scores = list(zip(*scores))[2]\n",
    "high_score_ix = np.argmax(sil_scores)\n",
    "high_score_ix, max(sil_scores), (high_score_ix + 1) * 10"
   ]
  },
  {
   "cell_type": "code",
   "execution_count": 10,
   "id": "1486268a-296a-45ab-bced-72bc841f957b",
   "metadata": {
    "tags": []
   },
   "outputs": [
    {
     "name": "stdout",
     "output_type": "stream",
     "text": [
      "CPU times: user 148 µs, sys: 5 µs, total: 153 µs\n",
      "Wall time: 175 µs\n"
     ]
    },
    {
     "data": {
      "text/plain": [
       "\"\\nscores = []\\nfor k in range(ccount - 15, ccount + 16, 1):\\n    km = KMeans(n_clusters=k)\\n    km.fit(small_df_ss)\\n    sil_sc = silhouette_score(small_df_ss, km.labels_)\\n    scores.append((k, km.inertia_, sil_sc))\\n    print(f'{k}: inertia - {km.inertia_}; sil. sc. - {sil_sc}')\\n\\nscores\\n\""
      ]
     },
     "execution_count": 10,
     "metadata": {},
     "output_type": "execute_result"
    }
   ],
   "source": [
    "%%time\n",
    "# get highest score cluster count from last test\n",
    "ccount = (high_score_ix + 1) * 10\n",
    "\n",
    "# This is a placeholder for a previous run due to long generating time\n",
    "scores = [(55, 1778000.132543454, 0.09884644470804606),\n",
    " (56, 1798254.0231082684, 0.1136867341715933),\n",
    " (57, 1754892.959313944, 0.12041070706790195),\n",
    " (58, 1763898.489473734, 0.107811894648341),\n",
    " (59, 1740491.0572207444, 0.12304482388241916),\n",
    " (60, 1673433.6633976158, 0.11988884298838877),\n",
    " (61, 1682109.9396359413, 0.11805459367579159),\n",
    " (62, 1649418.4119979031, 0.11245393646225288),\n",
    " (63, 1661295.5446111653, 0.10216116711472398),\n",
    " (64, 1620325.6896279184, 0.11094589597088998),\n",
    " (65, 1607092.4949607877, 0.10773927838455409),\n",
    " (66, 1611087.4942660746, 0.0970396118575905),\n",
    " (67, 1605713.492242406, 0.13059140332375613),\n",
    " (68, 1529662.1578341906, 0.12436485763895634),\n",
    " (69, 1556145.5168899477, 0.14449826489724435),\n",
    " (70, 1533254.5740267867, 0.13018341947830392),\n",
    " (71, 1540771.2908349338, 0.12603278629203116),\n",
    " (72, 1516139.4539267318, 0.12050035215796435),\n",
    " (73, 1534130.1379699456, 0.1106011261602225),\n",
    " (74, 1498740.1980750298, 0.14244953775433639),\n",
    " (75, 1515839.5883336333, 0.11756336115111506),\n",
    " (76, 1487338.2507019695, 0.11786986897104733),\n",
    " (77, 1447562.3269533576, 0.1156551930498267),\n",
    " (78, 1438385.5497680493, 0.11748157894211463),\n",
    " (79, 1433964.5467836433, 0.11858436876727223),\n",
    " (80, 1417245.8038015158, 0.11996126683267352),\n",
    " (81, 1413980.5806665597, 0.11900113915000424),\n",
    " (82, 1412177.7453222, 0.10872110961755263),\n",
    " (83, 1416902.6299625477, 0.12059417753290474),\n",
    " (84, 1403164.1126810664, 0.11479128455963895),\n",
    " (85, 1374523.3365366582, 0.11962114418329134)]\n",
    "\n",
    "# Test 15 below to 15 above high score count to narrow down on highest score\n",
    "# NOTE the below code can take a while. Uncomment to run or see below for previous results\n",
    "\n",
    "'''\n",
    "scores = []\n",
    "for k in range(ccount - 15, ccount + 16, 1):\n",
    "    km = KMeans(n_clusters=k)\n",
    "    km.fit(small_df_ss)\n",
    "    sil_sc = silhouette_score(small_df_ss, km.labels_)\n",
    "    scores.append((k, km.inertia_, sil_sc))\n",
    "    print(f'{k}: inertia - {km.inertia_}; sil. sc. - {sil_sc}')\n",
    "\n",
    "scores\n",
    "'''"
   ]
  },
  {
   "cell_type": "markdown",
   "id": "99f4d0e0-0eef-4221-8810-1cc6c1365bef",
   "metadata": {},
   "source": [
    "For demonstration, the above code is copied here:\n",
    "```python\n",
    "scores = []\n",
    "for k in range(ccount - 15, ccount + 16, 1):\n",
    "    km = KMeans(n_clusters=k)\n",
    "    km.fit(small_df_ss)\n",
    "    sil_sc = silhouette_score(small_df_ss, km.labels_)\n",
    "    scores.append(sil_sc)\n",
    "    print(f'{k}: inertia - {km.inertia_}; sil. sc. - {sil_sc}')\n",
    "```\n",
    "Below are the results on one run of this code.\n",
    "```\n",
    "55: inertia - 1778000.132543454; sil. sc. - 0.09884644470804606\n",
    "56: inertia - 1798254.0231082684; sil. sc. - 0.1136867341715933\n",
    "57: inertia - 1754892.959313944; sil. sc. - 0.12041070706790195\n",
    "58: inertia - 1763898.489473734; sil. sc. - 0.107811894648341\n",
    "59: inertia - 1740491.0572207444; sil. sc. - 0.12304482388241916\n",
    "60: inertia - 1673433.6633976158; sil. sc. - 0.11988884298838877\n",
    "61: inertia - 1682109.9396359413; sil. sc. - 0.11805459367579159\n",
    "62: inertia - 1649418.4119979031; sil. sc. - 0.11245393646225288\n",
    "63: inertia - 1661295.5446111653; sil. sc. - 0.10216116711472398\n",
    "64: inertia - 1620325.6896279184; sil. sc. - 0.11094589597088998\n",
    "65: inertia - 1607092.4949607877; sil. sc. - 0.10773927838455409\n",
    "66: inertia - 1611087.4942660746; sil. sc. - 0.0970396118575905\n",
    "67: inertia - 1605713.492242406; sil. sc. - 0.13059140332375613\n",
    "68: inertia - 1529662.1578341906; sil. sc. - 0.12436485763895634\n",
    "69: inertia - 1556145.5168899477; sil. sc. - 0.14449826489724435\n",
    "70: inertia - 1533254.5740267867; sil. sc. - 0.13018341947830392\n",
    "71: inertia - 1540771.2908349338; sil. sc. - 0.12603278629203116\n",
    "72: inertia - 1516139.4539267318; sil. sc. - 0.12050035215796435\n",
    "73: inertia - 1534130.1379699456; sil. sc. - 0.1106011261602225\n",
    "74: inertia - 1498740.1980750298; sil. sc. - 0.14244953775433639\n",
    "75: inertia - 1515839.5883336333; sil. sc. - 0.11756336115111506\n",
    "76: inertia - 1487338.2507019695; sil. sc. - 0.11786986897104733\n",
    "77: inertia - 1447562.3269533576; sil. sc. - 0.1156551930498267\n",
    "78: inertia - 1438385.5497680493; sil. sc. - 0.11748157894211463\n",
    "79: inertia - 1433964.5467836433; sil. sc. - 0.11858436876727223\n",
    "80: inertia - 1417245.8038015158; sil. sc. - 0.11996126683267352\n",
    "81: inertia - 1413980.5806665597; sil. sc. - 0.11900113915000424\n",
    "82: inertia - 1412177.7453222; sil. sc. - 0.10872110961755263\n",
    "83: inertia - 1416902.6299625477; sil. sc. - 0.12059417753290474\n",
    "84: inertia - 1403164.1126810664; sil. sc. - 0.11479128455963895\n",
    "85: inertia - 1374523.3365366582; sil. sc. - 0.11962114418329134\n",
    "CPU times: user 25min 2s, sys: 9min 57s, total: 35min\n",
    "Wall time: 5min 15s\n",
    "[(55, 1778000.132543454, 0.09884644470804606),\n",
    " (56, 1798254.0231082684, 0.1136867341715933),\n",
    " (57, 1754892.959313944, 0.12041070706790195),\n",
    " (58, 1763898.489473734, 0.107811894648341),\n",
    " (59, 1740491.0572207444, 0.12304482388241916),\n",
    " (60, 1673433.6633976158, 0.11988884298838877),\n",
    " (61, 1682109.9396359413, 0.11805459367579159),\n",
    " (62, 1649418.4119979031, 0.11245393646225288),\n",
    " (63, 1661295.5446111653, 0.10216116711472398),\n",
    " (64, 1620325.6896279184, 0.11094589597088998),\n",
    " (65, 1607092.4949607877, 0.10773927838455409),\n",
    " (66, 1611087.4942660746, 0.0970396118575905),\n",
    " (67, 1605713.492242406, 0.13059140332375613),\n",
    " (68, 1529662.1578341906, 0.12436485763895634),\n",
    " (69, 1556145.5168899477, 0.14449826489724435),\n",
    " (70, 1533254.5740267867, 0.13018341947830392),\n",
    " (71, 1540771.2908349338, 0.12603278629203116),\n",
    " (72, 1516139.4539267318, 0.12050035215796435),\n",
    " (73, 1534130.1379699456, 0.1106011261602225),\n",
    " (74, 1498740.1980750298, 0.14244953775433639),\n",
    " (75, 1515839.5883336333, 0.11756336115111506),\n",
    " (76, 1487338.2507019695, 0.11786986897104733),\n",
    " (77, 1447562.3269533576, 0.1156551930498267),\n",
    " (78, 1438385.5497680493, 0.11748157894211463),\n",
    " (79, 1433964.5467836433, 0.11858436876727223),\n",
    " (80, 1417245.8038015158, 0.11996126683267352),\n",
    " (81, 1413980.5806665597, 0.11900113915000424),\n",
    " (82, 1412177.7453222, 0.10872110961755263),\n",
    " (83, 1416902.6299625477, 0.12059417753290474),\n",
    " (84, 1403164.1126810664, 0.11479128455963895),\n",
    " (85, 1374523.3365366582, 0.11962114418329134)]\n",
    "```\n",
    "For this run the cluster count analysis was done in a range around 70 (+/- 15) to find the highest silhouette score."
   ]
  },
  {
   "cell_type": "code",
   "execution_count": 11,
   "id": "258725bc-601c-4f9d-ac0d-fb779e05739f",
   "metadata": {},
   "outputs": [
    {
     "name": "stdout",
     "output_type": "stream",
     "text": [
      "max. silhouette score: 0.14449826489724435; number of clusters: 69\n"
     ]
    }
   ],
   "source": [
    "# Get best score and number of clusters\n",
    "sep_scores = list(zip(*scores))\n",
    "max_sil_score_ix = np.argmax(sep_scores[2])\n",
    "max_sil_score = sep_scores[2][max_sil_score_ix]\n",
    "best_k = sep_scores[0][max_sil_score_ix]\n",
    "print(f'max. silhouette score: {max_sil_score}; number of clusters: {best_k}')"
   ]
  },
  {
   "cell_type": "markdown",
   "id": "e891a8af-bb1b-47b8-aacf-2cd13e9b5efa",
   "metadata": {},
   "source": [
    "#### Conclusion\n",
    "\n",
    "The low silhouette scores here do not justify further exploration. There is no indication that the full dataset can be adequately clustered under KMeans."
   ]
  },
  {
   "cell_type": "markdown",
   "id": "1636f3b1-168e-4908-9561-32c4338f1787",
   "metadata": {},
   "source": [
    "## 1b. KMeans On a Feature Subset\n",
    "\n",
    "Attempt KMeans clustering on a subset of the data (specifically: weather related data) to see if higher silhouette scores can be achieved."
   ]
  },
  {
   "cell_type": "code",
   "execution_count": 12,
   "id": "86b44da3-ee4f-4902-91f3-b06a735e2aab",
   "metadata": {},
   "outputs": [
    {
     "data": {
      "text/plain": [
       "(Index(['Temperature(F)', 'Humidity(%)', 'Pressure(in)', 'Visibility(mi)',\n",
       "        'Wind_Speed(mph)', 'Precipitation(in)'],\n",
       "       dtype='object'),\n",
       " Index(['wc_clouds', 'wc_dust', 'wc_fair', 'wc_fog', 'wc_ice', 'wc_rain',\n",
       "        'wc_snow', 'wc_thunder', 'wc_wind'],\n",
       "       dtype='object'))"
      ]
     },
     "execution_count": 12,
     "metadata": {},
     "output_type": "execute_result"
    }
   ],
   "source": [
    "# Weather features only\n",
    "small_df.columns[1:7], small_df.columns[20:29]"
   ]
  },
  {
   "cell_type": "code",
   "execution_count": 13,
   "id": "53febcd1-f185-4db4-98bb-584d95735447",
   "metadata": {},
   "outputs": [],
   "source": [
    "# get dataframe with only weather columns\n",
    "weather_cols = list(small_df.columns[1:7]) + list(small_df.columns[20:29])\n",
    "weather_df = small_df[weather_cols]"
   ]
  },
  {
   "cell_type": "code",
   "execution_count": 14,
   "id": "e4f74bde-ff43-4a89-8423-cf69fd7df121",
   "metadata": {},
   "outputs": [],
   "source": [
    "# scale all values\n",
    "ss = StandardScaler()\n",
    "wdf_ss = ss.fit_transform(weather_df)"
   ]
  },
  {
   "cell_type": "code",
   "execution_count": 15,
   "id": "70abce06-0bee-49a2-8fea-0cc4b9b45de1",
   "metadata": {},
   "outputs": [
    {
     "name": "stdout",
     "output_type": "stream",
     "text": [
      "CPU times: user 98 µs, sys: 22 µs, total: 120 µs\n",
      "Wall time: 139 µs\n"
     ]
    },
    {
     "data": {
      "text/plain": [
       "\"\\nscores = []\\nfor k in range(4,16,1):\\n    km = KMeans(n_clusters=k)\\n    km.fit(wdf_ss)\\n    scores.append([k, km.inertia_])\\n    print(f'{k}: inertia - {km.inertia_}; sil. sc. - {silhouette_score(wdf_ss, km.labels_)}')\\n    \\nscores\\n\""
      ]
     },
     "execution_count": 15,
     "metadata": {},
     "output_type": "execute_result"
    }
   ],
   "source": [
    "%%time\n",
    "\n",
    "# These scores are copied from a previous model fitting of the below code\n",
    "scores = [[4, 256072.04579303213],\n",
    " [5, 227554.2376321967],\n",
    " [6, 202065.96235178213],\n",
    " [7, 177094.1785625173],\n",
    " [8, 153850.87448911023],\n",
    " [9, 127702.21587324908],\n",
    " [10, 115516.70349251636],\n",
    " [11, 104038.67743540397],\n",
    " [12, 96337.40040246959],\n",
    " [13, 87004.20764643188],\n",
    " [14, 83332.56488990947],\n",
    " [15, 80106.3672782928]]\n",
    "\n",
    "# NOTE the below takes about 5 minutes to run. \n",
    "# Uncomment to run or see below for previous results\n",
    "\n",
    "# test various cluster counts for highest silhouette score\n",
    "'''\n",
    "scores = []\n",
    "for k in range(4,16,1):\n",
    "    km = KMeans(n_clusters=k)\n",
    "    km.fit(wdf_ss)\n",
    "    scores.append([k, km.inertia_])\n",
    "    print(f'{k}: inertia - {km.inertia_}; sil. sc. - {silhouette_score(wdf_ss, km.labels_)}')\n",
    "    \n",
    "scores\n",
    "'''"
   ]
  },
  {
   "cell_type": "markdown",
   "id": "af1f0d93-f3f5-4268-bac8-8da4158c48a9",
   "metadata": {},
   "source": [
    "Results from above code:\n",
    "```\n",
    "4: inertia - 256072.04579303213; sil. sc. - 0.31444170083606704\n",
    "5: inertia - 227554.2376321967; sil. sc. - 0.34311048078809936\n",
    "6: inertia - 202065.96235178213; sil. sc. - 0.35232087538538825\n",
    "7: inertia - 177094.1785625173; sil. sc. - 0.36866691654031486\n",
    "8: inertia - 153850.87448911023; sil. sc. - 0.3859684217665287\n",
    "9: inertia - 127702.21587324908; sil. sc. - 0.3919532943441802\n",
    "10: inertia - 115516.70349251636; sil. sc. - 0.32611419239309214\n",
    "11: inertia - 104038.67743540397; sil. sc. - 0.3422980570538983\n",
    "12: inertia - 96337.40040246959; sil. sc. - 0.2989968321282588\n",
    "13: inertia - 87004.20764643188; sil. sc. - 0.30072288568256295\n",
    "14: inertia - 83332.56488990947; sil. sc. - 0.30221400712921\n",
    "15: inertia - 80106.3672782928; sil. sc. - 0.297737217007366\n",
    "CPU times: user 3min 5s, sys: 2min 25s, total: 5min 31s\n",
    "Wall time: 1min 23s\n",
    "[[4, 256072.04579303213],\n",
    " [5, 227554.2376321967],\n",
    " [6, 202065.96235178213],\n",
    " [7, 177094.1785625173],\n",
    " [8, 153850.87448911023],\n",
    " [9, 127702.21587324908],\n",
    " [10, 115516.70349251636],\n",
    " [11, 104038.67743540397],\n",
    " [12, 96337.40040246959],\n",
    " [13, 87004.20764643188],\n",
    " [14, 83332.56488990947],\n",
    " [15, 80106.3672782928]]\n",
    "```"
   ]
  },
  {
   "cell_type": "code",
   "execution_count": 16,
   "id": "68a85f64-bdd2-4a68-95ef-27920ec949c1",
   "metadata": {},
   "outputs": [
    {
     "data": {
      "image/png": "[encoded data removed]",
      "text/plain": [
       "<Figure size 1000x600 with 1 Axes>"
      ]
     },
     "metadata": {},
     "output_type": "display_data"
    }
   ],
   "source": [
    "# make elbow plot\n",
    "nclusters, inertias = list(zip(*scores))\n",
    "\n",
    "fig, ax = plt.subplots(figsize=(10,6))\n",
    "ax.plot(nclusters, inertias, color='orange')\n",
    "ax.set_title(\"Clusters v. Inertia (Elbow Plot)\", fontdict=PLOT_STYLES['title'])\n",
    "ax.set_xlabel(\"Number of Clusters\", fontdict=PLOT_STYLES['axis-label'])\n",
    "ax.set_ylabel(\"Inertia\", fontdict=PLOT_STYLES['axis-label'])\n",
    "plt.tight_layout();\n",
    "plt.savefig(IMGDIR + 'clustering-kmeans_elbow_plot.png')"
   ]
  },
  {
   "cell_type": "code",
   "execution_count": 17,
   "id": "257ea622-9b06-49e9-85fb-81c2d6346c92",
   "metadata": {},
   "outputs": [
    {
     "name": "stdout",
     "output_type": "stream",
     "text": [
      "CPU times: user 29 µs, sys: 11 µs, total: 40 µs\n",
      "Wall time: 67.7 µs\n"
     ]
    },
    {
     "data": {
      "text/plain": [
       "\"\\n# 9 clusters looks optimal on 25k points; not bad sil. score (almost 0.40).\\nn_clusters = 9\\n\\n# Run on a bigger sample set. NOTE 500,000 takes around 2 hours to run\\nfwdf = full_df.sample(500_000)\\n\\n# scale values\\nfwdf_ss = ss.fit_transform(fwdf[weather_cols])\\n\\n# fit model\\nkm = KMeans(n_clusters = n_clusters)\\nkm.fit(fwdf_ss)\\n\\n# get scores\\nprint(f'inertia: {km.inertia_}; sil. sc.: {silhouette_score(fwdf_ss, km.labels_)}')\\n\""
      ]
     },
     "execution_count": 17,
     "metadata": {},
     "output_type": "execute_result"
    }
   ],
   "source": [
    "%%time\n",
    "# NOTE the below takes around 2 hours to run. Summary of results is below.\n",
    "'''\n",
    "# 9 clusters looks optimal on 25k points; not bad sil. score (almost 0.40).\n",
    "n_clusters = 9\n",
    "\n",
    "# Run on a bigger sample set. NOTE 500,000 takes around 2 hours to run\n",
    "fwdf = full_df.sample(500_000)\n",
    "\n",
    "# scale values\n",
    "fwdf_ss = ss.fit_transform(fwdf[weather_cols])\n",
    "\n",
    "# fit model\n",
    "km = KMeans(n_clusters = n_clusters)\n",
    "km.fit(fwdf_ss)\n",
    "\n",
    "# get scores\n",
    "print(f'inertia: {km.inertia_}; sil. sc.: {silhouette_score(fwdf_ss, km.labels_)}')\n",
    "'''"
   ]
  },
  {
   "cell_type": "markdown",
   "id": "e3f1990f-444c-4293-9ad3-2ec72d0522c3",
   "metadata": {},
   "source": [
    "The above code is copied here.\n",
    "```python\n",
    "# 9 clusters looks optimal on 25k points; not bad sil. score (almost 0.40).\n",
    "n_clusters = 9\n",
    "\n",
    "# Run on a bigger sample set. NOTE 500,000 takes around 2 hours to run\n",
    "fwdf = full_df.sample(500_000)\n",
    "\n",
    "# scale values\n",
    "fwdf_ss = ss.fit_transform(fwdf[weather_cols])\n",
    "\n",
    "# fit model\n",
    "km = KMeans(n_clusters = n_clusters)\n",
    "km.fit(fwdf_ss)\n",
    "\n",
    "# get scores\n",
    "print(f'inertia: {km.inertia_}; sil. sc.: {silhouette_score(fwdf_ss, km.labels_)}')\n",
    "```\n",
    "Here are the results from the above code, which took over 2 hours to run.\n",
    "```\n",
    "inertia: 2619171.421951194; sil. sc.: 0.40032813861412514\n",
    "CPU times: user 1h 20min 5s, sys: 51min 54s, total: 2h 11min 59s\n",
    "Wall time: 39min 14s\n",
    "```\n",
    "The above took quite a bit of time, and is still only a small subsection of the data. I have run this with a few sample sizes, and in all cases silhouette scores are unreliable. The silhouette score is sometimes quite a bit lower than the approx 0.4 score for 25,000 data points (I have gotten from 0.3 to 0.4 with different sample sizes above 25,000)."
   ]
  },
  {
   "cell_type": "markdown",
   "id": "22ac0886-3b4c-4625-b8f0-c8aff8ecb1b1",
   "metadata": {},
   "source": [
    "#### Conclusion\n",
    "\n",
    "The time and resource cost for running a full KMeans Clustering analysis on all features or even a subset of features is prohibitive. The scores achieved do not justify any further attempts."
   ]
  },
  {
   "cell_type": "markdown",
   "id": "0e288c05-8fea-4e61-9a58-d8da1b7e613a",
   "metadata": {},
   "source": [
    "---\n",
    "\n",
    "## 2. KPrototype Clustering\n",
    "\n",
    "KPrototype Clustering is a combination of KMeans Clustering and KModes Clustering. KMeans clustering works on continuous numerical values, whereas KModes works on categorical values.\n",
    "\n",
    "Here, the encoded data set was unencoded to minimize column count and create proper categorical columns. This set was fed into the KPrototype algorithm and the `cost_` property viewed to evaluate performance."
   ]
  },
  {
   "cell_type": "markdown",
   "id": "70b8655b-b3b0-41ce-a03e-0ec1e31a08d9",
   "metadata": {},
   "source": [
    "### 2a. Remove Encoding\n",
    "\n",
    "Reverse-encode categorical columns to reduce dimensions and format for KPrototypes"
   ]
  },
  {
   "cell_type": "code",
   "execution_count": 18,
   "id": "7484ca05-affe-4707-8a15-41ab42f95f3e",
   "metadata": {},
   "outputs": [
    {
     "name": "stdout",
     "output_type": "stream",
     "text": [
      "['Wind_Speed(mph)', 'Give_Way', 'No_Exit', 'Traffic_Calming', 'Traffic_Signal', 'Sunrise_Sunset', 'wc_clouds', 'wc_dust', 'wc_fair', 'wc_fog', 'wc_ice', 'wc_rain', 'wc_snow', 'wc_thunder', 'wc_wind', 'st_interstate', 'st_highway', 'st_other', 'State_AL', 'State_AR', 'State_AZ', 'State_CA', 'State_CO', 'State_CT', 'State_DC', 'State_DE', 'State_FL', 'State_GA', 'State_IA', 'State_ID', 'State_IL', 'State_IN', 'State_KS', 'State_KY', 'State_LA', 'State_MA', 'State_MD', 'State_ME', 'State_MI', 'State_MN', 'State_MO', 'State_MS', 'State_MT', 'State_NC', 'State_ND', 'State_NE', 'State_NH', 'State_NJ', 'State_NM', 'State_NV', 'State_NY', 'State_OH', 'State_OK', 'State_OR', 'State_PA', 'State_RI', 'State_SC', 'State_SD', 'State_TN', 'State_TX', 'State_UT', 'State_VA', 'State_VT', 'State_WA', 'State_WI', 'State_WV', 'State_WY', 'Side_L', 'Side_R', 'Timezone_US/Central', 'Timezone_US/Eastern', 'Timezone_US/Mountain', 'Timezone_US/Pacific', 'year_2016', 'year_2017', 'year_2018', 'year_2019', 'year_2020', 'year_2021', 'month_1', 'month_2', 'month_3', 'month_4', 'month_5', 'month_6', 'month_7', 'month_8', 'month_9', 'month_10', 'month_11', 'month_12', 'hour_0', 'hour_1', 'hour_2', 'hour_3', 'hour_4', 'hour_5', 'hour_6', 'hour_7', 'hour_8', 'hour_9', 'hour_10', 'hour_11', 'hour_12', 'hour_13', 'hour_14', 'hour_15', 'hour_16', 'hour_17', 'hour_18', 'hour_19', 'hour_20', 'hour_21', 'hour_22', 'hour_23']\n"
     ]
    }
   ],
   "source": [
    "# all columns with a '_' in them\n",
    "print([c for c in full_df.columns if '_' in c])"
   ]
  },
  {
   "cell_type": "code",
   "execution_count": 19,
   "id": "dfe340c6-5f84-465c-a390-229b40fb6bdc",
   "metadata": {},
   "outputs": [
    {
     "name": "stdout",
     "output_type": "stream",
     "text": [
      "{'st': ['interstate', 'highway', 'other'], 'State': ['AL', 'AR', 'AZ', 'CA', 'CO', 'CT', 'DC', 'DE', 'FL', 'GA', 'IA', 'ID', 'IL', 'IN', 'KS', 'KY', 'LA', 'MA', 'MD', 'ME', 'MI', 'MN', 'MO', 'MS', 'MT', 'NC', 'ND', 'NE', 'NH', 'NJ', 'NM', 'NV', 'NY', 'OH', 'OK', 'OR', 'PA', 'RI', 'SC', 'SD', 'TN', 'TX', 'UT', 'VA', 'VT', 'WA', 'WI', 'WV', 'WY'], 'Side': ['L', 'R'], 'Timezone': ['US/Central', 'US/Eastern', 'US/Mountain', 'US/Pacific'], 'year': ['2016', '2017', '2018', '2019', '2020', '2021'], 'month': ['1', '2', '3', '4', '5', '6', '7', '8', '9', '10', '11', '12'], 'hour': ['0', '1', '2', '3', '4', '5', '6', '7', '8', '9', '10', '11', '12', '13', '14', '15', '16', '17', '18', '19', '20', '21', '22', '23']}\n"
     ]
    }
   ],
   "source": [
    "# note that wc (weather condition) encodings may have duplicates due to multiple\n",
    "# specified weather conditions. Not sure whether to categorize these or leave them encoded,\n",
    "# so leaving encoded for now.\n",
    "\n",
    "# The rest of these should have one value per category per row, so can be unencoded without\n",
    "# fear of overlap\n",
    "\n",
    "# The follow makes a list of currently encoded category prefixes towards eventually un-encoding them\n",
    "encoded_cprefixes = ['st', 'State', 'Side', 'Timezone', 'year', 'month', 'hour']\n",
    "encoded_vals = {k: list() for k in encoded_cprefixes}\n",
    "\n",
    "# get column/category names\n",
    "for prefix in encoded_cprefixes:\n",
    "    encoded_vals[prefix] = [c.split('_')[1] for c in full_df.columns if c.startswith(prefix + '_')]\n",
    "\n",
    "print(encoded_vals)"
   ]
  },
  {
   "cell_type": "code",
   "execution_count": 20,
   "id": "0bd15088-4ac4-436c-837c-e09a9ef56ae7",
   "metadata": {},
   "outputs": [],
   "source": [
    "# create unencoded dataframes for each encoded prefix\n",
    "unencoded_dfs = {k: None for k in encoded_cprefixes}\n",
    "\n",
    "for prefix in encoded_vals:\n",
    "    cnames = [prefix + '_' + v for v in encoded_vals[prefix]]\n",
    "    unencoded_dfs[prefix] = full_df[cnames].idxmax(axis=1).apply(lambda x: x.split('_')[1])"
   ]
  },
  {
   "cell_type": "code",
   "execution_count": 21,
   "id": "4ecf05d0-44d8-4577-bcc9-8f3b65d1355d",
   "metadata": {},
   "outputs": [
    {
     "name": "stdout",
     "output_type": "stream",
     "text": [
      "(2731050, 7)\n"
     ]
    },
    {
     "data": {
      "text/html": [
       "<div>\n",
       "<style scoped>\n",
       "    .dataframe tbody tr th:only-of-type {\n",
       "        vertical-align: middle;\n",
       "    }\n",
       "\n",
       "    .dataframe tbody tr th {\n",
       "        vertical-align: top;\n",
       "    }\n",
       "\n",
       "    .dataframe thead th {\n",
       "        text-align: right;\n",
       "    }\n",
       "</style>\n",
       "<table border=\"1\" class=\"dataframe\">\n",
       "  <thead>\n",
       "    <tr style=\"text-align: right;\">\n",
       "      <th></th>\n",
       "      <th>st</th>\n",
       "      <th>State</th>\n",
       "      <th>Side</th>\n",
       "      <th>Timezone</th>\n",
       "      <th>year</th>\n",
       "      <th>month</th>\n",
       "      <th>hour</th>\n",
       "    </tr>\n",
       "  </thead>\n",
       "  <tbody>\n",
       "    <tr>\n",
       "      <th>0</th>\n",
       "      <td>other</td>\n",
       "      <td>OH</td>\n",
       "      <td>R</td>\n",
       "      <td>US/Eastern</td>\n",
       "      <td>2016</td>\n",
       "      <td>2</td>\n",
       "      <td>0</td>\n",
       "    </tr>\n",
       "    <tr>\n",
       "      <th>1</th>\n",
       "      <td>interstate</td>\n",
       "      <td>OH</td>\n",
       "      <td>R</td>\n",
       "      <td>US/Eastern</td>\n",
       "      <td>2016</td>\n",
       "      <td>2</td>\n",
       "      <td>5</td>\n",
       "    </tr>\n",
       "    <tr>\n",
       "      <th>2</th>\n",
       "      <td>interstate</td>\n",
       "      <td>OH</td>\n",
       "      <td>R</td>\n",
       "      <td>US/Eastern</td>\n",
       "      <td>2016</td>\n",
       "      <td>2</td>\n",
       "      <td>6</td>\n",
       "    </tr>\n",
       "    <tr>\n",
       "      <th>3</th>\n",
       "      <td>interstate</td>\n",
       "      <td>OH</td>\n",
       "      <td>R</td>\n",
       "      <td>US/Eastern</td>\n",
       "      <td>2016</td>\n",
       "      <td>2</td>\n",
       "      <td>6</td>\n",
       "    </tr>\n",
       "    <tr>\n",
       "      <th>4</th>\n",
       "      <td>interstate</td>\n",
       "      <td>OH</td>\n",
       "      <td>R</td>\n",
       "      <td>US/Eastern</td>\n",
       "      <td>2016</td>\n",
       "      <td>2</td>\n",
       "      <td>7</td>\n",
       "    </tr>\n",
       "  </tbody>\n",
       "</table>\n",
       "</div>"
      ],
      "text/plain": [
       "           st State Side    Timezone  year month hour\n",
       "0       other    OH    R  US/Eastern  2016     2    0\n",
       "1  interstate    OH    R  US/Eastern  2016     2    5\n",
       "2  interstate    OH    R  US/Eastern  2016     2    6\n",
       "3  interstate    OH    R  US/Eastern  2016     2    6\n",
       "4  interstate    OH    R  US/Eastern  2016     2    7"
      ]
     },
     "execution_count": 21,
     "metadata": {},
     "output_type": "execute_result"
    }
   ],
   "source": [
    "# create unencoded columns dataframe\n",
    "df_unenc = pd.concat(unencoded_dfs.values(), keys=unencoded_dfs.keys(), axis=1)\n",
    "print(df_unenc.shape)\n",
    "df_unenc.head()"
   ]
  },
  {
   "cell_type": "code",
   "execution_count": 22,
   "id": "92cd3c29-cadd-456c-b1b2-e3433dd4aa36",
   "metadata": {},
   "outputs": [
    {
     "data": {
      "text/html": [
       "<div>\n",
       "<style scoped>\n",
       "    .dataframe tbody tr th:only-of-type {\n",
       "        vertical-align: middle;\n",
       "    }\n",
       "\n",
       "    .dataframe tbody tr th {\n",
       "        vertical-align: top;\n",
       "    }\n",
       "\n",
       "    .dataframe thead th {\n",
       "        text-align: right;\n",
       "    }\n",
       "</style>\n",
       "<table border=\"1\" class=\"dataframe\">\n",
       "  <thead>\n",
       "    <tr style=\"text-align: right;\">\n",
       "      <th></th>\n",
       "      <th>Severity</th>\n",
       "      <th>Temperature(F)</th>\n",
       "      <th>Humidity(%)</th>\n",
       "      <th>Pressure(in)</th>\n",
       "      <th>Visibility(mi)</th>\n",
       "      <th>Wind_Speed(mph)</th>\n",
       "      <th>Precipitation(in)</th>\n",
       "      <th>Amenity</th>\n",
       "      <th>Bump</th>\n",
       "      <th>Crossing</th>\n",
       "      <th>...</th>\n",
       "      <th>wc_snow</th>\n",
       "      <th>wc_thunder</th>\n",
       "      <th>wc_wind</th>\n",
       "      <th>st</th>\n",
       "      <th>State</th>\n",
       "      <th>Side</th>\n",
       "      <th>Timezone</th>\n",
       "      <th>year</th>\n",
       "      <th>month</th>\n",
       "      <th>hour</th>\n",
       "    </tr>\n",
       "  </thead>\n",
       "  <tbody>\n",
       "    <tr>\n",
       "      <th>0</th>\n",
       "      <td>1</td>\n",
       "      <td>42.1</td>\n",
       "      <td>58.0</td>\n",
       "      <td>29.76</td>\n",
       "      <td>10.0</td>\n",
       "      <td>10.4</td>\n",
       "      <td>0.00</td>\n",
       "      <td>0</td>\n",
       "      <td>0</td>\n",
       "      <td>0</td>\n",
       "      <td>...</td>\n",
       "      <td>0</td>\n",
       "      <td>0</td>\n",
       "      <td>0</td>\n",
       "      <td>other</td>\n",
       "      <td>OH</td>\n",
       "      <td>R</td>\n",
       "      <td>US/Eastern</td>\n",
       "      <td>2016</td>\n",
       "      <td>2</td>\n",
       "      <td>0</td>\n",
       "    </tr>\n",
       "    <tr>\n",
       "      <th>1</th>\n",
       "      <td>0</td>\n",
       "      <td>36.9</td>\n",
       "      <td>91.0</td>\n",
       "      <td>29.68</td>\n",
       "      <td>10.0</td>\n",
       "      <td>0.0</td>\n",
       "      <td>0.02</td>\n",
       "      <td>0</td>\n",
       "      <td>0</td>\n",
       "      <td>0</td>\n",
       "      <td>...</td>\n",
       "      <td>0</td>\n",
       "      <td>0</td>\n",
       "      <td>0</td>\n",
       "      <td>interstate</td>\n",
       "      <td>OH</td>\n",
       "      <td>R</td>\n",
       "      <td>US/Eastern</td>\n",
       "      <td>2016</td>\n",
       "      <td>2</td>\n",
       "      <td>5</td>\n",
       "    </tr>\n",
       "    <tr>\n",
       "      <th>2</th>\n",
       "      <td>0</td>\n",
       "      <td>36.0</td>\n",
       "      <td>97.0</td>\n",
       "      <td>29.70</td>\n",
       "      <td>10.0</td>\n",
       "      <td>0.0</td>\n",
       "      <td>0.02</td>\n",
       "      <td>0</td>\n",
       "      <td>0</td>\n",
       "      <td>0</td>\n",
       "      <td>...</td>\n",
       "      <td>0</td>\n",
       "      <td>0</td>\n",
       "      <td>0</td>\n",
       "      <td>interstate</td>\n",
       "      <td>OH</td>\n",
       "      <td>R</td>\n",
       "      <td>US/Eastern</td>\n",
       "      <td>2016</td>\n",
       "      <td>2</td>\n",
       "      <td>6</td>\n",
       "    </tr>\n",
       "    <tr>\n",
       "      <th>3</th>\n",
       "      <td>0</td>\n",
       "      <td>39.0</td>\n",
       "      <td>55.0</td>\n",
       "      <td>29.65</td>\n",
       "      <td>10.0</td>\n",
       "      <td>0.0</td>\n",
       "      <td>0.00</td>\n",
       "      <td>0</td>\n",
       "      <td>0</td>\n",
       "      <td>0</td>\n",
       "      <td>...</td>\n",
       "      <td>0</td>\n",
       "      <td>0</td>\n",
       "      <td>0</td>\n",
       "      <td>interstate</td>\n",
       "      <td>OH</td>\n",
       "      <td>R</td>\n",
       "      <td>US/Eastern</td>\n",
       "      <td>2016</td>\n",
       "      <td>2</td>\n",
       "      <td>6</td>\n",
       "    </tr>\n",
       "    <tr>\n",
       "      <th>4</th>\n",
       "      <td>1</td>\n",
       "      <td>37.0</td>\n",
       "      <td>93.0</td>\n",
       "      <td>29.69</td>\n",
       "      <td>10.0</td>\n",
       "      <td>10.4</td>\n",
       "      <td>0.01</td>\n",
       "      <td>0</td>\n",
       "      <td>0</td>\n",
       "      <td>0</td>\n",
       "      <td>...</td>\n",
       "      <td>0</td>\n",
       "      <td>0</td>\n",
       "      <td>0</td>\n",
       "      <td>interstate</td>\n",
       "      <td>OH</td>\n",
       "      <td>R</td>\n",
       "      <td>US/Eastern</td>\n",
       "      <td>2016</td>\n",
       "      <td>2</td>\n",
       "      <td>7</td>\n",
       "    </tr>\n",
       "  </tbody>\n",
       "</table>\n",
       "<p>5 rows × 36 columns</p>\n",
       "</div>"
      ],
      "text/plain": [
       "   Severity  Temperature(F)  Humidity(%)  Pressure(in)  Visibility(mi)  \\\n",
       "0         1            42.1         58.0         29.76            10.0   \n",
       "1         0            36.9         91.0         29.68            10.0   \n",
       "2         0            36.0         97.0         29.70            10.0   \n",
       "3         0            39.0         55.0         29.65            10.0   \n",
       "4         1            37.0         93.0         29.69            10.0   \n",
       "\n",
       "   Wind_Speed(mph)  Precipitation(in)  Amenity  Bump  Crossing  ...  wc_snow  \\\n",
       "0             10.4               0.00        0     0         0  ...        0   \n",
       "1              0.0               0.02        0     0         0  ...        0   \n",
       "2              0.0               0.02        0     0         0  ...        0   \n",
       "3              0.0               0.00        0     0         0  ...        0   \n",
       "4             10.4               0.01        0     0         0  ...        0   \n",
       "\n",
       "   wc_thunder  wc_wind          st  State  Side    Timezone  year  month  hour  \n",
       "0           0        0       other     OH     R  US/Eastern  2016      2     0  \n",
       "1           0        0  interstate     OH     R  US/Eastern  2016      2     5  \n",
       "2           0        0  interstate     OH     R  US/Eastern  2016      2     6  \n",
       "3           0        0  interstate     OH     R  US/Eastern  2016      2     6  \n",
       "4           0        0  interstate     OH     R  US/Eastern  2016      2     7  \n",
       "\n",
       "[5 rows x 36 columns]"
      ]
     },
     "execution_count": 22,
     "metadata": {},
     "output_type": "execute_result"
    }
   ],
   "source": [
    "# create new dataframe dropping old encodings and using new unencoded columns\n",
    "encoded_cnames = [p + '_' + v for p in encoded_vals for v in encoded_vals[p]]\n",
    "df = pd.concat([full_df.drop(columns=encoded_cnames), df_unenc], axis=1)\n",
    "df.head()"
   ]
  },
  {
   "cell_type": "code",
   "execution_count": 23,
   "id": "4fa9d036-5af9-43e6-b5d6-510860f43269",
   "metadata": {},
   "outputs": [],
   "source": [
    "# assuming all looks good, save memory by removing old variables\n",
    "del df_unenc\n",
    "del encoded_cnames\n",
    "del encoded_cprefixes\n",
    "del encoded_vals\n",
    "del unencoded_dfs"
   ]
  },
  {
   "cell_type": "markdown",
   "id": "465e8db7-052c-4042-913c-397d4b85088c",
   "metadata": {},
   "source": [
    "### 2b. KPrototype Modeling\n",
    "\n",
    "Fit and run a kprototypes model. The KPrototype modeling algorithm requires the categorical columns to be specified as an argument, so first get a list of the categorical features.\n",
    "\n",
    "Much of the modeling below was performed with guidance from [a Medium article by Shivam Soliya](https://medium.com/analytics-vidhya/customer-segmentation-using-k-prototypes-algorithm-in-python-aad4acbaaede)."
   ]
  },
  {
   "cell_type": "code",
   "execution_count": 24,
   "id": "83ea97f7-6587-4702-80a7-b23dcb66c10f",
   "metadata": {},
   "outputs": [
    {
     "name": "stdout",
     "output_type": "stream",
     "text": [
      "All columns: Index(['Severity', 'Temperature(F)', 'Humidity(%)', 'Pressure(in)',\n",
      "       'Visibility(mi)', 'Wind_Speed(mph)', 'Precipitation(in)', 'Amenity',\n",
      "       'Bump', 'Crossing', 'Give_Way', 'Junction', 'No_Exit', 'Railway',\n",
      "       'Roundabout', 'Station', 'Stop', 'Traffic_Calming', 'Traffic_Signal',\n",
      "       'Sunrise_Sunset', 'wc_clouds', 'wc_dust', 'wc_fair', 'wc_fog', 'wc_ice',\n",
      "       'wc_rain', 'wc_snow', 'wc_thunder', 'wc_wind', 'st', 'State', 'Side',\n",
      "       'Timezone', 'year', 'month', 'hour'],\n",
      "      dtype='object')\n",
      "\n",
      "Numeric columns: ['Temperature(F)', 'Humidity(%)', 'Pressure(in)', 'Visibility(mi)', 'Wind_Speed(mph)', 'Precipitation(in)']\n",
      "\n",
      "Categorical columns: ['Severity', 'Amenity', 'Bump', 'Crossing', 'Give_Way', 'Junction', 'No_Exit', 'Railway', 'Roundabout', 'Station', 'Stop', 'Traffic_Calming', 'Traffic_Signal', 'Sunrise_Sunset', 'wc_clouds', 'wc_dust', 'wc_fair', 'wc_fog', 'wc_ice', 'wc_rain', 'wc_snow', 'wc_thunder', 'wc_wind', 'st', 'State', 'Side', 'Timezone', 'year', 'month', 'hour']\n"
     ]
    }
   ],
   "source": [
    "# columns to drop\n",
    "to_drop = ['Start_Time', 'Start_Lat', 'Start_Lng']\n",
    "\n",
    "# numeric columns to use\n",
    "num_cols = ['Temperature(F)',\n",
    "            'Humidity(%)',\n",
    "            'Pressure(in)',\n",
    "            'Visibility(mi)',\n",
    "            'Wind_Speed(mph)',\n",
    "            'Precipitation(in)'\n",
    "           ]\n",
    "\n",
    "# categorical columns to use\n",
    "cat_cols = [c for c in df.columns if c not in num_cols]\n",
    "\n",
    "# show the columns\n",
    "print(f'All columns: {df.columns}')\n",
    "print(f'\\nNumeric columns: {num_cols}')\n",
    "print(f'\\nCategorical columns: {cat_cols}')"
   ]
  },
  {
   "cell_type": "code",
   "execution_count": 25,
   "id": "2de69e83-7edb-401e-a944-42809a8a6e9d",
   "metadata": {},
   "outputs": [
    {
     "data": {
      "text/html": [
       "<div>\n",
       "<style scoped>\n",
       "    .dataframe tbody tr th:only-of-type {\n",
       "        vertical-align: middle;\n",
       "    }\n",
       "\n",
       "    .dataframe tbody tr th {\n",
       "        vertical-align: top;\n",
       "    }\n",
       "\n",
       "    .dataframe thead th {\n",
       "        text-align: right;\n",
       "    }\n",
       "</style>\n",
       "<table border=\"1\" class=\"dataframe\">\n",
       "  <thead>\n",
       "    <tr style=\"text-align: right;\">\n",
       "      <th></th>\n",
       "      <th>Temperature(F)</th>\n",
       "      <th>Humidity(%)</th>\n",
       "      <th>Pressure(in)</th>\n",
       "      <th>Visibility(mi)</th>\n",
       "      <th>Wind_Speed(mph)</th>\n",
       "      <th>Precipitation(in)</th>\n",
       "      <th>Severity</th>\n",
       "      <th>Amenity</th>\n",
       "      <th>Bump</th>\n",
       "      <th>Crossing</th>\n",
       "      <th>...</th>\n",
       "      <th>wc_snow</th>\n",
       "      <th>wc_thunder</th>\n",
       "      <th>wc_wind</th>\n",
       "      <th>st</th>\n",
       "      <th>State</th>\n",
       "      <th>Side</th>\n",
       "      <th>Timezone</th>\n",
       "      <th>year</th>\n",
       "      <th>month</th>\n",
       "      <th>hour</th>\n",
       "    </tr>\n",
       "  </thead>\n",
       "  <tbody>\n",
       "    <tr>\n",
       "      <th>0</th>\n",
       "      <td>-1.061058</td>\n",
       "      <td>-0.280072</td>\n",
       "      <td>0.273374</td>\n",
       "      <td>0.334319</td>\n",
       "      <td>0.576307</td>\n",
       "      <td>-0.080935</td>\n",
       "      <td>1</td>\n",
       "      <td>0</td>\n",
       "      <td>0</td>\n",
       "      <td>0</td>\n",
       "      <td>...</td>\n",
       "      <td>0</td>\n",
       "      <td>0</td>\n",
       "      <td>0</td>\n",
       "      <td>other</td>\n",
       "      <td>OH</td>\n",
       "      <td>R</td>\n",
       "      <td>US/Eastern</td>\n",
       "      <td>2016</td>\n",
       "      <td>2</td>\n",
       "      <td>0</td>\n",
       "    </tr>\n",
       "    <tr>\n",
       "      <th>1</th>\n",
       "      <td>-1.340930</td>\n",
       "      <td>1.163988</td>\n",
       "      <td>0.196244</td>\n",
       "      <td>0.334319</td>\n",
       "      <td>-1.293580</td>\n",
       "      <td>0.205979</td>\n",
       "      <td>0</td>\n",
       "      <td>0</td>\n",
       "      <td>0</td>\n",
       "      <td>0</td>\n",
       "      <td>...</td>\n",
       "      <td>0</td>\n",
       "      <td>0</td>\n",
       "      <td>0</td>\n",
       "      <td>interstate</td>\n",
       "      <td>OH</td>\n",
       "      <td>R</td>\n",
       "      <td>US/Eastern</td>\n",
       "      <td>2016</td>\n",
       "      <td>2</td>\n",
       "      <td>5</td>\n",
       "    </tr>\n",
       "    <tr>\n",
       "      <th>2</th>\n",
       "      <td>-1.389369</td>\n",
       "      <td>1.426545</td>\n",
       "      <td>0.215527</td>\n",
       "      <td>0.334319</td>\n",
       "      <td>-1.293580</td>\n",
       "      <td>0.205979</td>\n",
       "      <td>0</td>\n",
       "      <td>0</td>\n",
       "      <td>0</td>\n",
       "      <td>0</td>\n",
       "      <td>...</td>\n",
       "      <td>0</td>\n",
       "      <td>0</td>\n",
       "      <td>0</td>\n",
       "      <td>interstate</td>\n",
       "      <td>OH</td>\n",
       "      <td>R</td>\n",
       "      <td>US/Eastern</td>\n",
       "      <td>2016</td>\n",
       "      <td>2</td>\n",
       "      <td>6</td>\n",
       "    </tr>\n",
       "    <tr>\n",
       "      <th>3</th>\n",
       "      <td>-1.227905</td>\n",
       "      <td>-0.411350</td>\n",
       "      <td>0.167320</td>\n",
       "      <td>0.334319</td>\n",
       "      <td>-1.293580</td>\n",
       "      <td>-0.080935</td>\n",
       "      <td>0</td>\n",
       "      <td>0</td>\n",
       "      <td>0</td>\n",
       "      <td>0</td>\n",
       "      <td>...</td>\n",
       "      <td>0</td>\n",
       "      <td>0</td>\n",
       "      <td>0</td>\n",
       "      <td>interstate</td>\n",
       "      <td>OH</td>\n",
       "      <td>R</td>\n",
       "      <td>US/Eastern</td>\n",
       "      <td>2016</td>\n",
       "      <td>2</td>\n",
       "      <td>6</td>\n",
       "    </tr>\n",
       "    <tr>\n",
       "      <th>4</th>\n",
       "      <td>-1.335547</td>\n",
       "      <td>1.251507</td>\n",
       "      <td>0.205885</td>\n",
       "      <td>0.334319</td>\n",
       "      <td>0.576307</td>\n",
       "      <td>0.062522</td>\n",
       "      <td>1</td>\n",
       "      <td>0</td>\n",
       "      <td>0</td>\n",
       "      <td>0</td>\n",
       "      <td>...</td>\n",
       "      <td>0</td>\n",
       "      <td>0</td>\n",
       "      <td>0</td>\n",
       "      <td>interstate</td>\n",
       "      <td>OH</td>\n",
       "      <td>R</td>\n",
       "      <td>US/Eastern</td>\n",
       "      <td>2016</td>\n",
       "      <td>2</td>\n",
       "      <td>7</td>\n",
       "    </tr>\n",
       "  </tbody>\n",
       "</table>\n",
       "<p>5 rows × 36 columns</p>\n",
       "</div>"
      ],
      "text/plain": [
       "   Temperature(F)  Humidity(%)  Pressure(in)  Visibility(mi)  Wind_Speed(mph)  \\\n",
       "0       -1.061058    -0.280072      0.273374        0.334319         0.576307   \n",
       "1       -1.340930     1.163988      0.196244        0.334319        -1.293580   \n",
       "2       -1.389369     1.426545      0.215527        0.334319        -1.293580   \n",
       "3       -1.227905    -0.411350      0.167320        0.334319        -1.293580   \n",
       "4       -1.335547     1.251507      0.205885        0.334319         0.576307   \n",
       "\n",
       "   Precipitation(in)  Severity  Amenity  Bump  Crossing  ...  wc_snow  \\\n",
       "0          -0.080935         1        0     0         0  ...        0   \n",
       "1           0.205979         0        0     0         0  ...        0   \n",
       "2           0.205979         0        0     0         0  ...        0   \n",
       "3          -0.080935         0        0     0         0  ...        0   \n",
       "4           0.062522         1        0     0         0  ...        0   \n",
       "\n",
       "   wc_thunder  wc_wind          st  State  Side    Timezone  year  month  hour  \n",
       "0           0        0       other     OH     R  US/Eastern  2016      2     0  \n",
       "1           0        0  interstate     OH     R  US/Eastern  2016      2     5  \n",
       "2           0        0  interstate     OH     R  US/Eastern  2016      2     6  \n",
       "3           0        0  interstate     OH     R  US/Eastern  2016      2     6  \n",
       "4           0        0  interstate     OH     R  US/Eastern  2016      2     7  \n",
       "\n",
       "[5 rows x 36 columns]"
      ]
     },
     "execution_count": 25,
     "metadata": {},
     "output_type": "execute_result"
    }
   ],
   "source": [
    "# In order to properly cluster under k-prototypes we need to have a dataframe with\n",
    "# (only) numeric columns scaled.\n",
    "\n",
    "# instantiate standard scaler\n",
    "ss = StandardScaler()\n",
    "# fit/transform on numeric columns only\n",
    "scaled_num_data = ss.fit_transform(df[num_cols])\n",
    "# turn scaled data into new dataframe and combine with categorical\n",
    "df_ss = pd.concat([pd.DataFrame(scaled_num_data, columns=num_cols), df[cat_cols]], axis=1)\n",
    "# check it\n",
    "df_ss.head()"
   ]
  },
  {
   "cell_type": "code",
   "execution_count": 26,
   "id": "0604703a-2440-4fd7-9198-2b94f90f5d3e",
   "metadata": {},
   "outputs": [
    {
     "data": {
      "text/plain": [
       "((5000, 36),\n",
       " 0    0.899\n",
       " 1    0.101\n",
       " Name: Severity, dtype: float64)"
      ]
     },
     "execution_count": 26,
     "metadata": {},
     "output_type": "execute_result"
    }
   ],
   "source": [
    "# apparently we need column index numbers, not names... so get those first\n",
    "col_ixs = [df_ss.columns.get_loc(cn) for cn in cat_cols]\n",
    "\n",
    "# also I'm going to create a smaller test dataframe because this could take a \n",
    "# while with the full one\n",
    "\n",
    "# Note the below very low sample number is used because this algorithm took a \n",
    "# long time to run for most sample sizes\n",
    "small_df = df_ss.sample(5_000, random_state=1)\n",
    "small_df.shape, small_df['Severity'].value_counts(normalize=True)"
   ]
  },
  {
   "cell_type": "markdown",
   "id": "914f9d9b-2fcf-45f1-bb21-bb8d6b3d22ee",
   "metadata": {},
   "source": [
    "**NOTE** according to [one article](https://medium.com/analytics-vidhya/customer-segmentation-using-k-prototypes-algorithm-in-python-aad4acbaaede) the KPrototypes input has to be an array, not a dataframe..."
   ]
  },
  {
   "cell_type": "code",
   "execution_count": 27,
   "id": "26550153-ed19-4798-89a3-71fb21954661",
   "metadata": {},
   "outputs": [
    {
     "data": {
      "text/plain": [
       "array([[0.6020225003316857, -0.8051847775517763, 0.40835192476452414,\n",
       "        0.3343194187088466, -0.035002393395341315, -0.08093480319517692,\n",
       "        0, 0, 0, 0, 0, 0, 0, 0, 0, 0, 0, 0, 0, 0, 1, 0, 0, 0, 0, 0, 0, 0,\n",
       "        0, 'other', 'NC', 'R', 'US/Eastern', '2021', '6', '11'],\n",
       "       [0.4297940580696254, -0.4988689925445656, 0.40835192476452414,\n",
       "        0.3343194187088466, 1.1876161103152258, -0.08093480319517692, 0,\n",
       "        0, 0, 0, 0, 0, 0, 0, 0, 0, 0, 0, 0, 0, 1, 0, 0, 0, 0, 0, 0, 0, 0,\n",
       "        'highway', 'OH', 'R', 'US/Eastern', '2017', '6', '14'],\n",
       "       [-0.04383415815103975, 1.2952663196405256, -1.0281972551080991,\n",
       "        0.3343194187088466, -1.2935802648621015, -0.08093480319517692, 0,\n",
       "        0, 0, 0, 0, 0, 0, 0, 0, 0, 0, 0, 0, 1, 1, 0, 0, 0, 0, 0, 0, 0, 0,\n",
       "        'highway', 'CA', 'R', 'US/Pacific', '2020', '6', '3'],\n",
       "       [-0.4205838755992963, 1.2952663196405256, -0.15084171572280464,\n",
       "        0.3343194187088466, -0.7541897485192043, 0.06252226068230396, 0,\n",
       "        0, 0, 0, 0, 0, 0, 0, 0, 0, 0, 0, 0, 1, 0, 0, 0, 0, 0, 1, 0, 0, 0,\n",
       "        'other', 'NC', 'L', 'US/Eastern', '2020', '4', '5'],\n",
       "       [-1.8737613571854286, 0.9014317389169689, 0.7843614416439366,\n",
       "        0.3343194187088466, -1.2935802648621015, -0.08093480319517692, 0,\n",
       "        0, 0, 0, 0, 0, 0, 0, 0, 0, 0, 0, 0, 1, 0, 0, 1, 0, 0, 0, 0, 0, 0,\n",
       "        'interstate', 'CT', 'R', 'US/Eastern', '2020', '12', '0']],\n",
       "      dtype=object)"
      ]
     },
     "execution_count": 27,
     "metadata": {},
     "output_type": "execute_result"
    }
   ],
   "source": [
    "# make an array out of a dataframe\n",
    "small_array = small_df.values\n",
    "small_array[:5]"
   ]
  },
  {
   "cell_type": "code",
   "execution_count": 33,
   "id": "8ecebfc2-73aa-4736-a1e4-4bcf712e953a",
   "metadata": {},
   "outputs": [
    {
     "name": "stdout",
     "output_type": "stream",
     "text": [
      "CPU times: user 514 ms, sys: 255 ms, total: 769 ms\n",
      "Wall time: 6min 27s\n"
     ]
    },
    {
     "data": {
      "text/plain": [
       "array([9, 3, 0, ..., 9, 3, 4], dtype=uint16)"
      ]
     },
     "execution_count": 33,
     "metadata": {},
     "output_type": "execute_result"
    }
   ],
   "source": [
    "%%time\n",
    "# FINALLY I'm going to run the model.\n",
    "\n",
    "# Here's an example of the code, demonstrating how this model splits categorical from \n",
    "# non-categorical features. I will use this further below to try getting some interpretable output \n",
    "# from the model. Running this code should give an idea of the time commitment required in\n",
    "# fitting this.\n",
    "\n",
    "# because the below takes a long time we'll write labels to disk so I can save this notebook\n",
    "# with the code commented out\n",
    "'''\n",
    "kpm = KPrototypes(10, init='Huang', random_state=1, n_jobs=-1)\n",
    "kpm.fit(small_array, categorical=col_ixs)\n",
    "labels = kpm.labels_\n",
    "\n",
    "with open('kprototype-labels.json', 'w') as f:\n",
    "    f.write(json.dumps(labels.tolist()))\n",
    "'''"
   ]
  },
  {
   "cell_type": "code",
   "execution_count": 47,
   "id": "9e5fb570-371d-4e03-b20a-a3f39a424d5e",
   "metadata": {},
   "outputs": [
    {
     "data": {
      "text/plain": [
       "array([9, 3, 0, ..., 9, 3, 4])"
      ]
     },
     "execution_count": 47,
     "metadata": {},
     "output_type": "execute_result"
    }
   ],
   "source": [
    "with open('kprototype-labels.json', 'r') as f:\n",
    "    l = json.loads(f.read())\n",
    "labels = np.array(l)\n",
    "labels"
   ]
  },
  {
   "cell_type": "code",
   "execution_count": 48,
   "id": "26a35895-b2d2-42ab-9152-d4450158e685",
   "metadata": {},
   "outputs": [],
   "source": [
    "# Run model on a few cluster counts\n",
    "\n",
    "# Here's a function to get a bunch of scores at once in order to test for best\n",
    "# cluster count. KPrototypes has a .cost_ attribute which is (apparently) a scoring value. \n",
    "def get_cost_range(data, cat_idx=[], start=5, end=10, skip=1, model_type='Huang', random_state=1):\n",
    "    costs = list()\n",
    "    for k in range(start, end+1, skip):\n",
    "        t = time.time()\n",
    "        kpm = KPrototypes(k, init=model_type, random_state=random_state, n_jobs=-1)\n",
    "        kpm.fit(data, categorical=cat_idx)\n",
    "        costs.append((k, kpm.cost_))\n",
    "        print(f'> {k} clusters, run time {(time.time() - t) / 60}')\n",
    "    \n",
    "    return costs"
   ]
  },
  {
   "cell_type": "code",
   "execution_count": 49,
   "id": "8f91ad64-d868-4bf6-b9ed-a3e0f8c4a313",
   "metadata": {},
   "outputs": [
    {
     "name": "stdout",
     "output_type": "stream",
     "text": [
      "CPU times: user 15 µs, sys: 0 ns, total: 15 µs\n",
      "Wall time: 18.8 µs\n"
     ]
    },
    {
     "data": {
      "text/plain": [
       "'\\ncosts = get_cost_range(small_array, col_ixs, 10, 31, 3)\\ncosts\\n'"
      ]
     },
     "execution_count": 49,
     "metadata": {},
     "output_type": "execute_result"
    }
   ],
   "source": [
    "%%time\n",
    "\n",
    "# try it out on 10-30 clusters\n",
    "# NOTE the below commented code can take an hour or so to run. \n",
    "# I will manually fill in the `costs` variable from one set of fittings for plotting\n",
    "\n",
    "costs = [(10, 21944.72070805368),\n",
    " (13, 20721.7647468641),\n",
    " (16, 19572.242773315575),\n",
    " (19, 18981.204004449086),\n",
    " (22, 18301.799788662447),\n",
    " (25, 17783.985263092232),\n",
    " (28, 17431.19909538291),\n",
    " (31, 17043.692230287976)]\n",
    "\n",
    "'''\n",
    "costs = get_cost_range(small_array, col_ixs, 10, 31, 3)\n",
    "costs\n",
    "'''"
   ]
  },
  {
   "cell_type": "markdown",
   "id": "98ca2314-d6ad-486a-b34e-4da1bbc34398",
   "metadata": {},
   "source": [
    "The following results were achieved on one pass of the above code:\n",
    "```\n",
    "> 10 clusters, run time 4.9203309973080955\n",
    "> 13 clusters, run time 7.237348433335622\n",
    "> 16 clusters, run time 5.393261635303498\n",
    "> 19 clusters, run time 5.747837615013123\n",
    "> 22 clusters, run time 6.946661067008972\n",
    "> 25 clusters, run time 8.618471932411193\n",
    "> 28 clusters, run time 7.631595349311828\n",
    "> 31 clusters, run time 10.716895600159964\n",
    "CPU times: user 1.77 s, sys: 559 ms, total: 2.33 s\n",
    "Wall time: 57min 12s\n",
    "[(10, 21944.72070805368),\n",
    " (13, 20721.7647468641),\n",
    " (16, 19572.242773315575),\n",
    " (19, 18981.204004449086),\n",
    " (22, 18301.799788662447),\n",
    " (25, 17783.985263092232),\n",
    " (28, 17431.19909538291),\n",
    " (31, 17043.692230287976)]\n",
    "```"
   ]
  },
  {
   "cell_type": "code",
   "execution_count": 50,
   "id": "cef18d8e-3774-4ff6-96be-0fc8bb05349f",
   "metadata": {},
   "outputs": [
    {
     "data": {
      "image/png": "[encoded data removed]",
      "text/plain": [
       "<Figure size 1000x700 with 1 Axes>"
      ]
     },
     "metadata": {},
     "output_type": "display_data"
    }
   ],
   "source": [
    "# plot the elbow curve (I think we need more points to really make sense of this)\n",
    "cluster_nums, cost_list = zip(*costs)\n",
    "fig, ax = plt.subplots(figsize=(10,7))\n",
    "ax.scatter(cluster_nums, cost_list, color='orange')\n",
    "ax.plot(cluster_nums, cost_list, color='orange')\n",
    "ax.set_title(\"Clusters v. Cost (Elbow Plot)\", fontdict=PLOT_STYLES['title'])\n",
    "ax.set_xlabel(\"Cluster Count\", fontdict=PLOT_STYLES['axis-label'])\n",
    "ax.set_ylabel(\"Cost Metric\", fontdict=PLOT_STYLES['axis-label'])\n",
    "plt.tight_layout();\n",
    "plt.savefig(IMGDIR + 'clustering-kprototypes_elbow_plot.png')"
   ]
  },
  {
   "cell_type": "code",
   "execution_count": 52,
   "id": "0e08fc2f-df02-4674-8ddf-97720a6d7237",
   "metadata": {},
   "outputs": [],
   "source": [
    "# Attempt to interpret results\n",
    "# I'll test results on the first kpm.fit_predict I ran a few cells above (before function)\n",
    "result_df = small_df.copy()\n",
    "# add cluster labels to dataframe\n",
    "result_df['labels'] = labels\n",
    "# reverse scale numeric columns and replace in dataframe\n",
    "result_df[num_cols] = pd.DataFrame(ss.inverse_transform(result_df[num_cols]), columns=num_cols).values\n",
    "\n",
    "# group by category label\n",
    "cluster_medians = result_df.groupby('labels').median()\n",
    "cluster_means = result_df.groupby('labels').mean()\n",
    "cluster_counts = result_df.groupby('labels').count()"
   ]
  },
  {
   "cell_type": "code",
   "execution_count": 53,
   "id": "8ec0336f-bcad-4993-9a29-49fd69a2f719",
   "metadata": {},
   "outputs": [
    {
     "data": {
      "text/html": [
       "<div>\n",
       "<style scoped>\n",
       "    .dataframe tbody tr th:only-of-type {\n",
       "        vertical-align: middle;\n",
       "    }\n",
       "\n",
       "    .dataframe tbody tr th {\n",
       "        vertical-align: top;\n",
       "    }\n",
       "\n",
       "    .dataframe thead th {\n",
       "        text-align: right;\n",
       "    }\n",
       "</style>\n",
       "<table border=\"1\" class=\"dataframe\">\n",
       "  <thead>\n",
       "    <tr style=\"text-align: right;\">\n",
       "      <th></th>\n",
       "      <th>Temperature(F)</th>\n",
       "      <th>Humidity(%)</th>\n",
       "      <th>Pressure(in)</th>\n",
       "      <th>Visibility(mi)</th>\n",
       "      <th>Wind_Speed(mph)</th>\n",
       "      <th>Precipitation(in)</th>\n",
       "      <th>Severity</th>\n",
       "      <th>Amenity</th>\n",
       "      <th>Bump</th>\n",
       "      <th>Crossing</th>\n",
       "      <th>...</th>\n",
       "      <th>Sunrise_Sunset</th>\n",
       "      <th>wc_clouds</th>\n",
       "      <th>wc_dust</th>\n",
       "      <th>wc_fair</th>\n",
       "      <th>wc_fog</th>\n",
       "      <th>wc_ice</th>\n",
       "      <th>wc_rain</th>\n",
       "      <th>wc_snow</th>\n",
       "      <th>wc_thunder</th>\n",
       "      <th>wc_wind</th>\n",
       "    </tr>\n",
       "    <tr>\n",
       "      <th>labels</th>\n",
       "      <th></th>\n",
       "      <th></th>\n",
       "      <th></th>\n",
       "      <th></th>\n",
       "      <th></th>\n",
       "      <th></th>\n",
       "      <th></th>\n",
       "      <th></th>\n",
       "      <th></th>\n",
       "      <th></th>\n",
       "      <th></th>\n",
       "      <th></th>\n",
       "      <th></th>\n",
       "      <th></th>\n",
       "      <th></th>\n",
       "      <th></th>\n",
       "      <th></th>\n",
       "      <th></th>\n",
       "      <th></th>\n",
       "      <th></th>\n",
       "      <th></th>\n",
       "    </tr>\n",
       "  </thead>\n",
       "  <tbody>\n",
       "    <tr>\n",
       "      <th>0</th>\n",
       "      <td>51.758874</td>\n",
       "      <td>81.335373</td>\n",
       "      <td>29.691383</td>\n",
       "      <td>9.598531</td>\n",
       "      <td>1.985557</td>\n",
       "      <td>0.001493</td>\n",
       "      <td>0.073439</td>\n",
       "      <td>0.008568</td>\n",
       "      <td>0.001224</td>\n",
       "      <td>0.056304</td>\n",
       "      <td>...</td>\n",
       "      <td>0.729498</td>\n",
       "      <td>0.304774</td>\n",
       "      <td>0.004896</td>\n",
       "      <td>0.618115</td>\n",
       "      <td>0.013464</td>\n",
       "      <td>0.000000</td>\n",
       "      <td>0.055080</td>\n",
       "      <td>0.002448</td>\n",
       "      <td>0.002448</td>\n",
       "      <td>0.000000</td>\n",
       "    </tr>\n",
       "    <tr>\n",
       "      <th>1</th>\n",
       "      <td>50.303748</td>\n",
       "      <td>91.045365</td>\n",
       "      <td>29.518363</td>\n",
       "      <td>2.772584</td>\n",
       "      <td>6.189349</td>\n",
       "      <td>0.020473</td>\n",
       "      <td>0.102564</td>\n",
       "      <td>0.005917</td>\n",
       "      <td>0.000000</td>\n",
       "      <td>0.051282</td>\n",
       "      <td>...</td>\n",
       "      <td>0.455621</td>\n",
       "      <td>0.246548</td>\n",
       "      <td>0.003945</td>\n",
       "      <td>0.037475</td>\n",
       "      <td>0.250493</td>\n",
       "      <td>0.005917</td>\n",
       "      <td>0.315582</td>\n",
       "      <td>0.130178</td>\n",
       "      <td>0.021696</td>\n",
       "      <td>0.025641</td>\n",
       "    </tr>\n",
       "    <tr>\n",
       "      <th>2</th>\n",
       "      <td>60.735823</td>\n",
       "      <td>48.321519</td>\n",
       "      <td>29.756911</td>\n",
       "      <td>9.854430</td>\n",
       "      <td>5.570253</td>\n",
       "      <td>0.000203</td>\n",
       "      <td>0.073418</td>\n",
       "      <td>0.003797</td>\n",
       "      <td>0.000000</td>\n",
       "      <td>0.063291</td>\n",
       "      <td>...</td>\n",
       "      <td>0.277215</td>\n",
       "      <td>0.189873</td>\n",
       "      <td>0.002532</td>\n",
       "      <td>0.791139</td>\n",
       "      <td>0.010127</td>\n",
       "      <td>0.000000</td>\n",
       "      <td>0.003797</td>\n",
       "      <td>0.000000</td>\n",
       "      <td>0.002532</td>\n",
       "      <td>0.000000</td>\n",
       "    </tr>\n",
       "    <tr>\n",
       "      <th>3</th>\n",
       "      <td>69.929908</td>\n",
       "      <td>58.100917</td>\n",
       "      <td>29.726734</td>\n",
       "      <td>9.860550</td>\n",
       "      <td>15.574862</td>\n",
       "      <td>0.001394</td>\n",
       "      <td>0.115596</td>\n",
       "      <td>0.023853</td>\n",
       "      <td>0.000000</td>\n",
       "      <td>0.102752</td>\n",
       "      <td>...</td>\n",
       "      <td>0.141284</td>\n",
       "      <td>0.605505</td>\n",
       "      <td>0.000000</td>\n",
       "      <td>0.332110</td>\n",
       "      <td>0.001835</td>\n",
       "      <td>0.000000</td>\n",
       "      <td>0.042202</td>\n",
       "      <td>0.001835</td>\n",
       "      <td>0.022018</td>\n",
       "      <td>0.099083</td>\n",
       "    </tr>\n",
       "    <tr>\n",
       "      <th>4</th>\n",
       "      <td>35.596842</td>\n",
       "      <td>72.941053</td>\n",
       "      <td>29.540611</td>\n",
       "      <td>9.656842</td>\n",
       "      <td>9.532211</td>\n",
       "      <td>0.002505</td>\n",
       "      <td>0.134737</td>\n",
       "      <td>0.004211</td>\n",
       "      <td>0.000000</td>\n",
       "      <td>0.035789</td>\n",
       "      <td>...</td>\n",
       "      <td>0.545263</td>\n",
       "      <td>0.663158</td>\n",
       "      <td>0.000000</td>\n",
       "      <td>0.235789</td>\n",
       "      <td>0.002105</td>\n",
       "      <td>0.002105</td>\n",
       "      <td>0.071579</td>\n",
       "      <td>0.025263</td>\n",
       "      <td>0.002105</td>\n",
       "      <td>0.006316</td>\n",
       "    </tr>\n",
       "    <tr>\n",
       "      <th>5</th>\n",
       "      <td>69.500000</td>\n",
       "      <td>92.300000</td>\n",
       "      <td>29.786000</td>\n",
       "      <td>3.070000</td>\n",
       "      <td>10.750000</td>\n",
       "      <td>0.852000</td>\n",
       "      <td>0.000000</td>\n",
       "      <td>0.000000</td>\n",
       "      <td>0.000000</td>\n",
       "      <td>0.000000</td>\n",
       "      <td>...</td>\n",
       "      <td>0.400000</td>\n",
       "      <td>0.100000</td>\n",
       "      <td>0.000000</td>\n",
       "      <td>0.000000</td>\n",
       "      <td>0.000000</td>\n",
       "      <td>0.000000</td>\n",
       "      <td>0.500000</td>\n",
       "      <td>0.000000</td>\n",
       "      <td>0.600000</td>\n",
       "      <td>0.000000</td>\n",
       "    </tr>\n",
       "  </tbody>\n",
       "</table>\n",
       "<p>6 rows × 29 columns</p>\n",
       "</div>"
      ],
      "text/plain": [
       "        Temperature(F)  Humidity(%)  Pressure(in)  Visibility(mi)  \\\n",
       "labels                                                              \n",
       "0            51.758874    81.335373     29.691383        9.598531   \n",
       "1            50.303748    91.045365     29.518363        2.772584   \n",
       "2            60.735823    48.321519     29.756911        9.854430   \n",
       "3            69.929908    58.100917     29.726734        9.860550   \n",
       "4            35.596842    72.941053     29.540611        9.656842   \n",
       "5            69.500000    92.300000     29.786000        3.070000   \n",
       "\n",
       "        Wind_Speed(mph)  Precipitation(in)  Severity   Amenity      Bump  \\\n",
       "labels                                                                     \n",
       "0              1.985557           0.001493  0.073439  0.008568  0.001224   \n",
       "1              6.189349           0.020473  0.102564  0.005917  0.000000   \n",
       "2              5.570253           0.000203  0.073418  0.003797  0.000000   \n",
       "3             15.574862           0.001394  0.115596  0.023853  0.000000   \n",
       "4              9.532211           0.002505  0.134737  0.004211  0.000000   \n",
       "5             10.750000           0.852000  0.000000  0.000000  0.000000   \n",
       "\n",
       "        Crossing  ...  Sunrise_Sunset  wc_clouds   wc_dust   wc_fair  \\\n",
       "labels            ...                                                  \n",
       "0       0.056304  ...        0.729498   0.304774  0.004896  0.618115   \n",
       "1       0.051282  ...        0.455621   0.246548  0.003945  0.037475   \n",
       "2       0.063291  ...        0.277215   0.189873  0.002532  0.791139   \n",
       "3       0.102752  ...        0.141284   0.605505  0.000000  0.332110   \n",
       "4       0.035789  ...        0.545263   0.663158  0.000000  0.235789   \n",
       "5       0.000000  ...        0.400000   0.100000  0.000000  0.000000   \n",
       "\n",
       "          wc_fog    wc_ice   wc_rain   wc_snow  wc_thunder   wc_wind  \n",
       "labels                                                                \n",
       "0       0.013464  0.000000  0.055080  0.002448    0.002448  0.000000  \n",
       "1       0.250493  0.005917  0.315582  0.130178    0.021696  0.025641  \n",
       "2       0.010127  0.000000  0.003797  0.000000    0.002532  0.000000  \n",
       "3       0.001835  0.000000  0.042202  0.001835    0.022018  0.099083  \n",
       "4       0.002105  0.002105  0.071579  0.025263    0.002105  0.006316  \n",
       "5       0.000000  0.000000  0.500000  0.000000    0.600000  0.000000  \n",
       "\n",
       "[6 rows x 29 columns]"
      ]
     },
     "execution_count": 53,
     "metadata": {},
     "output_type": "execute_result"
    }
   ],
   "source": [
    "cluster_means[0:6]"
   ]
  },
  {
   "cell_type": "code",
   "execution_count": null,
   "id": "44bc549c-52ae-4d59-9152-35a9c9d71087",
   "metadata": {},
   "outputs": [],
   "source": [
    "# Try plotting these, normalized\n",
    "mms = MinMaxScaler()\n",
    "cluster_means_ss = mms.fit_transform(cluster_means)\n",
    "\n",
    "fig, ax = plt.subplots(figsize=(14, 7))\n",
    "\n",
    "for ix in range(len(cluster_means.T[:6])):\n",
    "    ax.plot(range(1,11), cluster_means_ss.T[ix], label=cluster_means.T.index[ix], alpha=0.5)\n",
    "    ax.scatter(range(1,11), cluster_means_ss.T[ix])\n",
    "    ax.set_xticks(list(range(1,11)))\n",
    "    ax.grid(True, 'major', 'x', ls=':')    \n",
    "\n",
    "ax.set_title(\"Normalized Mean Weather Values for 10 Classes\", fontdict=PLOT_STYLES['title'])    \n",
    "ax.set_xlabel(\"Class\", fontdict=PLOT_STYLES['axis-label'])\n",
    "ax.set_ylabel(\"Normalized Mean Value\", fontdict=PLOT_STYLES['axis-label'])\n",
    "ax.legend();\n",
    "plt.savefig(IMGDIR + 'clustering-10class_mean_vals.png')"
   ]
  },
  {
   "cell_type": "code",
   "execution_count": 58,
   "id": "fcf6a06c-15a5-430d-b37f-a63b2bad0371",
   "metadata": {},
   "outputs": [
    {
     "data": {
      "text/plain": [
       "<matplotlib.legend.Legend at 0x177cbb2e0>"
      ]
     },
     "execution_count": 58,
     "metadata": {},
     "output_type": "execute_result"
    },
    {
     "data": {
      "image/png": "[encoded data removed]",
      "text/plain": [
       "<Figure size 1400x700 with 1 Axes>"
      ]
     },
     "metadata": {},
     "output_type": "display_data"
    }
   ],
   "source": [
    "mms = MinMaxScaler()\n",
    "cluster_medians_ss = mms.fit_transform(cluster_medians)\n",
    "\n",
    "fig, ax = plt.subplots(figsize=(14, 7))\n",
    "\n",
    "for ix in range(len(cluster_medians.T[:6])):\n",
    "    ax.plot(range(1,11), cluster_medians_ss.T[ix], label=cluster_medians.T.index[ix], alpha=0.5)\n",
    "    ax.scatter(range(1,11), cluster_medians_ss.T[ix])\n",
    "    ax.set_xticks(list(range(1,11)))\n",
    "    ax.grid(True, 'major', 'x', ls=':')    \n",
    "\n",
    "ax.set_title(\"Normalized Median Weather Values for 10 Classes\", fontdict=PLOT_STYLES['title'])    \n",
    "ax.set_xlabel(\"Class\", fontdict=PLOT_STYLES['axis-label'])\n",
    "ax.set_ylabel(\"Normalized Median Value\", fontdict=PLOT_STYLES['axis-label'])\n",
    "ax.legend()"
   ]
  },
  {
   "cell_type": "markdown",
   "id": "3e3e1d5f-3f9c-4eb7-8329-3aece16b2b8e",
   "metadata": {},
   "source": [
    "#### Conclusion\n",
    "\n",
    "The above graphs attempt to make a coherent display of the cluster label means and medians over the 6 main weather features. They are mostly experimental, aiming to see if there is some patterning to the clusters here, lacking more sophisticated visualization techniques. At very least, a takeaway from these graphs is that clustering is not very defined here. Many of the means and medians look identical over clusters, suggesting that this data doesn't define itself well as clustered data (at least under the KPrototypes model).\n",
    "\n",
    "Perhaps more importantly, though, is that this is run on just a tiny subset of the data: 5,000 points. Just testing 8 clustering combinations on 5,000 points took an hour. Trying to run this on 10,000 or more points ended up with a prohibitive running time.\n",
    "\n",
    "The combination of potentially poor clustering performance and prohibitive runtime led to the conclusion that it was not worth further pursuing the clustering exploration."
   ]
  },
  {
   "cell_type": "markdown",
   "id": "30db6bd1-f06c-4d69-afd0-ccbac6f270d4",
   "metadata": {},
   "source": [
    "----\n",
    "\n",
    "## 4. PCA\n",
    "\n",
    "With PCA we are trying to see if there are any feature relationships that are more prevalent in the data. The goal is that a few feature relationship will be a lot more common than others, and can explain a majority of the data relative to the rest of the features."
   ]
  },
  {
   "cell_type": "code",
   "execution_count": null,
   "id": "524c4112-9456-437c-bd9c-e893807cbbc6",
   "metadata": {},
   "outputs": [],
   "source": [
    "# Scale data\n",
    "ss = StandardScaler()\n",
    "full_df_ss = ss.fit_transform(full_df.drop(columns=['Severity']))"
   ]
  },
  {
   "cell_type": "code",
   "execution_count": null,
   "id": "ab9324dc-35e5-4ce8-9e87-f20a885ece5a",
   "metadata": {},
   "outputs": [],
   "source": [
    "# fit PCA to show components that explain 80% of variance\n",
    "pca = PCA(n_components=0.8)\n",
    "pca.fit(full_df_ss)"
   ]
  },
  {
   "cell_type": "code",
   "execution_count": null,
   "id": "fc8b8ba4-3427-4b43-a395-9715a34fcca4",
   "metadata": {},
   "outputs": [],
   "source": [
    "# Check number of components - there are 85 of these!\n",
    "n_comps = len(pca.explained_variance_ratio_)\n",
    "n_comps"
   ]
  },
  {
   "cell_type": "code",
   "execution_count": null,
   "id": "90bd7763-a964-4df3-a71a-ec57111bb519",
   "metadata": {},
   "outputs": [],
   "source": [
    "# plot to show distribution\n",
    "fig, ax = plt.subplots(figsize=(14,6))\n",
    "ax.plot(range(1,n_comps+1), pca.explained_variance_ratio_, lw=2, color='orange')\n",
    "ax.scatter(range(1, n_comps+1), pca.explained_variance_ratio_, s=100, color='orange', alpha=0.3)\n",
    "ax.set_title('explained variance of components')\n",
    "ax.set_xlabel('principal component')\n",
    "ax.set_ylabel('explained variance');"
   ]
  },
  {
   "cell_type": "markdown",
   "id": "34362622-5dd8-44dc-b10e-eae8b99fdebe",
   "metadata": {},
   "source": [
    "**Note:** While this looks promising, in that there is a clear variance ratio drop from principal component 1 through 10 or so, the actual ratios are very small and not especially significant relative to the rest of the components. The highest explained variance is only 2% of the variance - not a significant chunk at all."
   ]
  },
  {
   "cell_type": "code",
   "execution_count": null,
   "id": "0882a26e-ea94-4d9d-9d88-086b0c50b3f5",
   "metadata": {},
   "outputs": [],
   "source": [
    "evr_cumsum = np.cumsum(pca.explained_variance_ratio_)\n",
    "\n",
    "fig, ax = plt.subplots(figsize=(12,6))\n",
    "ax.plot(evr_cumsum, color='orange')\n",
    "ax.scatter(list(range(len(evr_cumsum))),evr_cumsum, color='orange');"
   ]
  },
  {
   "cell_type": "markdown",
   "id": "470189c2-bf98-44fc-a86f-caf46efe13f8",
   "metadata": {},
   "source": [
    "**Note:** This graph supports the previous. The lack of a strong elbow here means that these component variances just aren't that different, so it can't be said that any small subset of these components carries a majority of the variance of this data set."
   ]
  },
  {
   "cell_type": "code",
   "execution_count": null,
   "id": "ec096e45-d534-447f-a467-67ac59b25b46",
   "metadata": {},
   "outputs": [],
   "source": [
    "# show an example of the component values up to component 8\n",
    "component_df = pd.DataFrame(pca.components_[:8], \n",
    "                            columns=full_df.drop(columns=['Severity']).columns,\n",
    "                            index=list(range(1,9))\n",
    "                           )\n",
    "component_df.T.head(6)"
   ]
  },
  {
   "cell_type": "markdown",
   "id": "6442804a-e148-4c8b-8d5a-70bb96c037eb",
   "metadata": {},
   "source": [
    "#### Conclusion\n",
    "\n",
    "As mentioned above, PCA does not show a strong set of majority components, so it does not help interpret the data or provide tools to further explore."
   ]
  },
  {
   "cell_type": "markdown",
   "id": "26e4d8a0-fc70-4b0d-8080-65d05a4c5e21",
   "metadata": {},
   "source": [
    "---\n",
    "\n",
    "## 5. Conclusion\n",
    "\n",
    "The clustering and PCA analyses were attempted in order to see if any insights could be gained into the data. If the data showed any strong clustering tendencies or principal components, further review could be done to potentially draw conclusions from those analyses towards helping make recommendations in connection with the problem statement.\n",
    "\n",
    "However, seeing as none of these analyses provided meaningful information, they have all been abandoned.\n",
    "\n",
    "It is possible other clustering methods could be applicable here, or better clustering could be achieved on a more curated subset of data. However, due to computing and time constraints, such explorations must be left to another time."
   ]
  }
 ],
 "metadata": {
  "kernelspec": {
   "display_name": "Python 3 (ipykernel)",
   "language": "python",
   "name": "python3"
  },
  "language_info": {
   "codemirror_mode": {
    "name": "ipython",
    "version": 3
   },
   "file_extension": ".py",
   "mimetype": "text/x-python",
   "name": "python",
   "nbconvert_exporter": "python",
   "pygments_lexer": "ipython3",
   "version": "3.10.4"
  }
 },
 "nbformat": 4,
 "nbformat_minor": 5
}
