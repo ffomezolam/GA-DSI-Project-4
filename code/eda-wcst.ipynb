{
 "cells": [
  {
   "cell_type": "markdown",
   "id": "a3bbc65d-76d7-44da-9f92-2a161fed9005",
   "metadata": {},
   "source": [
    "# Project 4"
   ]
  },
  {
   "cell_type": "markdown",
   "id": "2ef6695f-c914-40c3-83c1-aec3b229843a",
   "metadata": {},
   "source": [
    "## EDA - weather condition and street"
   ]
  },
  {
   "cell_type": "code",
   "execution_count": 1,
   "id": "b5e2fee4-1bb5-4dd6-8fa2-617e67167fcd",
   "metadata": {},
   "outputs": [],
   "source": [
    "import pandas as pd\n",
    "import numpy as np\n",
    "\n",
    "import matplotlib.pyplot as plt\n",
    "import seaborn as sns\n",
    "\n",
    "# for loading plot styles into dict\n",
    "import json\n",
    "\n",
    "# specify where to save images\n",
    "IMGDIR = '../images/'"
   ]
  },
  {
   "cell_type": "code",
   "execution_count": 2,
   "id": "7ab7b448-f53f-4ced-ac3b-9c7d5482df95",
   "metadata": {},
   "outputs": [],
   "source": [
    "# get font dict\n",
    "with open('styles.json') as f:\n",
    "    plot_styles = json.load(f)"
   ]
  },
  {
   "cell_type": "code",
   "execution_count": 3,
   "id": "12f8d7f3-c0b3-4a38-a02d-b04fb55fca6b",
   "metadata": {},
   "outputs": [],
   "source": [
    "df = pd.read_csv('../data/data-eda-wcst-20220915.01.csv')\n",
    "wc_cols = [c for c in df.columns if c.startswith('wc_')]\n",
    "st_cols = [c for c in df.columns if c.startswith('st_')]\n",
    "wcs_cols = wc_cols + ['Severity']\n",
    "sts_cols = st_cols + ['Severity']"
   ]
  },
  {
   "cell_type": "markdown",
   "id": "e0e32b1e-76fd-45d7-8bcc-6dfe00af9dd0",
   "metadata": {},
   "source": [
    "### Weather Conditions"
   ]
  },
  {
   "cell_type": "code",
   "execution_count": 4,
   "id": "5d5ff974-5a3d-44d7-bc8d-df1245f81500",
   "metadata": {},
   "outputs": [
    {
     "data": {
      "text/plain": [
       "wc_clouds     1095520\n",
       "wc_dust          7552\n",
       "wc_fair       1272769\n",
       "wc_fog          79493\n",
       "wc_ice           2079\n",
       "wc_rain        193915\n",
       "wc_snow         56457\n",
       "wc_thunder      31865\n",
       "wc_tornado          9\n",
       "wc_wind         41918\n",
       "dtype: int64"
      ]
     },
     "execution_count": 4,
     "metadata": {},
     "output_type": "execute_result"
    }
   ],
   "source": [
    "# count of accidents per condition\n",
    "df[wc_cols].sum()"
   ]
  },
  {
   "cell_type": "code",
   "execution_count": 5,
   "id": "510d36d5-009e-400e-a9ef-dd6dfdb8ba84",
   "metadata": {},
   "outputs": [],
   "source": [
    "# Tornado does not have enough data and doesn't show much so I'm dropping it here\n",
    "df.drop(columns=['wc_tornado'], inplace=True)\n",
    "wc_cols = [c for c in df.columns if c.startswith('wc_')]\n",
    "wcs_cols = wc_cols + ['Severity']"
   ]
  },
  {
   "cell_type": "code",
   "execution_count": 6,
   "id": "cfaffcde-1a22-4009-a40a-f155f03b37d8",
   "metadata": {},
   "outputs": [
    {
     "data": {
      "text/html": [
       "<div>\n",
       "<style scoped>\n",
       "    .dataframe tbody tr th:only-of-type {\n",
       "        vertical-align: middle;\n",
       "    }\n",
       "\n",
       "    .dataframe tbody tr th {\n",
       "        vertical-align: top;\n",
       "    }\n",
       "\n",
       "    .dataframe thead th {\n",
       "        text-align: right;\n",
       "    }\n",
       "</style>\n",
       "<table border=\"1\" class=\"dataframe\">\n",
       "  <thead>\n",
       "    <tr style=\"text-align: right;\">\n",
       "      <th></th>\n",
       "      <th>wc_clouds</th>\n",
       "      <th>wc_dust</th>\n",
       "      <th>wc_fair</th>\n",
       "      <th>wc_fog</th>\n",
       "      <th>wc_ice</th>\n",
       "      <th>wc_rain</th>\n",
       "      <th>wc_snow</th>\n",
       "      <th>wc_thunder</th>\n",
       "      <th>wc_wind</th>\n",
       "    </tr>\n",
       "    <tr>\n",
       "      <th>Severity</th>\n",
       "      <th></th>\n",
       "      <th></th>\n",
       "      <th></th>\n",
       "      <th></th>\n",
       "      <th></th>\n",
       "      <th></th>\n",
       "      <th></th>\n",
       "      <th></th>\n",
       "      <th></th>\n",
       "    </tr>\n",
       "  </thead>\n",
       "  <tbody>\n",
       "    <tr>\n",
       "      <th>1</th>\n",
       "      <td>10355</td>\n",
       "      <td>12</td>\n",
       "      <td>12795</td>\n",
       "      <td>247</td>\n",
       "      <td>3</td>\n",
       "      <td>1810</td>\n",
       "      <td>87</td>\n",
       "      <td>246</td>\n",
       "      <td>549</td>\n",
       "    </tr>\n",
       "    <tr>\n",
       "      <th>2</th>\n",
       "      <td>953544</td>\n",
       "      <td>7117</td>\n",
       "      <td>1154904</td>\n",
       "      <td>74430</td>\n",
       "      <td>1576</td>\n",
       "      <td>169845</td>\n",
       "      <td>49513</td>\n",
       "      <td>28657</td>\n",
       "      <td>38190</td>\n",
       "    </tr>\n",
       "    <tr>\n",
       "      <th>3</th>\n",
       "      <td>76082</td>\n",
       "      <td>137</td>\n",
       "      <td>52716</td>\n",
       "      <td>2390</td>\n",
       "      <td>222</td>\n",
       "      <td>13151</td>\n",
       "      <td>3102</td>\n",
       "      <td>1952</td>\n",
       "      <td>1761</td>\n",
       "    </tr>\n",
       "    <tr>\n",
       "      <th>4</th>\n",
       "      <td>55539</td>\n",
       "      <td>286</td>\n",
       "      <td>52354</td>\n",
       "      <td>2426</td>\n",
       "      <td>278</td>\n",
       "      <td>9109</td>\n",
       "      <td>3755</td>\n",
       "      <td>1010</td>\n",
       "      <td>1418</td>\n",
       "    </tr>\n",
       "  </tbody>\n",
       "</table>\n",
       "</div>"
      ],
      "text/plain": [
       "          wc_clouds  wc_dust  wc_fair  wc_fog  wc_ice  wc_rain  wc_snow  \\\n",
       "Severity                                                                  \n",
       "1             10355       12    12795     247       3     1810       87   \n",
       "2            953544     7117  1154904   74430    1576   169845    49513   \n",
       "3             76082      137    52716    2390     222    13151     3102   \n",
       "4             55539      286    52354    2426     278     9109     3755   \n",
       "\n",
       "          wc_thunder  wc_wind  \n",
       "Severity                       \n",
       "1                246      549  \n",
       "2              28657    38190  \n",
       "3               1952     1761  \n",
       "4               1010     1418  "
      ]
     },
     "execution_count": 6,
     "metadata": {},
     "output_type": "execute_result"
    }
   ],
   "source": [
    "# count per condition, grouped by severity\n",
    "wcs_sum = df[wcs_cols].groupby('Severity').sum()\n",
    "wcs_sum"
   ]
  },
  {
   "cell_type": "code",
   "execution_count": 7,
   "id": "ea86b487-3dd0-4894-aa67-071e87a73294",
   "metadata": {},
   "outputs": [],
   "source": [
    "# make into 2 severity levels (low/high)\n",
    "wcs_sum = pd.DataFrame([wcs_sum[0:2].sum(), wcs_sum[2:4].sum()])"
   ]
  },
  {
   "cell_type": "code",
   "execution_count": 8,
   "id": "d36a3b91-125c-42c6-9aa5-4dc2c8159800",
   "metadata": {},
   "outputs": [
    {
     "data": {
      "text/html": [
       "<div>\n",
       "<style scoped>\n",
       "    .dataframe tbody tr th:only-of-type {\n",
       "        vertical-align: middle;\n",
       "    }\n",
       "\n",
       "    .dataframe tbody tr th {\n",
       "        vertical-align: top;\n",
       "    }\n",
       "\n",
       "    .dataframe thead th {\n",
       "        text-align: right;\n",
       "    }\n",
       "</style>\n",
       "<table border=\"1\" class=\"dataframe\">\n",
       "  <thead>\n",
       "    <tr style=\"text-align: right;\">\n",
       "      <th></th>\n",
       "      <th>wc_clouds</th>\n",
       "      <th>wc_dust</th>\n",
       "      <th>wc_fair</th>\n",
       "      <th>wc_fog</th>\n",
       "      <th>wc_ice</th>\n",
       "      <th>wc_rain</th>\n",
       "      <th>wc_snow</th>\n",
       "      <th>wc_thunder</th>\n",
       "      <th>wc_wind</th>\n",
       "    </tr>\n",
       "  </thead>\n",
       "  <tbody>\n",
       "    <tr>\n",
       "      <th>0</th>\n",
       "      <td>87.985523</td>\n",
       "      <td>94.398835</td>\n",
       "      <td>91.744771</td>\n",
       "      <td>93.941605</td>\n",
       "      <td>75.949976</td>\n",
       "      <td>88.520744</td>\n",
       "      <td>87.854473</td>\n",
       "      <td>90.704535</td>\n",
       "      <td>92.416146</td>\n",
       "    </tr>\n",
       "    <tr>\n",
       "      <th>1</th>\n",
       "      <td>12.014477</td>\n",
       "      <td>5.601165</td>\n",
       "      <td>8.255229</td>\n",
       "      <td>6.058395</td>\n",
       "      <td>24.050024</td>\n",
       "      <td>11.479256</td>\n",
       "      <td>12.145527</td>\n",
       "      <td>9.295465</td>\n",
       "      <td>7.583854</td>\n",
       "    </tr>\n",
       "  </tbody>\n",
       "</table>\n",
       "</div>"
      ],
      "text/plain": [
       "   wc_clouds    wc_dust    wc_fair     wc_fog     wc_ice    wc_rain  \\\n",
       "0  87.985523  94.398835  91.744771  93.941605  75.949976  88.520744   \n",
       "1  12.014477   5.601165   8.255229   6.058395  24.050024  11.479256   \n",
       "\n",
       "     wc_snow  wc_thunder    wc_wind  \n",
       "0  87.854473   90.704535  92.416146  \n",
       "1  12.145527    9.295465   7.583854  "
      ]
     },
     "execution_count": 8,
     "metadata": {},
     "output_type": "execute_result"
    }
   ],
   "source": [
    "# normalized count per condition, grouped by severity\n",
    "wcs_sum_norm = wcs_sum.apply(lambda x: (x / sum(x)) * 100)\n",
    "wcs_sum_norm"
   ]
  },
  {
   "cell_type": "code",
   "execution_count": 20,
   "id": "8cd870c1-17e6-4032-bdd2-84e98d8451c5",
   "metadata": {},
   "outputs": [
    {
     "data": {
      "image/png": "[encoded data removed]",
      "text/plain": [
       "<Figure size 1008x576 with 1 Axes>"
      ]
     },
     "metadata": {
      "needs_background": "light"
     },
     "output_type": "display_data"
    }
   ],
   "source": [
    "# comparing severity 1/2 with 3/4, per condition, normalized for similar scale\n",
    "# e.g. wc_clouds sev. 0 divided by all sev. 0\n",
    "PLT_FNAME = \"severity_per_weather_condition.png\"\n",
    "fig, ax = plt.subplots(figsize=(14,8))\n",
    "ix12 = wcs_sum_norm.loc[0]\n",
    "ix34 = wcs_sum_norm.loc[1]\n",
    "ax.bar(wcs_sum_norm.columns, (ix12 / ix12.sum()) * 100, alpha=0.3, label=\"low severity\")\n",
    "ax.bar(wcs_sum_norm.columns, (ix34 / ix34.sum()) * 100, alpha=0.5, label=\"high severity\")\n",
    "ax.set_xticks(ax.get_xticks()) # to suppress warning\n",
    "ax.set_xticklabels([c[3:].title() for c in wcs_sum_norm.columns], fontdict=plot_styles['tick-label'])\n",
    "ax.set_xlabel('Weather Condition', fontdict=plot_styles['axis-label'])\n",
    "ax.set_ylabel('% of Total Count (per Severity)', fontdict=plot_styles['axis-label'])\n",
    "ax.set_title('Proportion of Severity Type per Weather Condition', fontdict=plot_styles['title'])\n",
    "ax.legend();\n",
    "plt.tight_layout()\n",
    "plt.savefig(IMGDIR + PLT_FNAME)"
   ]
  },
  {
   "cell_type": "markdown",
   "id": "73c33455-7c72-4352-9b53-8c45dbbf20ff",
   "metadata": {},
   "source": [
    "### Street Type"
   ]
  },
  {
   "cell_type": "code",
   "execution_count": 10,
   "id": "6aa9f75d-9407-4134-97a3-0915ec0d105a",
   "metadata": {},
   "outputs": [
    {
     "data": {
      "text/plain": [
       "st_interstate     752571\n",
       "st_highway        663007\n",
       "st_other         1315472\n",
       "dtype: int64"
      ]
     },
     "execution_count": 10,
     "metadata": {},
     "output_type": "execute_result"
    }
   ],
   "source": [
    "df[st_cols].sum()"
   ]
  },
  {
   "cell_type": "code",
   "execution_count": 11,
   "id": "550455af-35bf-4596-b8fe-f0ff9761b432",
   "metadata": {},
   "outputs": [
    {
     "data": {
      "text/html": [
       "<div>\n",
       "<style scoped>\n",
       "    .dataframe tbody tr th:only-of-type {\n",
       "        vertical-align: middle;\n",
       "    }\n",
       "\n",
       "    .dataframe tbody tr th {\n",
       "        vertical-align: top;\n",
       "    }\n",
       "\n",
       "    .dataframe thead th {\n",
       "        text-align: right;\n",
       "    }\n",
       "</style>\n",
       "<table border=\"1\" class=\"dataframe\">\n",
       "  <thead>\n",
       "    <tr style=\"text-align: right;\">\n",
       "      <th></th>\n",
       "      <th>st_interstate</th>\n",
       "      <th>st_highway</th>\n",
       "      <th>st_other</th>\n",
       "    </tr>\n",
       "    <tr>\n",
       "      <th>Severity</th>\n",
       "      <th></th>\n",
       "      <th></th>\n",
       "      <th></th>\n",
       "    </tr>\n",
       "  </thead>\n",
       "  <tbody>\n",
       "    <tr>\n",
       "      <th>1</th>\n",
       "      <td>4475</td>\n",
       "      <td>3737</td>\n",
       "      <td>17287</td>\n",
       "    </tr>\n",
       "    <tr>\n",
       "      <th>2</th>\n",
       "      <td>661119</td>\n",
       "      <td>585076</td>\n",
       "      <td>1186428</td>\n",
       "    </tr>\n",
       "    <tr>\n",
       "      <th>3</th>\n",
       "      <td>58717</td>\n",
       "      <td>40158</td>\n",
       "      <td>49902</td>\n",
       "    </tr>\n",
       "    <tr>\n",
       "      <th>4</th>\n",
       "      <td>28260</td>\n",
       "      <td>34036</td>\n",
       "      <td>61855</td>\n",
       "    </tr>\n",
       "  </tbody>\n",
       "</table>\n",
       "</div>"
      ],
      "text/plain": [
       "          st_interstate  st_highway  st_other\n",
       "Severity                                     \n",
       "1                  4475        3737     17287\n",
       "2                661119      585076   1186428\n",
       "3                 58717       40158     49902\n",
       "4                 28260       34036     61855"
      ]
     },
     "execution_count": 11,
     "metadata": {},
     "output_type": "execute_result"
    }
   ],
   "source": [
    "sts_sum = df[sts_cols].groupby('Severity').sum()\n",
    "sts_sum"
   ]
  },
  {
   "cell_type": "code",
   "execution_count": 12,
   "id": "d00f19c4-2e5e-4e97-b1f2-2a035198df24",
   "metadata": {},
   "outputs": [],
   "source": [
    "# make into 2 severity levels\n",
    "sts_sum = pd.DataFrame([sts_sum[0:2].sum(), sts_sum[2:4].sum()])"
   ]
  },
  {
   "cell_type": "code",
   "execution_count": 13,
   "id": "4f106cf5-e782-4267-88e6-895305afbdc2",
   "metadata": {},
   "outputs": [
    {
     "data": {
      "text/html": [
       "<div>\n",
       "<style scoped>\n",
       "    .dataframe tbody tr th:only-of-type {\n",
       "        vertical-align: middle;\n",
       "    }\n",
       "\n",
       "    .dataframe tbody tr th {\n",
       "        vertical-align: top;\n",
       "    }\n",
       "\n",
       "    .dataframe thead th {\n",
       "        text-align: right;\n",
       "    }\n",
       "</style>\n",
       "<table border=\"1\" class=\"dataframe\">\n",
       "  <thead>\n",
       "    <tr style=\"text-align: right;\">\n",
       "      <th></th>\n",
       "      <th>st_interstate</th>\n",
       "      <th>st_highway</th>\n",
       "      <th>st_other</th>\n",
       "    </tr>\n",
       "  </thead>\n",
       "  <tbody>\n",
       "    <tr>\n",
       "      <th>0</th>\n",
       "      <td>88.442685</td>\n",
       "      <td>88.80947</td>\n",
       "      <td>91.504418</td>\n",
       "    </tr>\n",
       "    <tr>\n",
       "      <th>1</th>\n",
       "      <td>11.557315</td>\n",
       "      <td>11.19053</td>\n",
       "      <td>8.495582</td>\n",
       "    </tr>\n",
       "  </tbody>\n",
       "</table>\n",
       "</div>"
      ],
      "text/plain": [
       "   st_interstate  st_highway   st_other\n",
       "0      88.442685    88.80947  91.504418\n",
       "1      11.557315    11.19053   8.495582"
      ]
     },
     "execution_count": 13,
     "metadata": {},
     "output_type": "execute_result"
    }
   ],
   "source": [
    "sts_sum_norm = sts_sum.apply(lambda x: (x / sum(x)) * 100)\n",
    "sts_sum_norm"
   ]
  },
  {
   "cell_type": "code",
   "execution_count": 14,
   "id": "8dc6e767-1805-4b73-86a6-e54ca1d755ac",
   "metadata": {},
   "outputs": [
    {
     "data": {
      "image/png": "[encoded data removed]",
      "text/plain": [
       "<Figure size 432x576 with 1 Axes>"
      ]
     },
     "metadata": {
      "needs_background": "light"
     },
     "output_type": "display_data"
    }
   ],
   "source": [
    "# comparing severity 1/2 with 3/4, per street type, normalized for similar scale\n",
    "PLT_FNAME = \"severity_per_street_type.png\"\n",
    "fig, ax = plt.subplots(figsize=(6,8))\n",
    "ix12 = sts_sum_norm.loc[0]\n",
    "ix34 = sts_sum_norm.loc[1]\n",
    "ax.bar(sts_sum_norm.columns, (ix12 / ix12.sum()) * 100, alpha=0.3, label=\"low severity\")\n",
    "ax.bar(sts_sum_norm.columns, (ix34 / ix34.sum()) * 100, alpha=0.5, label=\"high severity\")\n",
    "ax.set_xticks(ax.get_xticks())\n",
    "ax.set_xticklabels([c[3:].title() for c in sts_sum_norm.columns], fontdict=plot_styles['tick-label'])\n",
    "ax.set_xlabel('Street Type', fontdict=plot_styles['axis-label'])\n",
    "ax.set_ylabel('% of Total Severity Count (per Type)', fontdict=plot_styles['axis-label'])\n",
    "ax.set_title('Proportion of ', fontdict=plot_styles['title'])\n",
    "ax.legend();\n",
    "plt.tight_layout()\n",
    "plt.savefig(IMGDIR + PLT_FNAME)"
   ]
  },
  {
   "cell_type": "code",
   "execution_count": null,
   "id": "d67c36cb-1b70-4f85-88a2-1a49eb161454",
   "metadata": {},
   "outputs": [],
   "source": []
  }
 ],
 "metadata": {
  "kernelspec": {
   "display_name": "Python 3 (ipykernel)",
   "language": "python",
   "name": "python3"
  },
  "language_info": {
   "codemirror_mode": {
    "name": "ipython",
    "version": 3
   },
   "file_extension": ".py",
   "mimetype": "text/x-python",
   "name": "python",
   "nbconvert_exporter": "python",
   "pygments_lexer": "ipython3",
   "version": "3.10.5"
  }
 },
 "nbformat": 4,
 "nbformat_minor": 5
}
