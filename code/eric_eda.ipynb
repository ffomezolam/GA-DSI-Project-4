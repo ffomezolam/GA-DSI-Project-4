{
 "cells": [
  {
   "cell_type": "code",
   "execution_count": 71,
   "id": "ee10439b",
   "metadata": {},
   "outputs": [],
   "source": [
    "import pandas as pd\n",
    "import matplotlib.pyplot as plt"
   ]
  },
  {
   "cell_type": "code",
   "execution_count": 72,
   "id": "d7222993",
   "metadata": {},
   "outputs": [],
   "source": [
    "df = pd.read_csv('../data/cleaned_df.csv')"
   ]
  },
  {
   "cell_type": "code",
   "execution_count": 74,
   "id": "54feabc2",
   "metadata": {},
   "outputs": [
    {
     "data": {
      "text/plain": [
       "Index(['Unnamed: 0', 'Severity', 'Start_Time', 'Start_Lat', 'Start_Lng',\n",
       "       'Street', 'Side', 'City', 'County', 'State', 'Timezone',\n",
       "       'Temperature(F)', 'Humidity(%)', 'Pressure(in)', 'Visibility(mi)',\n",
       "       'Wind_Speed(mph)', 'Precipitation(in)', 'Weather_Condition', 'Amenity',\n",
       "       'Bump', 'Crossing', 'Give_Way', 'Junction', 'No_Exit', 'Railway',\n",
       "       'Roundabout', 'Station', 'Stop', 'Traffic_Calming', 'Traffic_Signal',\n",
       "       'Turning_Loop', 'Sunrise_Sunset'],\n",
       "      dtype='object')"
      ]
     },
     "execution_count": 74,
     "metadata": {},
     "output_type": "execute_result"
    }
   ],
   "source": [
    "df.columns"
   ]
  },
  {
   "cell_type": "code",
   "execution_count": 75,
   "id": "d12ae227",
   "metadata": {},
   "outputs": [],
   "source": [
    "df = df[['Junction', 'No_Exit', 'Railway', 'Roundabout', 'Station', 'Stop', 'Traffic_Calming', 'Traffic_Signal', 'Turning_Loop', 'Severity']]"
   ]
  },
  {
   "cell_type": "code",
   "execution_count": 77,
   "id": "d46fe862",
   "metadata": {},
   "outputs": [],
   "source": [
    "# Converting booleans to integers for visualization and analysis\n",
    "for col in df.columns[:-1]:\n",
    "    df[col] = df[col].apply(lambda x: 1 if x == True else 0)"
   ]
  },
  {
   "cell_type": "markdown",
   "id": "e662ad33",
   "metadata": {},
   "source": [
    "# Exploratory Data Analysis"
   ]
  },
  {
   "cell_type": "code",
   "execution_count": 91,
   "id": "9054ddaf",
   "metadata": {},
   "outputs": [
    {
     "name": "stdout",
     "output_type": "stream",
     "text": [
      "\n",
      "Junction: \n",
      "count    2.731050e+06\n",
      "mean     1.021494e-01\n",
      "std      3.028447e-01\n",
      "min      0.000000e+00\n",
      "25%      0.000000e+00\n",
      "50%      0.000000e+00\n",
      "75%      0.000000e+00\n",
      "max      1.000000e+00\n",
      "Name: Junction, dtype: float64\n",
      "\n",
      "No_Exit: \n",
      "count    2.731050e+06\n",
      "mean     1.521393e-03\n",
      "std      3.897536e-02\n",
      "min      0.000000e+00\n",
      "25%      0.000000e+00\n",
      "50%      0.000000e+00\n",
      "75%      0.000000e+00\n",
      "max      1.000000e+00\n",
      "Name: No_Exit, dtype: float64\n",
      "\n",
      "Railway: \n",
      "count    2.731050e+06\n",
      "mean     7.902089e-03\n",
      "std      8.854179e-02\n",
      "min      0.000000e+00\n",
      "25%      0.000000e+00\n",
      "50%      0.000000e+00\n",
      "75%      0.000000e+00\n",
      "max      1.000000e+00\n",
      "Name: Railway, dtype: float64\n",
      "\n",
      "Roundabout: \n",
      "count    2.731050e+06\n",
      "mean     4.284067e-05\n",
      "std      6.545139e-03\n",
      "min      0.000000e+00\n",
      "25%      0.000000e+00\n",
      "50%      0.000000e+00\n",
      "75%      0.000000e+00\n",
      "max      1.000000e+00\n",
      "Name: Roundabout, dtype: float64\n",
      "\n",
      "Station: \n",
      "count    2.731050e+06\n",
      "mean     2.403984e-02\n",
      "std      1.531729e-01\n",
      "min      0.000000e+00\n",
      "25%      0.000000e+00\n",
      "50%      0.000000e+00\n",
      "75%      0.000000e+00\n",
      "max      1.000000e+00\n",
      "Name: Station, dtype: float64\n",
      "\n",
      "Stop: \n",
      "count    2.731050e+06\n",
      "mean     1.769539e-02\n",
      "std      1.318418e-01\n",
      "min      0.000000e+00\n",
      "25%      0.000000e+00\n",
      "50%      0.000000e+00\n",
      "75%      0.000000e+00\n",
      "max      1.000000e+00\n",
      "Name: Stop, dtype: float64\n",
      "\n",
      "Traffic_Calming: \n",
      "count    2.731050e+06\n",
      "mean     6.059940e-04\n",
      "std      2.460949e-02\n",
      "min      0.000000e+00\n",
      "25%      0.000000e+00\n",
      "50%      0.000000e+00\n",
      "75%      0.000000e+00\n",
      "max      1.000000e+00\n",
      "Name: Traffic_Calming, dtype: float64\n",
      "\n",
      "Traffic_Signal: \n",
      "count    2.731050e+06\n",
      "mean     9.391370e-02\n",
      "std      2.917087e-01\n",
      "min      0.000000e+00\n",
      "25%      0.000000e+00\n",
      "50%      0.000000e+00\n",
      "75%      0.000000e+00\n",
      "max      1.000000e+00\n",
      "Name: Traffic_Signal, dtype: float64\n",
      "\n",
      "Turning_Loop: \n",
      "count    2731050.0\n",
      "mean           0.0\n",
      "std            0.0\n",
      "min            0.0\n",
      "25%            0.0\n",
      "50%            0.0\n",
      "75%            0.0\n",
      "max            0.0\n",
      "Name: Turning_Loop, dtype: float64\n"
     ]
    }
   ],
   "source": [
    "# Exploring each explanatory variable's distributions\n",
    "# Each column's count will be the same, while their 25-50-75% will be the same as well as they're all binary\n",
    "for col in df.columns[:-1]:\n",
    "    print(f'\\n{col}: \\n{df[col].describe()}')"
   ]
  },
  {
   "cell_type": "markdown",
   "id": "2e7009ca",
   "metadata": {},
   "source": [
    "There are only 0 values within Turning_Loop, so I'll be dropping this column moving forward."
   ]
  },
  {
   "cell_type": "code",
   "execution_count": 92,
   "id": "e5324eb5",
   "metadata": {},
   "outputs": [],
   "source": [
    "df.drop('Turning_Loop', axis = 1, inplace = True)"
   ]
  },
  {
   "cell_type": "code",
   "execution_count": 111,
   "id": "a9e1e3df",
   "metadata": {
    "scrolled": true
   },
   "outputs": [
    {
     "data": {
      "text/plain": [
       "2    0.890728\n",
       "3    0.054476\n",
       "4    0.045459\n",
       "1    0.009337\n",
       "Name: Severity, dtype: float64"
      ]
     },
     "execution_count": 111,
     "metadata": {},
     "output_type": "execute_result"
    }
   ],
   "source": [
    "df['Severity'].value_counts(ascending = False, normalize = True)"
   ]
  },
  {
   "cell_type": "markdown",
   "id": "4d5f8c1e",
   "metadata": {},
   "source": [
    "Very imbalanced classes, 89% of the accidents in the dataset are of class 2 severity."
   ]
  },
  {
   "cell_type": "markdown",
   "id": "00b1a4ec",
   "metadata": {},
   "source": [
    "All of my features are binary, categorical variables so I'll be constructing bar plots to visualize their distributions based on the target variable, severity."
   ]
  },
  {
   "cell_type": "code",
   "execution_count": 93,
   "id": "cac5fe92",
   "metadata": {
    "scrolled": true
   },
   "outputs": [
    {
     "data": {
      "text/html": [
       "<div>\n",
       "<style scoped>\n",
       "    .dataframe tbody tr th:only-of-type {\n",
       "        vertical-align: middle;\n",
       "    }\n",
       "\n",
       "    .dataframe tbody tr th {\n",
       "        vertical-align: top;\n",
       "    }\n",
       "\n",
       "    .dataframe thead th {\n",
       "        text-align: right;\n",
       "    }\n",
       "</style>\n",
       "<table border=\"1\" class=\"dataframe\">\n",
       "  <thead>\n",
       "    <tr style=\"text-align: right;\">\n",
       "      <th></th>\n",
       "      <th>Junction</th>\n",
       "      <th>No_Exit</th>\n",
       "      <th>Railway</th>\n",
       "      <th>Roundabout</th>\n",
       "      <th>Station</th>\n",
       "      <th>Stop</th>\n",
       "      <th>Traffic_Calming</th>\n",
       "      <th>Traffic_Signal</th>\n",
       "    </tr>\n",
       "    <tr>\n",
       "      <th>Severity</th>\n",
       "      <th></th>\n",
       "      <th></th>\n",
       "      <th></th>\n",
       "      <th></th>\n",
       "      <th></th>\n",
       "      <th></th>\n",
       "      <th></th>\n",
       "      <th></th>\n",
       "    </tr>\n",
       "  </thead>\n",
       "  <tbody>\n",
       "    <tr>\n",
       "      <th>1</th>\n",
       "      <td>0.087533</td>\n",
       "      <td>0.006353</td>\n",
       "      <td>0.020942</td>\n",
       "      <td>0.000078</td>\n",
       "      <td>0.039570</td>\n",
       "      <td>0.020275</td>\n",
       "      <td>0.001020</td>\n",
       "      <td>0.461195</td>\n",
       "    </tr>\n",
       "    <tr>\n",
       "      <th>2</th>\n",
       "      <td>0.095644</td>\n",
       "      <td>0.001468</td>\n",
       "      <td>0.007694</td>\n",
       "      <td>0.000044</td>\n",
       "      <td>0.024753</td>\n",
       "      <td>0.018034</td>\n",
       "      <td>0.000625</td>\n",
       "      <td>0.088737</td>\n",
       "    </tr>\n",
       "    <tr>\n",
       "      <th>3</th>\n",
       "      <td>0.199715</td>\n",
       "      <td>0.001613</td>\n",
       "      <td>0.009074</td>\n",
       "      <td>0.000013</td>\n",
       "      <td>0.017274</td>\n",
       "      <td>0.008543</td>\n",
       "      <td>0.000437</td>\n",
       "      <td>0.108061</td>\n",
       "    </tr>\n",
       "    <tr>\n",
       "      <th>4</th>\n",
       "      <td>0.115706</td>\n",
       "      <td>0.001474</td>\n",
       "      <td>0.007894</td>\n",
       "      <td>0.000040</td>\n",
       "      <td>0.014990</td>\n",
       "      <td>0.021490</td>\n",
       "      <td>0.000354</td>\n",
       "      <td>0.102963</td>\n",
       "    </tr>\n",
       "  </tbody>\n",
       "</table>\n",
       "</div>"
      ],
      "text/plain": [
       "          Junction   No_Exit   Railway  Roundabout   Station      Stop  \\\n",
       "Severity                                                                 \n",
       "1         0.087533  0.006353  0.020942    0.000078  0.039570  0.020275   \n",
       "2         0.095644  0.001468  0.007694    0.000044  0.024753  0.018034   \n",
       "3         0.199715  0.001613  0.009074    0.000013  0.017274  0.008543   \n",
       "4         0.115706  0.001474  0.007894    0.000040  0.014990  0.021490   \n",
       "\n",
       "          Traffic_Calming  Traffic_Signal  \n",
       "Severity                                   \n",
       "1                0.001020        0.461195  \n",
       "2                0.000625        0.088737  \n",
       "3                0.000437        0.108061  \n",
       "4                0.000354        0.102963  "
      ]
     },
     "execution_count": 93,
     "metadata": {},
     "output_type": "execute_result"
    }
   ],
   "source": [
    "# Finding each feature's proportions based on severity class\n",
    "props = df.groupby('Severity').mean()\n",
    "props"
   ]
  },
  {
   "cell_type": "code",
   "execution_count": 112,
   "id": "8a92d84a",
   "metadata": {},
   "outputs": [
    {
     "data": {
      "image/png": "[encoded data removed]",
      "text/plain": [
       "<Figure size 1296x720 with 8 Axes>"
      ]
     },
     "metadata": {
      "needs_background": "light"
     },
     "output_type": "display_data"
    }
   ],
   "source": [
    "col_index = 0\n",
    "fig, ax = plt.subplots(nrows = 2, ncols = 4, constrained_layout = True, figsize = (18, 10))\n",
    "for i in range(2):\n",
    "    for x in range(4):\n",
    "        col_name = props.columns[col_index]\n",
    "        ax[i][x].bar(props.index, props[col_name])\n",
    "        ax[i][x].set_title(f'Proportion of {col_name} per Severity Class')\n",
    "        ax[i][x].set_ylabel(f'Proportion of {col_name}')\n",
    "        ax[i][x].set_xlabel('Severity Class')\n",
    "        col_index += 1"
   ]
  },
  {
   "cell_type": "markdown",
   "id": "06d013d7",
   "metadata": {},
   "source": [
    "### Observations\n",
    "- Junctions are common amongst class 3 severities\n",
    "- No_Exits are common amongst class 1 severities\n",
    "- Railways are common amongst class 1 severities\n",
    "- Roundabouts are common amongst class 1 severities, very uncommon amongst class 3 severities\n",
    "- There's a negative correlation between severity class and the presence of a Railway Station\n",
    "- Stops are uncommon amongst class 3 severities\n",
    "- There's a negative correlation between severity class and the presence of Traffic_Calming measures\n",
    "- Traffic_Signals are very common amongst class 1 severities"
   ]
  }
 ],
 "metadata": {
  "kernelspec": {
   "display_name": "Python 3 (ipykernel)",
   "language": "python",
   "name": "python3"
  },
  "language_info": {
   "codemirror_mode": {
    "name": "ipython",
    "version": 3
   },
   "file_extension": ".py",
   "mimetype": "text/x-python",
   "name": "python",
   "nbconvert_exporter": "python",
   "pygments_lexer": "ipython3",
   "version": "3.9.12"
  }
 },
 "nbformat": 4,
 "nbformat_minor": 5
}
