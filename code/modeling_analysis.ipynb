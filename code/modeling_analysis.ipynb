{
 "cells": [
  {
   "cell_type": "code",
   "execution_count": 1,
   "id": "885a0e24-8da8-4d09-ab08-fa4fa13f0e22",
   "metadata": {},
   "outputs": [],
   "source": [
    "# import dependencies\n",
    "import numpy as np\n",
    "np.random.seed(0)  \n",
    "import pandas as pd\n",
    "from sklearn.preprocessing import LabelEncoder, MinMaxScaler\n",
    "from sklearn.model_selection import GridSearchCV, KFold, train_test_split, cross_val_predict\n",
    "from sklearn.metrics import classification_report, confusion_matrix, recall_score, precision_score, accuracy_score\n",
    "from sklearn.linear_model import LogisticRegression\n",
    "from sklearn.ensemble import AdaBoostClassifier, RandomForestClassifier\n",
    "from sklearn.tree import DecisionTreeClassifier\n",
    "from collections import Counter\n",
    "from sklearn. model_selection import train_test_split\n",
    "from imblearn.over_sampling import SMOTE\n",
    "import matplotlib.pyplot as plt\n",
    "import seaborn as sns"
   ]
  },
  {
   "cell_type": "code",
   "execution_count": 2,
   "id": "da3368e6-a0df-442a-9d8d-d7169f84d999",
   "metadata": {},
   "outputs": [],
   "source": [
    "# load the dataset\n",
    "df = pd.read_csv('../data/ohe_data.csv',index_col = False)"
   ]
  },
  {
   "cell_type": "code",
   "execution_count": 3,
   "id": "621c2a00-3292-4c21-86f4-049da02df64e",
   "metadata": {},
   "outputs": [
    {
     "data": {
      "text/html": [
       "<div>\n",
       "<style scoped>\n",
       "    .dataframe tbody tr th:only-of-type {\n",
       "        vertical-align: middle;\n",
       "    }\n",
       "\n",
       "    .dataframe tbody tr th {\n",
       "        vertical-align: top;\n",
       "    }\n",
       "\n",
       "    .dataframe thead th {\n",
       "        text-align: right;\n",
       "    }\n",
       "</style>\n",
       "<table border=\"1\" class=\"dataframe\">\n",
       "  <thead>\n",
       "    <tr style=\"text-align: right;\">\n",
       "      <th></th>\n",
       "      <th>Unnamed: 0</th>\n",
       "      <th>Severity</th>\n",
       "      <th>Start_Time</th>\n",
       "      <th>Start_Lat</th>\n",
       "      <th>Start_Lng</th>\n",
       "      <th>Temperature(F)</th>\n",
       "      <th>Humidity(%)</th>\n",
       "      <th>Pressure(in)</th>\n",
       "      <th>Visibility(mi)</th>\n",
       "      <th>Wind_Speed(mph)</th>\n",
       "      <th>...</th>\n",
       "      <th>hour_14</th>\n",
       "      <th>hour_15</th>\n",
       "      <th>hour_16</th>\n",
       "      <th>hour_17</th>\n",
       "      <th>hour_18</th>\n",
       "      <th>hour_19</th>\n",
       "      <th>hour_20</th>\n",
       "      <th>hour_21</th>\n",
       "      <th>hour_22</th>\n",
       "      <th>hour_23</th>\n",
       "    </tr>\n",
       "  </thead>\n",
       "  <tbody>\n",
       "    <tr>\n",
       "      <th>0</th>\n",
       "      <td>0</td>\n",
       "      <td>1</td>\n",
       "      <td>2016-02-08 00:37:08</td>\n",
       "      <td>40.10891</td>\n",
       "      <td>-83.09286</td>\n",
       "      <td>42.1</td>\n",
       "      <td>58.0</td>\n",
       "      <td>29.76</td>\n",
       "      <td>10.0</td>\n",
       "      <td>10.4</td>\n",
       "      <td>...</td>\n",
       "      <td>0</td>\n",
       "      <td>0</td>\n",
       "      <td>0</td>\n",
       "      <td>0</td>\n",
       "      <td>0</td>\n",
       "      <td>0</td>\n",
       "      <td>0</td>\n",
       "      <td>0</td>\n",
       "      <td>0</td>\n",
       "      <td>0</td>\n",
       "    </tr>\n",
       "    <tr>\n",
       "      <th>1</th>\n",
       "      <td>1</td>\n",
       "      <td>0</td>\n",
       "      <td>2016-02-08 05:56:20</td>\n",
       "      <td>39.86542</td>\n",
       "      <td>-84.06280</td>\n",
       "      <td>36.9</td>\n",
       "      <td>91.0</td>\n",
       "      <td>29.68</td>\n",
       "      <td>10.0</td>\n",
       "      <td>0.0</td>\n",
       "      <td>...</td>\n",
       "      <td>0</td>\n",
       "      <td>0</td>\n",
       "      <td>0</td>\n",
       "      <td>0</td>\n",
       "      <td>0</td>\n",
       "      <td>0</td>\n",
       "      <td>0</td>\n",
       "      <td>0</td>\n",
       "      <td>0</td>\n",
       "      <td>0</td>\n",
       "    </tr>\n",
       "  </tbody>\n",
       "</table>\n",
       "<p>2 rows × 134 columns</p>\n",
       "</div>"
      ],
      "text/plain": [
       "   Unnamed: 0  Severity           Start_Time  Start_Lat  Start_Lng  \\\n",
       "0           0         1  2016-02-08 00:37:08   40.10891  -83.09286   \n",
       "1           1         0  2016-02-08 05:56:20   39.86542  -84.06280   \n",
       "\n",
       "   Temperature(F)  Humidity(%)  Pressure(in)  Visibility(mi)  Wind_Speed(mph)  \\\n",
       "0            42.1         58.0         29.76            10.0             10.4   \n",
       "1            36.9         91.0         29.68            10.0              0.0   \n",
       "\n",
       "   ...  hour_14  hour_15  hour_16  hour_17  hour_18  hour_19  hour_20  \\\n",
       "0  ...        0        0        0        0        0        0        0   \n",
       "1  ...        0        0        0        0        0        0        0   \n",
       "\n",
       "   hour_21  hour_22  hour_23  \n",
       "0        0        0        0  \n",
       "1        0        0        0  \n",
       "\n",
       "[2 rows x 134 columns]"
      ]
     },
     "execution_count": 3,
     "metadata": {},
     "output_type": "execute_result"
    }
   ],
   "source": [
    "# display first 5 rows\n",
    "df.head(2)"
   ]
  },
  {
   "cell_type": "code",
   "execution_count": 4,
   "id": "adce3493-e122-4b2b-8b01-db2391e46954",
   "metadata": {},
   "outputs": [],
   "source": [
    "# drop columns deemed uncessary.\n",
    "df.drop(columns = ['Unnamed: 0','Start_Time','Start_Lat','Start_Lng'],axis = 1,inplace = True)"
   ]
  },
  {
   "cell_type": "code",
   "execution_count": 5,
   "id": "10eeaef6-6d74-4a27-8b2d-4f66f9660d2e",
   "metadata": {},
   "outputs": [],
   "source": [
    "# columns to encode\n",
    "cat_columns = ['Sunrise_Sunset', 'Amenity','Bump','Crossing','Give_Way','Junction',\n",
    "              'No_Exit','Railway','Roundabout','Station','Stop','Traffic_Calming','Traffic_Signal','Sunrise_Sunset']"
   ]
  },
  {
   "cell_type": "code",
   "execution_count": 6,
   "id": "19e6d16f-e867-425e-b7b9-838aca79e0e0",
   "metadata": {},
   "outputs": [
    {
     "data": {
      "text/html": [
       "<div>\n",
       "<style scoped>\n",
       "    .dataframe tbody tr th:only-of-type {\n",
       "        vertical-align: middle;\n",
       "    }\n",
       "\n",
       "    .dataframe tbody tr th {\n",
       "        vertical-align: top;\n",
       "    }\n",
       "\n",
       "    .dataframe thead th {\n",
       "        text-align: right;\n",
       "    }\n",
       "</style>\n",
       "<table border=\"1\" class=\"dataframe\">\n",
       "  <thead>\n",
       "    <tr style=\"text-align: right;\">\n",
       "      <th></th>\n",
       "      <th>Severity</th>\n",
       "      <th>Temperature(F)</th>\n",
       "      <th>Humidity(%)</th>\n",
       "      <th>Pressure(in)</th>\n",
       "      <th>Visibility(mi)</th>\n",
       "      <th>Wind_Speed(mph)</th>\n",
       "      <th>Precipitation(in)</th>\n",
       "      <th>Amenity</th>\n",
       "      <th>Bump</th>\n",
       "      <th>Crossing</th>\n",
       "      <th>...</th>\n",
       "      <th>hour_14</th>\n",
       "      <th>hour_15</th>\n",
       "      <th>hour_16</th>\n",
       "      <th>hour_17</th>\n",
       "      <th>hour_18</th>\n",
       "      <th>hour_19</th>\n",
       "      <th>hour_20</th>\n",
       "      <th>hour_21</th>\n",
       "      <th>hour_22</th>\n",
       "      <th>hour_23</th>\n",
       "    </tr>\n",
       "  </thead>\n",
       "  <tbody>\n",
       "    <tr>\n",
       "      <th>0</th>\n",
       "      <td>1</td>\n",
       "      <td>42.1</td>\n",
       "      <td>58.0</td>\n",
       "      <td>29.76</td>\n",
       "      <td>10.0</td>\n",
       "      <td>10.4</td>\n",
       "      <td>0.00</td>\n",
       "      <td>0</td>\n",
       "      <td>0</td>\n",
       "      <td>0</td>\n",
       "      <td>...</td>\n",
       "      <td>0</td>\n",
       "      <td>0</td>\n",
       "      <td>0</td>\n",
       "      <td>0</td>\n",
       "      <td>0</td>\n",
       "      <td>0</td>\n",
       "      <td>0</td>\n",
       "      <td>0</td>\n",
       "      <td>0</td>\n",
       "      <td>0</td>\n",
       "    </tr>\n",
       "    <tr>\n",
       "      <th>1</th>\n",
       "      <td>0</td>\n",
       "      <td>36.9</td>\n",
       "      <td>91.0</td>\n",
       "      <td>29.68</td>\n",
       "      <td>10.0</td>\n",
       "      <td>0.0</td>\n",
       "      <td>0.02</td>\n",
       "      <td>0</td>\n",
       "      <td>0</td>\n",
       "      <td>0</td>\n",
       "      <td>...</td>\n",
       "      <td>0</td>\n",
       "      <td>0</td>\n",
       "      <td>0</td>\n",
       "      <td>0</td>\n",
       "      <td>0</td>\n",
       "      <td>0</td>\n",
       "      <td>0</td>\n",
       "      <td>0</td>\n",
       "      <td>0</td>\n",
       "      <td>0</td>\n",
       "    </tr>\n",
       "    <tr>\n",
       "      <th>2</th>\n",
       "      <td>0</td>\n",
       "      <td>36.0</td>\n",
       "      <td>97.0</td>\n",
       "      <td>29.70</td>\n",
       "      <td>10.0</td>\n",
       "      <td>0.0</td>\n",
       "      <td>0.02</td>\n",
       "      <td>0</td>\n",
       "      <td>0</td>\n",
       "      <td>0</td>\n",
       "      <td>...</td>\n",
       "      <td>0</td>\n",
       "      <td>0</td>\n",
       "      <td>0</td>\n",
       "      <td>0</td>\n",
       "      <td>0</td>\n",
       "      <td>0</td>\n",
       "      <td>0</td>\n",
       "      <td>0</td>\n",
       "      <td>0</td>\n",
       "      <td>0</td>\n",
       "    </tr>\n",
       "    <tr>\n",
       "      <th>3</th>\n",
       "      <td>0</td>\n",
       "      <td>39.0</td>\n",
       "      <td>55.0</td>\n",
       "      <td>29.65</td>\n",
       "      <td>10.0</td>\n",
       "      <td>0.0</td>\n",
       "      <td>0.00</td>\n",
       "      <td>0</td>\n",
       "      <td>0</td>\n",
       "      <td>0</td>\n",
       "      <td>...</td>\n",
       "      <td>0</td>\n",
       "      <td>0</td>\n",
       "      <td>0</td>\n",
       "      <td>0</td>\n",
       "      <td>0</td>\n",
       "      <td>0</td>\n",
       "      <td>0</td>\n",
       "      <td>0</td>\n",
       "      <td>0</td>\n",
       "      <td>0</td>\n",
       "    </tr>\n",
       "    <tr>\n",
       "      <th>4</th>\n",
       "      <td>1</td>\n",
       "      <td>37.0</td>\n",
       "      <td>93.0</td>\n",
       "      <td>29.69</td>\n",
       "      <td>10.0</td>\n",
       "      <td>10.4</td>\n",
       "      <td>0.01</td>\n",
       "      <td>0</td>\n",
       "      <td>0</td>\n",
       "      <td>0</td>\n",
       "      <td>...</td>\n",
       "      <td>0</td>\n",
       "      <td>0</td>\n",
       "      <td>0</td>\n",
       "      <td>0</td>\n",
       "      <td>0</td>\n",
       "      <td>0</td>\n",
       "      <td>0</td>\n",
       "      <td>0</td>\n",
       "      <td>0</td>\n",
       "      <td>0</td>\n",
       "    </tr>\n",
       "  </tbody>\n",
       "</table>\n",
       "<p>5 rows × 130 columns</p>\n",
       "</div>"
      ],
      "text/plain": [
       "   Severity  Temperature(F)  Humidity(%)  Pressure(in)  Visibility(mi)  \\\n",
       "0         1            42.1         58.0         29.76            10.0   \n",
       "1         0            36.9         91.0         29.68            10.0   \n",
       "2         0            36.0         97.0         29.70            10.0   \n",
       "3         0            39.0         55.0         29.65            10.0   \n",
       "4         1            37.0         93.0         29.69            10.0   \n",
       "\n",
       "   Wind_Speed(mph)  Precipitation(in)  Amenity  Bump  Crossing  ...  hour_14  \\\n",
       "0             10.4               0.00        0     0         0  ...        0   \n",
       "1              0.0               0.02        0     0         0  ...        0   \n",
       "2              0.0               0.02        0     0         0  ...        0   \n",
       "3              0.0               0.00        0     0         0  ...        0   \n",
       "4             10.4               0.01        0     0         0  ...        0   \n",
       "\n",
       "   hour_15  hour_16  hour_17  hour_18  hour_19  hour_20  hour_21  hour_22  \\\n",
       "0        0        0        0        0        0        0        0        0   \n",
       "1        0        0        0        0        0        0        0        0   \n",
       "2        0        0        0        0        0        0        0        0   \n",
       "3        0        0        0        0        0        0        0        0   \n",
       "4        0        0        0        0        0        0        0        0   \n",
       "\n",
       "   hour_23  \n",
       "0        0  \n",
       "1        0  \n",
       "2        0  \n",
       "3        0  \n",
       "4        0  \n",
       "\n",
       "[5 rows x 130 columns]"
      ]
     },
     "execution_count": 6,
     "metadata": {},
     "output_type": "execute_result"
    }
   ],
   "source": [
    "#Converting all Non-Numerical Columns to Numerical\n",
    "'''The code below creates a label encoder object for each of the categorical columns in the dataset. \n",
    "It then transforms the values in those columns using the label encoder objects.'''\n",
    "\n",
    "for col in cat_columns:\n",
    "        globals()['LE_{}'.format(col)] = LabelEncoder()\n",
    "        df[col] = globals()['LE_{}'.format(col)].fit_transform(df[col])\n",
    "df.head()   "
   ]
  },
  {
   "cell_type": "code",
   "execution_count": 7,
   "id": "aa527ac0-4caf-4a1c-ae01-ce6aa5977399",
   "metadata": {},
   "outputs": [],
   "source": [
    "# train, test split\n",
    "X= df.drop('Severity', axis =1 )\n",
    "y = df['Severity']\n",
    "# split train, test\n",
    "X_train, X_test, y_train, y_test = train_test_split(\\\n",
    "  X, y, test_size=0.30,stratify = y, random_state=42)"
   ]
  },
  {
   "cell_type": "code",
   "execution_count": 8,
   "id": "d12d6953-022a-4838-a529-ad4b2863ff86",
   "metadata": {},
   "outputs": [
    {
     "data": {
      "text/plain": [
       "0    0.900065\n",
       "1    0.099935\n",
       "Name: Severity, dtype: float64"
      ]
     },
     "execution_count": 8,
     "metadata": {},
     "output_type": "execute_result"
    }
   ],
   "source": [
    "# check the baseline\n",
    "y.value_counts(normalize = True)"
   ]
  },
  {
   "cell_type": "markdown",
   "id": "ad46f0f9-3eb8-493a-b3fc-3284d65d18ff",
   "metadata": {
    "tags": []
   },
   "source": [
    "### Balancing dataset\n"
   ]
  },
  {
   "cell_type": "markdown",
   "id": "731411ca-8fdd-4c41-8ecd-d8ed5d5ceca0",
   "metadata": {},
   "source": [
    "#### MinMax scale where datapoints fall between 0 and 1."
   ]
  },
  {
   "cell_type": "code",
   "execution_count": 9,
   "id": "88ea730a-eabf-4080-8a40-29b6d995fc07",
   "metadata": {},
   "outputs": [],
   "source": [
    "# scaling all features\n",
    "MMS = MinMaxScaler()\n",
    "x_train_scaled = pd.DataFrame(MMS.fit_transform(X_train), columns=X_train.columns)\n",
    "x_test_scaled = pd.DataFrame(MMS.transform(X_test), columns=X_test.columns)"
   ]
  },
  {
   "cell_type": "code",
   "execution_count": 10,
   "id": "af90ecc7-c846-4e51-ae0c-ee5f86fe4c22",
   "metadata": {},
   "outputs": [],
   "source": [
    "# adding samples to minority class using SMOTE\n",
    "oversample = SMOTE()\n",
    "\n",
    "x_train_oversam, y_train_oversam = oversample.fit_resample(x_train_scaled, y_train)\n",
    "x_test_oversam, y_test_oversam = oversample.fit_resample(x_test_scaled, y_test)"
   ]
  },
  {
   "cell_type": "code",
   "execution_count": 11,
   "id": "4ba3ecf4-e3a4-46ba-a3cf-20fc10340d47",
   "metadata": {},
   "outputs": [
    {
     "data": {
      "text/plain": [
       "0    90.00646\n",
       "1     9.99354\n",
       "Name: Severity, dtype: float64"
      ]
     },
     "execution_count": 11,
     "metadata": {},
     "output_type": "execute_result"
    }
   ],
   "source": [
    "# Original majority and minority class\n",
    "y_train.value_counts(normalize=True)*100"
   ]
  },
  {
   "cell_type": "code",
   "execution_count": 12,
   "id": "12859b4f-266d-4356-88a7-08ad98e8422c",
   "metadata": {},
   "outputs": [
    {
     "data": {
      "text/plain": [
       "0    50.0\n",
       "1    50.0\n",
       "Name: Severity, dtype: float64"
      ]
     },
     "execution_count": 12,
     "metadata": {},
     "output_type": "execute_result"
    }
   ],
   "source": [
    "# after using SMOTE \n",
    "y_train_oversam.value_counts(normalize=True)*100"
   ]
  },
  {
   "cell_type": "markdown",
   "id": "85c1c74e-0b19-4e90-9235-0531ec4c9452",
   "metadata": {},
   "source": [
    "### Machine Learning Model after Balancing"
   ]
  },
  {
   "cell_type": "code",
   "execution_count": 13,
   "id": "3e8bf421-2c65-48cd-be50-157642a14f57",
   "metadata": {},
   "outputs": [
    {
     "name": "stdout",
     "output_type": "stream",
     "text": [
      "Logistic Model Accuracy :  82.5252869058645 %\n",
      "\n",
      "Confusion matrix :\n",
      "[[602197 135240]\n",
      " [122490 614947]]\n",
      "\n",
      "Classification report:\n",
      "              precision    recall  f1-score   support\n",
      "\n",
      "           0       0.83      0.82      0.82    737437\n",
      "           1       0.82      0.83      0.83    737437\n",
      "\n",
      "    accuracy                           0.83   1474874\n",
      "   macro avg       0.83      0.83      0.83   1474874\n",
      "weighted avg       0.83      0.83      0.83   1474874\n",
      "\n"
     ]
    }
   ],
   "source": [
    "# Logistic Regression\n",
    "\n",
    "from sklearn.linear_model import LogisticRegression\n",
    "from sklearn.metrics import classification_report, accuracy_score, confusion_matrix\n",
    "\n",
    "log_model = LogisticRegression(max_iter = 1000)\n",
    "log_model.fit(x_train_oversam, y_train_oversam)\n",
    "\n",
    "print('Logistic Model Accuracy : ', log_model.score(x_test_oversam, y_test_oversam)*100, '%')\n",
    "\n",
    "prediction = log_model.predict(x_test_oversam)\n",
    "print('\\nConfusion matrix :')\n",
    "print(confusion_matrix(y_test_oversam, prediction))\n",
    "      \n",
    "print('\\nClassification report:')      \n",
    "print(classification_report(y_test_oversam, prediction))"
   ]
  },
  {
   "cell_type": "code",
   "execution_count": 14,
   "id": "bafd285e-f532-4839-a454-01f966fd07cd",
   "metadata": {
    "jp-MarkdownHeadingCollapsed": true,
    "tags": []
   },
   "outputs": [
    {
     "name": "stdout",
     "output_type": "stream",
     "text": [
      "Decision Tree Model Accuracy :  87.6369100004475 %\n",
      "\n",
      "Confusion matrix :\n",
      "[[619776 117661]\n",
      " [ 64679 672758]]\n",
      "\n",
      "Classification report:\n",
      "              precision    recall  f1-score   support\n",
      "\n",
      "           0       0.91      0.84      0.87    737437\n",
      "           1       0.85      0.91      0.88    737437\n",
      "\n",
      "    accuracy                           0.88   1474874\n",
      "   macro avg       0.88      0.88      0.88   1474874\n",
      "weighted avg       0.88      0.88      0.88   1474874\n",
      "\n"
     ]
    }
   ],
   "source": [
    "# Decision Tree classification\n",
    "\n",
    "decision_model = DecisionTreeClassifier(max_depth=12,min_samples_split=8)\n",
    "\n",
    "decision_model.fit(x_train_oversam, y_train_oversam)\n",
    "\n",
    "print('Decision Tree Model Accuracy : ', decision_model.score(x_test_oversam, y_test_oversam)*100, '%')\n",
    "\n",
    "prediction = decision_model.predict(x_test_oversam)\n",
    "print('\\nConfusion matrix :')\n",
    "print(confusion_matrix(y_test_oversam, prediction))\n",
    "      \n",
    "print('\\nClassification report:')      \n",
    "print(classification_report(y_test_oversam, prediction))"
   ]
  },
  {
   "cell_type": "markdown",
   "id": "5de2515f-3c3c-4cd1-b22b-44e6a3fcd4d7",
   "metadata": {
    "tags": []
   },
   "source": [
    "### Using random sample since it is difficult to process the whole dataset."
   ]
  },
  {
   "cell_type": "code",
   "execution_count": 15,
   "id": "af40e6ee-9a73-4cef-a80c-5f38ea04542a",
   "metadata": {},
   "outputs": [],
   "source": [
    "df_sample = df.sample(n=1000000)"
   ]
  },
  {
   "cell_type": "code",
   "execution_count": 16,
   "id": "f2d5860c-138f-4da4-bc9f-d68c38055115",
   "metadata": {},
   "outputs": [
    {
     "data": {
      "text/plain": [
       "(1000000, 130)"
      ]
     },
     "execution_count": 16,
     "metadata": {},
     "output_type": "execute_result"
    }
   ],
   "source": [
    "df_sample.shape"
   ]
  },
  {
   "cell_type": "code",
   "execution_count": 17,
   "id": "6bb2e195-42e0-4f30-b5d2-7ee6a7fd3160",
   "metadata": {},
   "outputs": [],
   "source": [
    "# train, test split\n",
    "X= df_sample.drop('Severity', axis =1 )\n",
    "y = df_sample['Severity']\n",
    "# split train, test\n",
    "X_train, X_test, y_train, y_test = train_test_split(\\\n",
    "  X, y, test_size=0.30,stratify = y, random_state=42)"
   ]
  },
  {
   "cell_type": "code",
   "execution_count": 18,
   "id": "6b5c648b-46f0-49af-9cb6-6fff49f6fa22",
   "metadata": {},
   "outputs": [],
   "source": [
    "# scaling all features\n",
    "from sklearn.preprocessing import MinMaxScaler\n",
    "MMS = MinMaxScaler()\n",
    "x_train_scaled = pd.DataFrame(MMS.fit_transform(X_train), columns=X_train.columns)\n",
    "x_test_scaled = pd.DataFrame(MMS.transform(X_test), columns=X_test.columns)"
   ]
  },
  {
   "cell_type": "code",
   "execution_count": 19,
   "id": "9e95d9e4-7fc7-4ccf-8d96-6f22fdc74bb3",
   "metadata": {},
   "outputs": [],
   "source": [
    "# adding samples to minority class using SMOTE\n",
    "from imblearn.over_sampling import SMOTE\n",
    "oversample = SMOTE()\n",
    "\n",
    "x_train_oversam, y_train_oversam = oversample.fit_resample(x_train_scaled, y_train)\n",
    "x_test_oversam, y_test_oversam = oversample.fit_resample(x_test_scaled, y_test)"
   ]
  },
  {
   "cell_type": "code",
   "execution_count": 20,
   "id": "df098807-f838-48a1-ab7e-71c15fbf6d73",
   "metadata": {},
   "outputs": [
    {
     "data": {
      "text/plain": [
       "0    89.989143\n",
       "1    10.010857\n",
       "Name: Severity, dtype: float64"
      ]
     },
     "execution_count": 20,
     "metadata": {},
     "output_type": "execute_result"
    }
   ],
   "source": [
    "# Original majority and minority class\n",
    "y_train.value_counts(normalize=True)*100"
   ]
  },
  {
   "cell_type": "code",
   "execution_count": 21,
   "id": "d7b956fe-1146-4654-b00c-49d042c4ff01",
   "metadata": {},
   "outputs": [
    {
     "data": {
      "text/plain": [
       "0    50.0\n",
       "1    50.0\n",
       "Name: Severity, dtype: float64"
      ]
     },
     "execution_count": 21,
     "metadata": {},
     "output_type": "execute_result"
    }
   ],
   "source": [
    "# after using SMOTE \n",
    "y_train_oversam.value_counts(normalize=True)*100"
   ]
  },
  {
   "cell_type": "code",
   "execution_count": 22,
   "id": "9fb48532-7101-47c0-865f-6b38ca43d3c0",
   "metadata": {},
   "outputs": [
    {
     "name": "stdout",
     "output_type": "stream",
     "text": [
      "Logistic Model Accuracy :  82.70035707935756 %\n",
      "\n",
      "Confusion matrix :\n",
      "[[221145  48823]\n",
      " [ 44584 225384]]\n",
      "\n",
      "Classification report:\n",
      "              precision    recall  f1-score   support\n",
      "\n",
      "           0       0.83      0.82      0.83    269968\n",
      "           1       0.82      0.83      0.83    269968\n",
      "\n",
      "    accuracy                           0.83    539936\n",
      "   macro avg       0.83      0.83      0.83    539936\n",
      "weighted avg       0.83      0.83      0.83    539936\n",
      "\n"
     ]
    }
   ],
   "source": [
    "# Logistic Regression\n",
    "\n",
    "from sklearn.linear_model import LogisticRegression\n",
    "from sklearn.metrics import classification_report, accuracy_score, confusion_matrix\n",
    "\n",
    "log_model = LogisticRegression(max_iter = 40,solver= 'liblinear')\n",
    "log_model.fit(x_train_oversam, y_train_oversam)\n",
    "\n",
    "print('Logistic Model Accuracy : ', log_model.score(x_test_oversam, y_test_oversam)*100, '%')\n",
    "\n",
    "prediction = log_model.predict(x_test_oversam)\n",
    "print('\\nConfusion matrix :')\n",
    "print(confusion_matrix(y_test_oversam, prediction))\n",
    "      \n",
    "print('\\nClassification report:')      \n",
    "print(classification_report(y_test_oversam, prediction))"
   ]
  },
  {
   "cell_type": "markdown",
   "id": "4770a0d5-a38e-4bb4-aca3-45b6d57447be",
   "metadata": {},
   "source": [
    "**Findings**\n",
    "- The Logistic Model Accuracy is 82.81122057673853%.\n",
    "\n",
    "- The confusion matrix shows that 220589 out of 269897 accidents were correctly predicted to be non-severe, while 43476 out of 269897 accidents were incorrectly predicted to be non-severe. Similarly, 226421 out of 269897 accidents were correctly predicted to be severe, while 49308 out of 269897 accidents were incorrectly predicted to be severe.  \n",
    "     - precision: of those who were predicted to have a accident severity of 0, 84% actually had the severity of 0.  \n",
    "     - recall: of those who actually had a accident severity of 0, 82% were predicted severity of 0. "
   ]
  },
  {
   "cell_type": "code",
   "execution_count": 23,
   "id": "782ec22c-26d4-4c31-b834-f496762da3d1",
   "metadata": {},
   "outputs": [
    {
     "name": "stdout",
     "output_type": "stream",
     "text": [
      "Random Forest Model Accuracy :  82.20214988443074 %\n",
      "\n",
      "Confusion matrix :\n",
      "[[207286  62682]\n",
      " [ 33415 236553]]\n",
      "\n",
      "Classification report:\n",
      "              precision    recall  f1-score   support\n",
      "\n",
      "           0       0.86      0.77      0.81    269968\n",
      "           1       0.79      0.88      0.83    269968\n",
      "\n",
      "    accuracy                           0.82    539936\n",
      "   macro avg       0.83      0.82      0.82    539936\n",
      "weighted avg       0.83      0.82      0.82    539936\n",
      "\n"
     ]
    }
   ],
   "source": [
    "# Random Forest classification\n",
    "\n",
    "\n",
    "RandomForest_model = RandomForestClassifier(n_estimators=100,\n",
    "                                            max_depth=4,\n",
    "                                            min_samples_leaf=6)\n",
    "\n",
    "RandomForest_model.fit(x_train_oversam, y_train_oversam)\n",
    "\n",
    "print('Random Forest Model Accuracy : ', RandomForest_model.score(x_test_oversam, y_test_oversam)*100, '%')\n",
    "\n",
    "prediction = RandomForest_model.predict(x_test_oversam)\n",
    "print('\\nConfusion matrix :')\n",
    "print(confusion_matrix(y_test_oversam, prediction))\n",
    "      \n",
    "print('\\nClassification report:')      \n",
    "print(classification_report(y_test_oversam, prediction))"
   ]
  },
  {
   "cell_type": "markdown",
   "id": "2dfea99b-4034-4d5e-b23d-c626f11455ca",
   "metadata": {},
   "source": [
    "**Findings**\n",
    "- The model accuracy is 81.83%. This means that the model correctly predicts the severity of an accident 81.83% of the time.\n",
    "- The confusion matrix shows that the model correctly predicts that an accident is not severe (severity = 0) 210743 times and correctly predicts that an accident is severe (severity = 1) 230987 times. The model also incorrectly predicts that an accident is not severe 59154 times and incorrectly predicts that an accident is severe 38910 times.\n",
    "     - precision: of those who were predicted to have a accident severity of 1, 80% actually had the severity of 1.  \n",
    "     - recall: of those who actually had a accident severity of 1, 86% were predicted severity of 1. "
   ]
  },
  {
   "cell_type": "code",
   "execution_count": 24,
   "id": "8abc7221-f007-46e3-922c-d0a39e494c9a",
   "metadata": {},
   "outputs": [
    {
     "name": "stdout",
     "output_type": "stream",
     "text": [
      "XGBoost Model Accuracy :  95.0870103123333 %\n",
      "\n",
      "Confusion matrix :\n",
      "[[261661   8307]\n",
      " [ 18220 251748]]\n",
      "\n",
      "Classification report:\n",
      "              precision    recall  f1-score   support\n",
      "\n",
      "           0       0.93      0.97      0.95    269968\n",
      "           1       0.97      0.93      0.95    269968\n",
      "\n",
      "    accuracy                           0.95    539936\n",
      "   macro avg       0.95      0.95      0.95    539936\n",
      "weighted avg       0.95      0.95      0.95    539936\n",
      "\n"
     ]
    }
   ],
   "source": [
    "# XGBoost  classification\n",
    "\n",
    "from xgboost import XGBClassifier\n",
    "\n",
    "XGB_model = XGBClassifier()\n",
    "\n",
    "XGB_model.fit(x_train_oversam, y_train_oversam)\n",
    "\n",
    "print('XGBoost Model Accuracy : ', XGB_model.score(x_test_oversam, y_test_oversam)*100, '%')\n",
    "\n",
    "prediction = XGB_model.predict(x_test_oversam)\n",
    "print('\\nConfusion matrix :')\n",
    "print(confusion_matrix(y_test_oversam, prediction))\n",
    "      \n",
    "print('\\nClassification report:')      \n",
    "print(classification_report(y_test_oversam, prediction))"
   ]
  },
  {
   "cell_type": "markdown",
   "id": "1e159b6b-5977-4033-bf77-091393ec81ca",
   "metadata": {},
   "source": [
    "**Findings**\n",
    "- The model accuracy is 95.10%. The model is able to correctly predict the severity of an accident 95.10% of the time.\n",
    "- The confusion matrix shows that the model correctly predicted 260809 (97%) of accidents with a severity of 0 and 252557 (94%) of accidents with a severity of 1.\n",
    "     - precision: of those who were predicted to have a accident severity of 1, 97% actually had the severity of 1.  \n",
    "     - recall: of those who actually had a accident severity of 1, 97% were predicted severity of 1. "
   ]
  },
  {
   "cell_type": "markdown",
   "id": "709eec1b-aca9-4851-b554-bdc016b75014",
   "metadata": {},
   "source": [
    "### Comparing Recall vs Accuracy Trade-off of Logistic Regression and XG Boost:"
   ]
  },
  {
   "cell_type": "code",
   "execution_count": 25,
   "id": "41a32f68-4931-47f3-b615-6d48df3300e7",
   "metadata": {},
   "outputs": [],
   "source": [
    "v_list = np.linspace(0,1,100)\n",
    "xg_sensitivity_list = []\n",
    "lr_sensitivity_list = []\n",
    "xg_accuracy_list = []\n",
    "lr_accuracy_list = []\n",
    "\n",
    "for v in v_list:\n",
    "    y_pred_lr = (log_model.predict_proba(x_test_scaled)[:,1] >= v).astype(bool)\n",
    "    lr_sensitivity = recall_score(y_test, y_pred_lr)\n",
    "    lr_sensitivity_list.append(lr_sensitivity)\n",
    "    lr_accuracy = accuracy_score(y_test, y_pred_lr)\n",
    "    lr_accuracy_list.append(lr_accuracy)\n",
    "\n",
    "for v in v_list:\n",
    "    y_pred_xg = (XGB_model.predict_proba(x_test_scaled)[:,1] >= v).astype(bool)\n",
    "    xg_sensitivity = recall_score(y_test, y_pred_xg)\n",
    "    xg_sensitivity_list.append(xg_sensitivity)\n",
    "    xg_accuracy = accuracy_score(y_test, y_pred_xg)\n",
    "    xg_accuracy_list.append(xg_accuracy)\n"
   ]
  },
  {
   "cell_type": "code",
   "execution_count": 35,
   "id": "05af5063-db49-409d-8a7e-fb54635d7402",
   "metadata": {},
   "outputs": [
    {
     "data": {
      "image/png": "[encoded data removed]",
      "text/plain": [
       "<Figure size 1800x792 with 1 Axes>"
      ]
     },
     "metadata": {
      "needs_background": "light"
     },
     "output_type": "display_data"
    }
   ],
   "source": [
    "plt.figure(figsize=(25,11))\n",
    "plt.plot(v_list, xg_sensitivity_list,'b-', label='XGBoost Sens')\n",
    "plt.plot(v_list, xg_accuracy_list,'b--', label='XGBoost acc')\n",
    "plt.plot(v_list, lr_sensitivity_list,'-', color='orange', label='Logistic Regression Sens')\n",
    "plt.plot(v_list, lr_accuracy_list,'--',color='orange', label='Logistic Regression acc')\n",
    "plt.xlabel('Threshold')\n",
    "plt.legend()\n",
    "plt.title('Accuracy vs Sensitivity for XGBoost and Logistic Regression')\n",
    "plt.savefig('../images/acc_sens.png') \n",
    "plt.show()"
   ]
  },
  {
   "cell_type": "code",
   "execution_count": 27,
   "id": "3311540f-f734-4c81-ae17-a5a6dacb1da0",
   "metadata": {},
   "outputs": [
    {
     "data": {
      "application/vnd.jupyter.widget-view+json": {
       "model_id": "03ca832215d04de782c14f02d09d1b03",
       "version_major": 2,
       "version_minor": 0
      },
      "text/plain": [
       "interactive(children=(FloatSlider(value=0.5, description='Threshold', max=1.0, step=0.001), Output()), _dom_cl…"
      ]
     },
     "metadata": {},
     "output_type": "display_data"
    }
   ],
   "source": [
    "from __future__ import print_function\n",
    "from ipywidgets import interact, interactive, fixed, interact_manual\n",
    "import ipywidgets as widgets\n",
    "@interact\n",
    "def plot(Threshold=(0.0, 1.0, 0.001)):\n",
    "    sns.heatmap(confusion_matrix(y_test, (XGB_model.predict_proba(x_test_scaled)[:,1] >= Threshold).astype(bool), normalize='true'), annot=True)"
   ]
  },
  {
   "cell_type": "code",
   "execution_count": 28,
   "id": "7facbdb5-57c6-4e04-8db2-5b2517d9b1ce",
   "metadata": {},
   "outputs": [
    {
     "data": {
      "text/plain": [
       "<AxesSubplot:>"
      ]
     },
     "execution_count": 28,
     "metadata": {},
     "output_type": "execute_result"
    },
    {
     "data": {
      "image/png": "[encoded data removed]",
      "text/plain": [
       "<Figure size 432x288 with 2 Axes>"
      ]
     },
     "metadata": {
      "needs_background": "light"
     },
     "output_type": "display_data"
    }
   ],
   "source": [
    "sns.heatmap(confusion_matrix(y_test, (XGB_model.predict_proba(x_test_scaled)[:,1] >= .05).astype(bool), normalize='true'), annot=True)"
   ]
  },
  {
   "cell_type": "code",
   "execution_count": 29,
   "id": "d19f4ff5-2058-43ef-9599-ccd2941f85e2",
   "metadata": {},
   "outputs": [
    {
     "data": {
      "application/vnd.jupyter.widget-view+json": {
       "model_id": "ff605248135c400494d7a0d0dbbd5a01",
       "version_major": 2,
       "version_minor": 0
      },
      "text/plain": [
       "interactive(children=(FloatSlider(value=0.5, description='Threshold', max=1.0, step=0.001), Output()), _dom_cl…"
      ]
     },
     "metadata": {},
     "output_type": "display_data"
    }
   ],
   "source": [
    "from __future__ import print_function\n",
    "from ipywidgets import interact, interactive, fixed, interact_manual\n",
    "import ipywidgets as widgets\n",
    "@interact\n",
    "def plot(Threshold=(0.0, 1.0, 0.001)):\n",
    "    sns.heatmap(confusion_matrix(y_test, (log_model.predict_proba(x_test_scaled)[:,1] >= Threshold).astype(bool), normalize='true'), annot=True)"
   ]
  },
  {
   "cell_type": "code",
   "execution_count": 30,
   "id": "fe7930e1-a824-4679-9765-4a3e18bf5643",
   "metadata": {},
   "outputs": [
    {
     "data": {
      "text/plain": [
       "<AxesSubplot:>"
      ]
     },
     "execution_count": 30,
     "metadata": {},
     "output_type": "execute_result"
    },
    {
     "data": {
      "image/png": "[encoded data removed]",
      "text/plain": [
       "<Figure size 432x288 with 2 Axes>"
      ]
     },
     "metadata": {
      "needs_background": "light"
     },
     "output_type": "display_data"
    }
   ],
   "source": [
    "sns.heatmap(confusion_matrix(y_test, (log_model.predict_proba(x_test_scaled)[:,1] >= .4).astype(bool), normalize='true'), annot=True)"
   ]
  },
  {
   "cell_type": "markdown",
   "id": "3fb6afea-4d85-4cca-8467-133a499755c7",
   "metadata": {},
   "source": [
    "XGBoost has slightly higher accuracy than Logistic Regression when recall is equal between the models. This means that our XGBoost model is better at predicting severity overall when optimizing for recall. |"
   ]
  },
  {
   "cell_type": "markdown",
   "id": "d6494eaf-ed8c-4761-985d-6f085bf2477d",
   "metadata": {
    "tags": []
   },
   "source": [
    "#### XGBoost gave the highest accuracy and best recall of all the models created."
   ]
  },
  {
   "cell_type": "markdown",
   "id": "8befc8cc-896c-4c6f-b711-7143513c0714",
   "metadata": {},
   "source": [
    "### Feature Importance"
   ]
  },
  {
   "cell_type": "code",
   "execution_count": 31,
   "id": "8b162ed9-5274-480c-82f0-e69af3901540",
   "metadata": {},
   "outputs": [],
   "source": [
    "'''fit an XGBoost classifier to the training data and compute the feature importances\n",
    "Only get top 14 importance \n",
    "'''\n",
    "model = XGBClassifier()\n",
    "model.fit(x_train_oversam, y_train_oversam)\n",
    "importances = pd.DataFrame(data={\n",
    "    'Attribute': x_train_oversam.columns,\n",
    "    'Importance': model.feature_importances_\n",
    "})\n",
    "importances = importances.sort_values(by='Importance', ascending=False)\n",
    "importances =importances.head(14)"
   ]
  },
  {
   "cell_type": "code",
   "execution_count": 36,
   "id": "a583dc0c-07bb-4e0c-bc5b-d098f6ee2a36",
   "metadata": {},
   "outputs": [
    {
     "data": {
      "image/png": "[encoded data removed]",
      "text/plain": [
       "<Figure size 864x576 with 1 Axes>"
      ]
     },
     "metadata": {
      "needs_background": "light"
     },
     "output_type": "display_data"
    }
   ],
   "source": [
    "# create a bar chart that shows the feature importances obtained from the coefficients of the linear regression model\n",
    "plt.figure(figsize=(12,8))\n",
    "plt.bar(x=importances['Attribute'], height=importances['Importance'], color='#087E8B')\n",
    "plt.title('Feature importances obtained from coefficients', size=14)\n",
    "plt.xticks(rotation='vertical')\n",
    "plt.savefig('../images/feat_importance.png') \n",
    "plt.show()"
   ]
  },
  {
   "cell_type": "markdown",
   "id": "5e632995-4f9c-4565-962e-30b0bb60edcf",
   "metadata": {},
   "source": [
    "The feature importance of our model shows that its more likely for a servere accident to happen in the winter vs other times of the year. Accidents happening at 6am and 5pm appear to have higher chances of being servere as well. Accidents on the west coast also appear to be more servere. Wind speed also appears to be a significant feature in our model. The year 2021 appearing as the most important feature in our model may have to do with the imbalance of data between years. "
   ]
  },
  {
   "cell_type": "markdown",
   "id": "e4c28667-fe50-4b05-9332-bacf9d24d1d5",
   "metadata": {},
   "source": [
    "**References**:\n",
    "- https://towardsdatascience.com/3-essential-ways-to-calculate-feature-importance-in-python-2f9149592155"
   ]
  }
 ],
 "metadata": {
  "kernelspec": {
   "display_name": "Python 3 (ipykernel)",
   "language": "python",
   "name": "python3"
  },
  "language_info": {
   "codemirror_mode": {
    "name": "ipython",
    "version": 3
   },
   "file_extension": ".py",
   "mimetype": "text/x-python",
   "name": "python",
   "nbconvert_exporter": "python",
   "pygments_lexer": "ipython3",
   "version": "3.9.12"
  }
 },
 "nbformat": 4,
 "nbformat_minor": 5
}
