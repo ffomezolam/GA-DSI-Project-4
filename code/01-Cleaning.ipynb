{
 "cells": [
  {
   "cell_type": "code",
   "execution_count": 1,
   "id": "567bf8c4",
   "metadata": {},
   "outputs": [],
   "source": [
    "# Imports\n",
    "import pandas as pd\n",
    "import numpy as np"
   ]
  },
  {
   "cell_type": "code",
   "execution_count": 2,
   "id": "6cb631a9",
   "metadata": {},
   "outputs": [],
   "source": [
    "# Setting a random seed\n",
    "np.random.seed(42)"
   ]
  },
  {
   "cell_type": "code",
   "execution_count": 3,
   "id": "1e457922",
   "metadata": {},
   "outputs": [],
   "source": [
    "# Loading in the dataset\n",
    "df = pd.read_csv('../data/US_Accidents_Dec21_updated.csv')"
   ]
  },
  {
   "cell_type": "markdown",
   "id": "30914b09",
   "metadata": {},
   "source": [
    "# Data Cleaning"
   ]
  },
  {
   "cell_type": "code",
   "execution_count": 4,
   "id": "2baff64a",
   "metadata": {},
   "outputs": [
    {
     "data": {
      "text/plain": [
       "Index(['ID', 'Severity', 'Start_Time', 'End_Time', 'Start_Lat', 'Start_Lng',\n",
       "       'End_Lat', 'End_Lng', 'Distance(mi)', 'Description', 'Number', 'Street',\n",
       "       'Side', 'City', 'County', 'State', 'Zipcode', 'Country', 'Timezone',\n",
       "       'Airport_Code', 'Weather_Timestamp', 'Temperature(F)', 'Wind_Chill(F)',\n",
       "       'Humidity(%)', 'Pressure(in)', 'Visibility(mi)', 'Wind_Direction',\n",
       "       'Wind_Speed(mph)', 'Precipitation(in)', 'Weather_Condition', 'Amenity',\n",
       "       'Bump', 'Crossing', 'Give_Way', 'Junction', 'No_Exit', 'Railway',\n",
       "       'Roundabout', 'Station', 'Stop', 'Traffic_Calming', 'Traffic_Signal',\n",
       "       'Turning_Loop', 'Sunrise_Sunset', 'Civil_Twilight', 'Nautical_Twilight',\n",
       "       'Astronomical_Twilight'],\n",
       "      dtype='object')"
      ]
     },
     "execution_count": 4,
     "metadata": {},
     "output_type": "execute_result"
    }
   ],
   "source": [
    "# Initial columns present in dataset\n",
    "df.columns"
   ]
  },
  {
   "cell_type": "markdown",
   "id": "9fe8248c",
   "metadata": {},
   "source": [
    "## Dropping Columns"
   ]
  },
  {
   "cell_type": "code",
   "execution_count": 5,
   "id": "7a0daa42",
   "metadata": {},
   "outputs": [],
   "source": [
    "df.drop(['Number', 'Zipcode', 'Wind_Chill(F)', 'Airport_Code', 'Nautical_Twilight', 'Astronomical_Twilight',\n",
    "        'Weather_Timestamp', 'ID', 'End_Time', 'End_Lat', 'End_Lng', 'Description', \n",
    "         'Country', 'Civil_Twilight', 'Distance(mi)'], axis = 1, inplace = True)"
   ]
  },
  {
   "cell_type": "markdown",
   "id": "01397d1a",
   "metadata": {},
   "source": [
    "**Reasoning**\n",
    "- Number, representing street number, is too specific of a focus for our purposes\n",
    "- There's no discernible relationship between Zipcode and frequency of accidents or severity of accident\n",
    "- Wind Chill has a highly correlated with temperature and wind speed, with both of the other features having a higher correlation with our target variable, Severity.\n",
    "- Airport Code isn't relevant to our analysis\n",
    "- Nautical Twilight and Astronomical Twilight are similar to our chosen day/night metric (day/night based on Sunrise/Sunset)\n",
    "- Weather Timestamp isn't relevant to our analysis\n",
    "- ID of accident case isn't relevant to our analysis\n",
    "- End_Time, End_Lat, End_Lng aren't meaningful for exploring how to reduce accident severity (should be exploring the start time, latitude, longitude of accidents)\n",
    "- Description of the accident isn't relevant to our analysis \n",
    "- Country is the same across the entire corpus as it details accidents occurring in the U.S.\n",
    "- Civil Twilight is similar to our chosen day/night metric (day/night based on Sunrise/Sunset)\n",
    "- Distance(mi) or length of the road affected by the accident isn't meaningful for exploring the reduction of accident severity as it tracks a value obtained as a result of the accident"
   ]
  },
  {
   "cell_type": "markdown",
   "id": "d9070c06",
   "metadata": {},
   "source": [
    "## Addressing Missing Values"
   ]
  },
  {
   "cell_type": "code",
   "execution_count": 6,
   "id": "770d3aba",
   "metadata": {},
   "outputs": [
    {
     "data": {
      "text/plain": [
       "Precipitation(in)    549458\n",
       "Wind_Speed(mph)      157944\n",
       "Wind_Direction        73775\n",
       "Humidity(%)           73092\n",
       "Weather_Condition     70636\n",
       "Visibility(mi)        70546\n",
       "Temperature(F)        69274\n",
       "Pressure(in)          59200\n",
       "Timezone               3659\n",
       "Sunrise_Sunset         2867\n",
       "City                    137\n",
       "Street                    2\n",
       "dtype: int64"
      ]
     },
     "execution_count": 6,
     "metadata": {},
     "output_type": "execute_result"
    }
   ],
   "source": [
    "# Determining all columns with null values\n",
    "nulls = df.isna().sum().sort_values(ascending = False)\n",
    "nulls = nulls[nulls.values > 0]\n",
    "nulls"
   ]
  },
  {
   "cell_type": "code",
   "execution_count": 7,
   "id": "8dd79ae8",
   "metadata": {},
   "outputs": [
    {
     "data": {
      "text/html": [
       "<div>\n",
       "<style scoped>\n",
       "    .dataframe tbody tr th:only-of-type {\n",
       "        vertical-align: middle;\n",
       "    }\n",
       "\n",
       "    .dataframe tbody tr th {\n",
       "        vertical-align: top;\n",
       "    }\n",
       "\n",
       "    .dataframe thead th {\n",
       "        text-align: right;\n",
       "    }\n",
       "</style>\n",
       "<table border=\"1\" class=\"dataframe\">\n",
       "  <thead>\n",
       "    <tr style=\"text-align: right;\">\n",
       "      <th></th>\n",
       "      <th>Precipitation(in)</th>\n",
       "    </tr>\n",
       "    <tr>\n",
       "      <th>Weather_Condition</th>\n",
       "      <th></th>\n",
       "    </tr>\n",
       "  </thead>\n",
       "  <tbody>\n",
       "    <tr>\n",
       "      <th>Clear</th>\n",
       "      <td>172786</td>\n",
       "    </tr>\n",
       "    <tr>\n",
       "      <th>Overcast</th>\n",
       "      <td>72357</td>\n",
       "    </tr>\n",
       "    <tr>\n",
       "      <th>Mostly Cloudy</th>\n",
       "      <td>72029</td>\n",
       "    </tr>\n",
       "    <tr>\n",
       "      <th>Partly Cloudy</th>\n",
       "      <td>51271</td>\n",
       "    </tr>\n",
       "    <tr>\n",
       "      <th>Fair</th>\n",
       "      <td>45103</td>\n",
       "    </tr>\n",
       "    <tr>\n",
       "      <th>Scattered Clouds</th>\n",
       "      <td>44052</td>\n",
       "    </tr>\n",
       "    <tr>\n",
       "      <th>Cloudy</th>\n",
       "      <td>8959</td>\n",
       "    </tr>\n",
       "    <tr>\n",
       "      <th>Haze</th>\n",
       "      <td>6675</td>\n",
       "    </tr>\n",
       "    <tr>\n",
       "      <th>Light Rain</th>\n",
       "      <td>3908</td>\n",
       "    </tr>\n",
       "    <tr>\n",
       "      <th>Fog</th>\n",
       "      <td>3230</td>\n",
       "    </tr>\n",
       "    <tr>\n",
       "      <th>Rain</th>\n",
       "      <td>2159</td>\n",
       "    </tr>\n",
       "    <tr>\n",
       "      <th>Light Snow</th>\n",
       "      <td>2115</td>\n",
       "    </tr>\n",
       "    <tr>\n",
       "      <th>Smoke</th>\n",
       "      <td>1170</td>\n",
       "    </tr>\n",
       "    <tr>\n",
       "      <th>Thunderstorm</th>\n",
       "      <td>727</td>\n",
       "    </tr>\n",
       "    <tr>\n",
       "      <th>Light Drizzle</th>\n",
       "      <td>609</td>\n",
       "    </tr>\n",
       "    <tr>\n",
       "      <th>Fair / Windy</th>\n",
       "      <td>474</td>\n",
       "    </tr>\n",
       "    <tr>\n",
       "      <th>Mist</th>\n",
       "      <td>454</td>\n",
       "    </tr>\n",
       "    <tr>\n",
       "      <th>Light Freezing Fog</th>\n",
       "      <td>350</td>\n",
       "    </tr>\n",
       "    <tr>\n",
       "      <th>Snow</th>\n",
       "      <td>341</td>\n",
       "    </tr>\n",
       "    <tr>\n",
       "      <th>Patches of Fog</th>\n",
       "      <td>292</td>\n",
       "    </tr>\n",
       "  </tbody>\n",
       "</table>\n",
       "</div>"
      ],
      "text/plain": [
       "                    Precipitation(in)\n",
       "Weather_Condition                    \n",
       "Clear                          172786\n",
       "Overcast                        72357\n",
       "Mostly Cloudy                   72029\n",
       "Partly Cloudy                   51271\n",
       "Fair                            45103\n",
       "Scattered Clouds                44052\n",
       "Cloudy                           8959\n",
       "Haze                             6675\n",
       "Light Rain                       3908\n",
       "Fog                              3230\n",
       "Rain                             2159\n",
       "Light Snow                       2115\n",
       "Smoke                            1170\n",
       "Thunderstorm                      727\n",
       "Light Drizzle                     609\n",
       "Fair / Windy                      474\n",
       "Mist                              454\n",
       "Light Freezing Fog                350\n",
       "Snow                              341\n",
       "Patches of Fog                    292"
      ]
     },
     "execution_count": 7,
     "metadata": {},
     "output_type": "execute_result"
    }
   ],
   "source": [
    "# Exploring null precipitation values per weather condition category\n",
    "pd.DataFrame(df['Precipitation(in)'].isnull().groupby(\n",
    "    by = df['Weather_Condition']).sum().sort_values(ascending = False)).head(20)"
   ]
  },
  {
   "cell_type": "markdown",
   "id": "730b576f",
   "metadata": {},
   "source": [
    "Based off domain knowledge, the 6 weather condition categories with the most null values should have low or zero precipitation. As such, we've imputed their null precipitation values with zero."
   ]
  },
  {
   "cell_type": "code",
   "execution_count": 8,
   "id": "39f821b1",
   "metadata": {},
   "outputs": [],
   "source": [
    "df.loc[(df['Precipitation(in)'].isna()) & (df['Weather_Condition'].str.contains(\n",
    "    'Clear|Overcast|Mostly Cloudy|Partly Cloudy|Fair|Scattered Clouds', regex = True)), ['Precipitation(in)']] = 0"
   ]
  },
  {
   "cell_type": "markdown",
   "id": "7bdd5dd3",
   "metadata": {},
   "source": [
    "We decided to impute the remaining null precipitation values with each weather category's median precipitation, as it's robust to outliers and the precipitation distributions per weather category were largely skewed."
   ]
  },
  {
   "cell_type": "code",
   "execution_count": 9,
   "id": "46fa483a",
   "metadata": {},
   "outputs": [],
   "source": [
    "df['Precipitation(in)'].fillna(df.groupby('Weather_Condition')['Precipitation(in)'].transform(\n",
    "    'median'), inplace = True)"
   ]
  },
  {
   "cell_type": "code",
   "execution_count": 10,
   "id": "547def3d",
   "metadata": {},
   "outputs": [
    {
     "data": {
      "text/plain": [
       "0.020438316378136617"
      ]
     },
     "execution_count": 10,
     "metadata": {},
     "output_type": "execute_result"
    }
   ],
   "source": [
    "df['Precipitation(in)'].isna().sum() / df.shape[0]"
   ]
  },
  {
   "cell_type": "markdown",
   "id": "8975d2b3",
   "metadata": {},
   "source": [
    "Some other precipitation values were null, which we decided to drop entirely as they only constitute a small percentage (~2.04%) of our dataset. "
   ]
  },
  {
   "cell_type": "code",
   "execution_count": 11,
   "id": "23cb08aa",
   "metadata": {},
   "outputs": [],
   "source": [
    "df.dropna(subset = 'Precipitation(in)', inplace = True)"
   ]
  },
  {
   "cell_type": "code",
   "execution_count": 12,
   "id": "6a7b7bed",
   "metadata": {},
   "outputs": [
    {
     "data": {
      "text/plain": [
       "Wind_Direction\n",
       "Calm     76022\n",
       "North     2907\n",
       "Name: Wind_Speed(mph), dtype: int64"
      ]
     },
     "execution_count": 12,
     "metadata": {},
     "output_type": "execute_result"
    }
   ],
   "source": [
    "# Exploring null wind speeds per wind direction category\n",
    "wind_speed_nulls = df['Wind_Speed(mph)'].isnull().groupby(by = df['Wind_Direction']).sum().sort_values(\n",
    "    ascending = False)\n",
    "wind_speed_nulls[wind_speed_nulls.values > 0]"
   ]
  },
  {
   "cell_type": "markdown",
   "id": "ca900f9b",
   "metadata": {},
   "source": [
    "The calm wind direction category has the most null wind speed values. Given our intuition that calm winds should have 0 wind speeds, we imputed the nulls with 0."
   ]
  },
  {
   "cell_type": "code",
   "execution_count": 13,
   "id": "59edd553",
   "metadata": {},
   "outputs": [],
   "source": [
    "df.loc[(df['Wind_Speed(mph)'].isna()) & \n",
    "       (df['Wind_Direction'].str.contains('Calm', regex = True)), ['Wind_Speed(mph)']] = 0"
   ]
  },
  {
   "cell_type": "code",
   "execution_count": 14,
   "id": "dac087ca",
   "metadata": {},
   "outputs": [
    {
     "data": {
      "text/plain": [
       "0.009287138147839328"
      ]
     },
     "execution_count": 14,
     "metadata": {},
     "output_type": "execute_result"
    }
   ],
   "source": [
    "df['Wind_Speed(mph)'].isna().sum() / df.shape[0]"
   ]
  },
  {
   "cell_type": "markdown",
   "id": "3745ff21",
   "metadata": {},
   "source": [
    "We decided to drop the remaining null wind speed rows as they constitute a very small percentage (~0.093) of our dataset. "
   ]
  },
  {
   "cell_type": "code",
   "execution_count": 15,
   "id": "3369cd85",
   "metadata": {},
   "outputs": [],
   "source": [
    "df.dropna(subset = 'Wind_Speed(mph)', inplace = True)"
   ]
  },
  {
   "cell_type": "code",
   "execution_count": 16,
   "id": "71f84bd5",
   "metadata": {
    "scrolled": true
   },
   "outputs": [
    {
     "data": {
      "text/html": [
       "<div>\n",
       "<style scoped>\n",
       "    .dataframe tbody tr th:only-of-type {\n",
       "        vertical-align: middle;\n",
       "    }\n",
       "\n",
       "    .dataframe tbody tr th {\n",
       "        vertical-align: top;\n",
       "    }\n",
       "\n",
       "    .dataframe thead th {\n",
       "        text-align: right;\n",
       "    }\n",
       "</style>\n",
       "<table border=\"1\" class=\"dataframe\">\n",
       "  <thead>\n",
       "    <tr style=\"text-align: right;\">\n",
       "      <th></th>\n",
       "      <th>Temperature(F)</th>\n",
       "      <th>Humidity(%)</th>\n",
       "      <th>Pressure(in)</th>\n",
       "      <th>Visibility(mi)</th>\n",
       "      <th>Wind_Speed(mph)</th>\n",
       "      <th>Precipitation(in)</th>\n",
       "    </tr>\n",
       "  </thead>\n",
       "  <tbody>\n",
       "    <tr>\n",
       "      <th>Temperature(F)</th>\n",
       "      <td>1.000000</td>\n",
       "      <td>-0.366206</td>\n",
       "      <td>0.137220</td>\n",
       "      <td>0.210497</td>\n",
       "      <td>0.086516</td>\n",
       "      <td>-0.004348</td>\n",
       "    </tr>\n",
       "    <tr>\n",
       "      <th>Humidity(%)</th>\n",
       "      <td>-0.366206</td>\n",
       "      <td>1.000000</td>\n",
       "      <td>0.139746</td>\n",
       "      <td>-0.363129</td>\n",
       "      <td>-0.181569</td>\n",
       "      <td>0.074751</td>\n",
       "    </tr>\n",
       "    <tr>\n",
       "      <th>Pressure(in)</th>\n",
       "      <td>0.137220</td>\n",
       "      <td>0.139746</td>\n",
       "      <td>1.000000</td>\n",
       "      <td>0.035240</td>\n",
       "      <td>-0.054383</td>\n",
       "      <td>0.006759</td>\n",
       "    </tr>\n",
       "    <tr>\n",
       "      <th>Visibility(mi)</th>\n",
       "      <td>0.210497</td>\n",
       "      <td>-0.363129</td>\n",
       "      <td>0.035240</td>\n",
       "      <td>1.000000</td>\n",
       "      <td>0.037998</td>\n",
       "      <td>-0.114270</td>\n",
       "    </tr>\n",
       "    <tr>\n",
       "      <th>Wind_Speed(mph)</th>\n",
       "      <td>0.086516</td>\n",
       "      <td>-0.181569</td>\n",
       "      <td>-0.054383</td>\n",
       "      <td>0.037998</td>\n",
       "      <td>1.000000</td>\n",
       "      <td>0.022316</td>\n",
       "    </tr>\n",
       "    <tr>\n",
       "      <th>Precipitation(in)</th>\n",
       "      <td>-0.004348</td>\n",
       "      <td>0.074751</td>\n",
       "      <td>0.006759</td>\n",
       "      <td>-0.114270</td>\n",
       "      <td>0.022316</td>\n",
       "      <td>1.000000</td>\n",
       "    </tr>\n",
       "  </tbody>\n",
       "</table>\n",
       "</div>"
      ],
      "text/plain": [
       "                   Temperature(F)  Humidity(%)  Pressure(in)  Visibility(mi)  \\\n",
       "Temperature(F)           1.000000    -0.366206      0.137220        0.210497   \n",
       "Humidity(%)             -0.366206     1.000000      0.139746       -0.363129   \n",
       "Pressure(in)             0.137220     0.139746      1.000000        0.035240   \n",
       "Visibility(mi)           0.210497    -0.363129      0.035240        1.000000   \n",
       "Wind_Speed(mph)          0.086516    -0.181569     -0.054383        0.037998   \n",
       "Precipitation(in)       -0.004348     0.074751      0.006759       -0.114270   \n",
       "\n",
       "                   Wind_Speed(mph)  Precipitation(in)  \n",
       "Temperature(F)            0.086516          -0.004348  \n",
       "Humidity(%)              -0.181569           0.074751  \n",
       "Pressure(in)             -0.054383           0.006759  \n",
       "Visibility(mi)            0.037998          -0.114270  \n",
       "Wind_Speed(mph)           1.000000           0.022316  \n",
       "Precipitation(in)         0.022316           1.000000  "
      ]
     },
     "execution_count": 16,
     "metadata": {},
     "output_type": "execute_result"
    }
   ],
   "source": [
    "# Exploring what columns might be correlated to Humidity to support imputation process\n",
    "df[['Temperature(F)', 'Humidity(%)', 'Pressure(in)', 'Visibility(mi)', \n",
    "    'Wind_Speed(mph)', 'Precipitation(in)']].corr()"
   ]
  },
  {
   "cell_type": "code",
   "execution_count": 17,
   "id": "f5e30f92",
   "metadata": {},
   "outputs": [
    {
     "data": {
      "text/plain": [
       "0.004762606638967183"
      ]
     },
     "execution_count": 17,
     "metadata": {},
     "output_type": "execute_result"
    }
   ],
   "source": [
    "# Number of rows with null humidity compared to entire df\n",
    "13151 / df.shape[0]"
   ]
  },
  {
   "cell_type": "markdown",
   "id": "86d1dc95",
   "metadata": {},
   "source": [
    "We dropped null humidities as they constitute a very small percentage of data (~0.048%) and lack of domain knowledge.\n"
   ]
  },
  {
   "cell_type": "code",
   "execution_count": 18,
   "id": "fd8eb447",
   "metadata": {},
   "outputs": [],
   "source": [
    "df.dropna(subset = 'Humidity(%)', inplace = True)"
   ]
  },
  {
   "cell_type": "code",
   "execution_count": 19,
   "id": "0b9875ac",
   "metadata": {},
   "outputs": [
    {
     "data": {
      "text/plain": [
       "Visibility(mi)       7949\n",
       "Weather_Condition    6600\n",
       "Sunrise_Sunset       2256\n",
       "Pressure(in)         2001\n",
       "City                  132\n",
       "Wind_Direction         30\n",
       "Street                  1\n",
       "dtype: int64"
      ]
     },
     "execution_count": 19,
     "metadata": {},
     "output_type": "execute_result"
    }
   ],
   "source": [
    "# Examining the remaining columns/features with nulls\n",
    "temp = df.isna().sum().sort_values(ascending = False)\n",
    "temp = temp[temp.values > 0]\n",
    "temp"
   ]
  },
  {
   "cell_type": "code",
   "execution_count": 20,
   "id": "cfb86b47",
   "metadata": {},
   "outputs": [
    {
     "data": {
      "text/plain": [
       "Index(['Visibility(mi)', 'Weather_Condition', 'Sunrise_Sunset', 'Pressure(in)',\n",
       "       'City', 'Wind_Direction', 'Street'],\n",
       "      dtype='object')"
      ]
     },
     "execution_count": 20,
     "metadata": {},
     "output_type": "execute_result"
    }
   ],
   "source": [
    "temp.index"
   ]
  },
  {
   "cell_type": "markdown",
   "id": "b1b78b6b",
   "metadata": {},
   "source": [
    "We dropped the remaining null values as they all constitute a very small percentage of our dataset."
   ]
  },
  {
   "cell_type": "code",
   "execution_count": 21,
   "id": "6117fd65",
   "metadata": {},
   "outputs": [],
   "source": [
    "df.dropna(subset = ['Visibility(mi)', 'Weather_Condition', 'Sunrise_Sunset',\n",
    "       'Pressure(in)', 'City', 'Wind_Direction', 'Street'], inplace = True)"
   ]
  },
  {
   "cell_type": "markdown",
   "id": "43224dae",
   "metadata": {},
   "source": [
    "### Dropping remaining irrelevant columns"
   ]
  },
  {
   "cell_type": "markdown",
   "id": "f80abf52",
   "metadata": {},
   "source": [
    "We dropped the wind direction category as we weren't interested in exploring it for our project."
   ]
  },
  {
   "cell_type": "code",
   "execution_count": 22,
   "id": "e1d33cce",
   "metadata": {},
   "outputs": [],
   "source": [
    "df.drop(['Wind_Direction'], axis = 1, inplace = True)"
   ]
  },
  {
   "cell_type": "code",
   "execution_count": 23,
   "id": "7931d412",
   "metadata": {},
   "outputs": [],
   "source": [
    "# Exporting cleaned df to csv\n",
    "df.to_csv('../data/cleaned_df.csv')"
   ]
  }
 ],
 "metadata": {
  "kernelspec": {
   "display_name": "Python 3 (ipykernel)",
   "language": "python",
   "name": "python3"
  },
  "language_info": {
   "codemirror_mode": {
    "name": "ipython",
    "version": 3
   },
   "file_extension": ".py",
   "mimetype": "text/x-python",
   "name": "python",
   "nbconvert_exporter": "python",
   "pygments_lexer": "ipython3",
   "version": "3.10.4"
  }
 },
 "nbformat": 4,
 "nbformat_minor": 5
}
